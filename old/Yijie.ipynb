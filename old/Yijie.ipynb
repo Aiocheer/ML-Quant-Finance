{
 "cells": [
  {
   "cell_type": "code",
   "execution_count": 2,
   "metadata": {},
   "outputs": [],
   "source": [
    "#Original method: predicting weights directly\n",
    "\n",
    "\n",
    "#import packages \n",
    "import pdb\n",
    "import numpy as np\n",
    "import itertools\n",
    "\n",
    "from keras.models import Sequential\n",
    "from keras.optimizers import SGD, Adam\n",
    "from keras.layers import Conv2D, Dense, Dropout, Flatten, MaxPooling2D\n",
    "from keras.utils import np_utils\n",
    "from keras.callbacks import Callback\n",
    "from keras.datasets import mnist\n",
    "from keras import backend as K\n",
    "from keras.initializers import VarianceScaling\n",
    "from matplotlib import pyplot as plt\n",
    "from keras.models import Sequential\n",
    "from keras.layers import Dense, Dropout\n",
    "from keras.layers import Embedding\n",
    "from keras.layers import LSTM\n",
    "\n",
    "import matplotlib.pyplot as plt\n",
    "import matplotlib.pyplot as plt2\n",
    "\n",
    "import pandas as pd \n",
    "import os \n",
    "\n",
    "#data \n",
    "os.getcwd()\n",
    "path = 'C:\\\\Users\\Wyj\\desktop'\n",
    "os.chdir(path)\n",
    "\n",
    "high_p = pd.read_excel('data.xlsx',sheet_name='High')\n",
    "low_p = pd.read_excel('data.xlsx',sheet_name='Low')\n",
    "close_p = pd.read_excel('data.xlsx',sheet_name='Close')\n",
    "\n",
    "#construct x and y \n",
    "N = 20000\n",
    "\n",
    "def softmax(z):\n",
    "    a = []\n",
    "    for i in z:\n",
    "        a.append(np.exp(i)/np.sum(np.exp(z)))\n",
    "    return a\n",
    "\n",
    "\n",
    "high = high_p.values\n",
    "low = low_p.values\n",
    "close = close_p.values\n",
    "\n",
    "x = []\n",
    "x_p = np.zeros((50,5,3))\n",
    "\n",
    "y = []\n",
    "y_p = np.zeros((5,1))\n",
    "\n",
    "\n",
    "for i in range(N):\n",
    "    # one price tensor  \n",
    "    x_p[:,:,0] = high[i:(50+i),:]       \n",
    "    x_p[:,:,1] = low[i:(50+i),:]\n",
    "    x_p[:,:,2] = close[i:(50+i),:] \n",
    "    x.append(x_p) \n",
    "    #x1[i,:,0] = high[i:(50+i),1]       \n",
    "    #x1[i,:,1] = low[i:(50+i),1]\n",
    "    #x1[i,:,2] = close[i:(50+i),1] \n",
    "    # one output vector \n",
    "    # scaling \n",
    "    test = close[(50+i),:]-close[(49+i),:]\n",
    "    y_p = softmax(test) \n",
    "    y.append(y_p)\n",
    "    #y1[i,1] = close[(50+i),1]-close[(49+i),1]\n",
    "    "
   ]
  },
  {
   "cell_type": "code",
   "execution_count": 27,
   "metadata": {},
   "outputs": [
    {
     "name": "stdout",
     "output_type": "stream",
     "text": [
      "Epoch 1/1\n",
      "15000/15000 [==============================] - 2s 106us/step - loss: 3.2236 - acc: 0.0000e+00\n",
      "5000/5000 [==============================] - 0s 77us/step\n",
      "Epoch 1/1\n",
      "15000/15000 [==============================] - 2s 100us/step - loss: 3.2236 - acc: 0.0000e+00\n",
      "5000/5000 [==============================] - 0s 78us/step\n",
      "Epoch 1/1\n",
      "15000/15000 [==============================] - 2s 103us/step - loss: 0.5010 - acc: 0.0000e+00\n",
      "5000/5000 [==============================] - 0s 82us/step\n",
      "Epoch 1/1\n",
      "15000/15000 [==============================] - 2s 104us/step - loss: 3.2236 - acc: 0.0000e+00\n",
      "5000/5000 [==============================] - 0s 89us/step\n",
      "Epoch 1/1\n",
      "15000/15000 [==============================] - 2s 111us/step - loss: 12.7539 - acc: 0.0000e+00\n",
      "5000/5000 [==============================] - 0s 95us/step\n",
      "22.92515894947052\n"
     ]
    }
   ],
   "source": [
    "#model construction \n",
    "\n",
    "w = np.zeros((int(N*0.25),5))\n",
    "p = np.zeros((int(N*0.25),5))\n",
    "scores = np.zeros((5,3))\n",
    "for j in range(5):\n",
    "    x1 = np.zeros((N,50,3))\n",
    "    y1 = np.zeros((N,1))\n",
    "\n",
    "    for i in range(N):\n",
    "        x1[i,:,:] = x[i][:,j,:]\n",
    "        y1[i,0] = y[i][j]\n",
    "\n",
    "    tr1 = (x1[:int(N*0.75),:,1],y1[:int(N*0.75),:])\n",
    "    te1 = (x1[int(N*0.75):,:,1],y1[int(N*0.75):,:])\n",
    "    \n",
    "    p[:,j] = close[int(N*0.75):N,j]/close[int(N*0.75-1):N-1,j]\n",
    "    \n",
    "    #NN\n",
    "    model0 = Sequential()\n",
    "    model0.add(Dense(units=12, input_dim=50, activation='relu'))\n",
    "    model0.add(Dense(units=8, activation='relu'))\n",
    "    model0.add(Dense(units=1, activation='linear'))\n",
    "    model0.compile(loss='binary_crossentropy', optimizer='adam', metrics=['accuracy'])\n",
    "    model0.fit(tr1[0], tr1[1])\n",
    "    #w[:,j] = model0.predict(te1[0])\n",
    "    scores[j,0] = model0.evaluate(te1[0], te1[1])[0]\n",
    "    pred = model0.predict(te1[0])\n",
    "    w[:,j] = pred[:,0]\n",
    "    #layers = [Dense(input_dim=(50*3), units=24, activation='relu'),\n",
    "    #          Dense(units=12, activation='relu'),\n",
    "    #          Dense(units=4, activation='relu'),\n",
    "    #          Dense(units=1, activation=\"linear\")]\n",
    "    #run_keras_fc_mnist(tr1, te1, layers, epochs=1, split=0.1, trials=5)\n",
    "total_score = np.sum(scores)    \n",
    "print(total_score)"
   ]
  },
  {
   "cell_type": "code",
   "execution_count": 28,
   "metadata": {
    "scrolled": true
   },
   "outputs": [
    {
     "data": {
      "text/plain": [
       "[<matplotlib.lines.Line2D at 0x258e7ba8>]"
      ]
     },
     "execution_count": 28,
     "metadata": {},
     "output_type": "execute_result"
    },
    {
     "data": {
      "image/png": "[encoded data removed]",
      "text/plain": [
       "<matplotlib.figure.Figure at 0x1fff69b0>"
      ]
     },
     "metadata": {},
     "output_type": "display_data"
    }
   ],
   "source": [
    "#return plot \n",
    "ret = np.ones((int(N*0.25),1))\n",
    "\n",
    "#w[0,:] = w[0,:]/np.sum(w[0,:])\n",
    "#print(w[0,:]*p[i+1,:])\n",
    "\n",
    "for i in range(int(N*0.25)-1):\n",
    "    w[i,:] = w[i,:]/np.sum(w[i,:])\n",
    "    ret[i+1,0] = ret[i,0]*np.sum(w[i,:]*p[i+1,:])\n",
    "\n",
    "\n",
    "plt2.plot(ret[:,0])"
   ]
  },
  {
   "cell_type": "code",
   "execution_count": 35,
   "metadata": {},
   "outputs": [
    {
     "name": "stdout",
     "output_type": "stream",
     "text": [
      "Epoch 1/1\n",
      "15000/15000 [==============================] - 4s 245us/step - loss: 0.5241 - acc: 0.0000e+00\n",
      "5000/5000 [==============================] - 1s 148us/step\n",
      "0.5070271118164063\n",
      "Epoch 1/1\n",
      "15000/15000 [==============================] - 3s 232us/step - loss: 0.5335 - acc: 0.0000e+00\n",
      "5000/5000 [==============================] - 1s 148us/step\n",
      "0.5153592548370362\n",
      "Epoch 1/1\n",
      "15000/15000 [==============================] - 3s 222us/step - loss: 3.2236 - acc: 0.0000e+00\n",
      "5000/5000 [==============================] - 1s 150us/step\n",
      "3.2236240612030027\n",
      "Epoch 1/1\n",
      "15000/15000 [==============================] - 4s 238us/step - loss: 1.8815 - acc: 0.0000e+00\n",
      "5000/5000 [==============================] - 1s 152us/step\n",
      "3.2236272060394286\n",
      "Epoch 1/1\n",
      "15000/15000 [==============================] - 4s 242us/step - loss: 0.5642 - acc: 0.0000e+00\n",
      "5000/5000 [==============================] - 1s 163us/step\n",
      "0.5041830247879028\n"
     ]
    }
   ],
   "source": [
    "#CNN\n",
    "w1 = np.zeros((int(N*0.25),5))\n",
    "\n",
    "for j in range(5):\n",
    "    x1 = np.zeros((N,50,3))\n",
    "    y1 = np.zeros((N,1))\n",
    "\n",
    "    for i in range(N):\n",
    "        x1[i,:,:] = x[i][:,j,:]\n",
    "        y1[i,0] = y[i][j]\n",
    "\n",
    "    tr1 = (x1[:int(N*0.75),:,:],y1[:int(N*0.75),:])\n",
    "    tr1 = (tr1[0].reshape((tr1[0].shape[0],tr1[0].shape[1],tr1[0].shape[2],1)),y1[:int(N*0.75),:])\n",
    "    te1 = (x1[int(N*0.75):,:,:],y1[int(N*0.75):,:])\n",
    "    te1 = (te1[0].reshape((te1[0].shape[0],te1[0].shape[1],te1[0].shape[2],1)),y1[int(N*0.75):,:])\n",
    "    \n",
    "    #RNN\n",
    "    model1 = Sequential()\n",
    "    model1.add(Conv2D(24, (3, 1), activation='relu', input_shape=(50, 3,1)))\n",
    "    model1.add(MaxPooling2D(pool_size=(2, 1)))\n",
    "    model1.add(Flatten())\n",
    "    model1.add(Dense(12, activation='relu'))\n",
    "    model1.add(Dropout(0.5))\n",
    "    model1.add(Dense(units=4, activation=\"relu\"))\n",
    "    model1.add(Dense(units=1, activation=\"linear\"))\n",
    "    model1.compile(loss='binary_crossentropy', optimizer='adam', metrics=['accuracy'])\n",
    "    \n",
    "    model1.fit(tr1[0], tr1[1])\n",
    "    scores1 = model1.evaluate(te1[0], te1[1])[0]\n",
    "    pred1 = model1.predict(te1[0])\n",
    "    w1[:,j] = pred1[:,0]\n",
    "    print(scores1)\n"
   ]
  },
  {
   "cell_type": "code",
   "execution_count": 37,
   "metadata": {},
   "outputs": [
    {
     "data": {
      "text/plain": [
       "[<matplotlib.lines.Line2D at 0x398d94a8>]"
      ]
     },
     "execution_count": 37,
     "metadata": {},
     "output_type": "execute_result"
    },
    {
     "data": {
      "image/png": "[encoded data removed]",
      "text/plain": [
       "<matplotlib.figure.Figure at 0x267c9a20>"
      ]
     },
     "metadata": {},
     "output_type": "display_data"
    }
   ],
   "source": [
    "#return plot 2\n",
    "ret1 = np.ones((int(N*0.25),1))\n",
    "\n",
    "#w[0,:] = w[0,:]/np.sum(w[0,:])\n",
    "#print(w[0,:]*p[i+1,:])\n",
    "\n",
    "for i in range(int(N*0.25)-1):\n",
    "    w1[i,:] = w1[i,:]/np.sum(w1[i,:])\n",
    "    ret1[i+1,0] = ret1[i,0]*np.sum(w1[i,:]*p[i+1,:])\n",
    "\n",
    "\n",
    "plt2.plot(ret1[:,0])\n"
   ]
  },
  {
   "cell_type": "code",
   "execution_count": 33,
   "metadata": {},
   "outputs": [
    {
     "name": "stdout",
     "output_type": "stream",
     "text": [
      "(5000, 1)\n",
      "(15000, 50, 3, 1)\n"
     ]
    }
   ],
   "source": [
    "#unworked models \n",
    "#LSTM\n",
    "model3 = Sequential()\n",
    "model3.add(Embedding(max_features, output_dim=12))\n",
    "model3.add(LSTM(12))\n",
    "model3.add(Dropout(0.5))\n",
    "model3.add(Dense(1, activation='linear'))\n",
    "model3.compile(loss='binary_crossentropy',\n",
    "optimizer='rmsprop',\n",
    "metrics=['accuracy'])\n",
    "model3.fit(tr1[0], tr1[1])\n",
    "scores3 = model3.evaluate(te1[0], te1[1])"
   ]
  },
  {
   "cell_type": "code",
   "execution_count": null,
   "metadata": {},
   "outputs": [],
   "source": []
  }
 ],
 "metadata": {
  "kernelspec": {
   "display_name": "Python 3",
   "language": "python",
   "name": "python3"
  },
  "language_info": {
   "codemirror_mode": {
    "name": "ipython",
    "version": 3
   },
   "file_extension": ".py",
   "mimetype": "text/x-python",
   "name": "python",
   "nbconvert_exporter": "python",
   "pygments_lexer": "ipython3",
   "version": "3.6.4"
  }
 },
 "nbformat": 4,
 "nbformat_minor": 2
}
