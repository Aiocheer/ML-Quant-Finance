{
 "cells": [
  {
   "cell_type": "markdown",
   "metadata": {},
   "source": [
    "# Part I: Set Up"
   ]
  },
  {
   "cell_type": "markdown",
   "metadata": {},
   "source": [
    "- Import Packages"
   ]
  },
  {
   "cell_type": "code",
<<<<<<< HEAD
   "execution_count": 1,
   "metadata": {},
   "outputs": [
    {
     "name": "stderr",
     "output_type": "stream",
     "text": [
      "/Users/michelcassard/anaconda3/lib/python3.6/site-packages/h5py/__init__.py:34: FutureWarning: Conversion of the second argument of issubdtype from `float` to `np.floating` is deprecated. In future, it will be treated as `np.float64 == np.dtype(float).type`.\n",
      "  from ._conv import register_converters as _register_converters\n",
      "Using TensorFlow backend.\n"
     ]
    }
   ],
=======
   "execution_count": 121,
   "metadata": {},
   "outputs": [],
>>>>>>> 796c8c689e39c6c097b216351b531192a054dfbd
   "source": [
    "import seaborn as sns\n",
    "import numpy as np\n",
    "import matplotlib.pyplot as plt\n",
    "import matplotlib.pyplot as plt2\n",
    "import pandas as pd\n",
    "from pandas import datetime\n",
    "import math, time\n",
    "import itertools\n",
    "from sklearn import preprocessing\n",
    "import datetime\n",
    "from sklearn.metrics import mean_squared_error\n",
    "from math import sqrt\n",
    "from keras.models import Sequential\n",
    "from keras.layers.core import Dense, Dropout, Activation\n",
    "from keras.layers.recurrent import LSTM\n",
    "from keras.models import load_model\n",
    "import keras\n",
    "import h5py\n",
    "import os\n",
    "from statistics import mean\n",
    "from keras import backend as K"
   ]
  },
  {
   "cell_type": "markdown",
   "metadata": {},
   "source": [
    "- Initialize Variables"
   ]
  },
  {
   "cell_type": "code",
<<<<<<< HEAD
   "execution_count": 3,
=======
   "execution_count": 122,
>>>>>>> 796c8c689e39c6c097b216351b531192a054dfbd
   "metadata": {},
   "outputs": [],
   "source": [
    "seq_len = 22\n",
    "shape = [seq_len, 9, 1]\n",
    "neurons = [256, 256, 32, 1]\n",
    "dropout = 0.3\n",
    "decay = 0.5\n",
    "epochs = 90\n",
<<<<<<< HEAD
    "#os.chdir(\"/Users/youssefberrada/Dropbox (MIT)/15.961 Independant Study/Data\")\n",
    "os.chdir(\"/Users/michelcassard/Dropbox (MIT)/15.960 Independant Study/Data\")\n",
=======
    "os.chdir(\"/Users/youssefberrada/Dropbox (MIT)/15.961 Independant Study/Data\")\n",
>>>>>>> 796c8c689e39c6c097b216351b531192a054dfbd
    "file = 'FX-5.xlsx'\n",
    "# Load spreadsheet\n",
    "xl = pd.ExcelFile(file)"
   ]
  },
  {
   "cell_type": "markdown",
   "metadata": {},
   "source": [
    "# Part 2: Data"
   ]
  },
  {
   "cell_type": "markdown",
   "metadata": {},
   "source": [
    "- Load Data"
   ]
  },
  {
   "cell_type": "code",
<<<<<<< HEAD
   "execution_count": 4,
   "metadata": {
    "collapsed": true
   },
=======
   "execution_count": 124,
   "metadata": {},
>>>>>>> 796c8c689e39c6c097b216351b531192a054dfbd
   "outputs": [],
   "source": [
    "def get_stock_data(stock_name, ma=[]):\n",
    "    \"\"\"\n",
    "    Return a dataframe of that stock and normalize all the values. \n",
    "    (Optional: create moving average)\n",
    "    \n",
    "    \"\"\"\n",
    "    df = xl.parse(stock_name)\n",
    "    df.drop(['VOLUME'], 1, inplace=True)\n",
    "    df.set_index('Date', inplace=True)\n",
    "    \n",
    "    # Renaming all the columns so that we can use the old version code\n",
    "    df.rename(columns={'OPEN': 'Open', 'HIGH': 'High', 'LOW': 'Low', 'NUMBER_TICKS': 'Volume', 'LAST_PRICE': 'Adj Close'}, inplace=True)\n",
    "     # Percentage change\n",
    "    df['Pct'] = df['Adj Close'].pct_change()\n",
    "    df.dropna(inplace=True)\n",
    "    \n",
    "    # Moving Average    \n",
    "    if ma != []:\n",
    "        for moving in ma:\n",
    "            df['{}ma'.format(moving)] = df['Adj Close'].rolling(window=moving).mean()\n",
    "    df.dropna(inplace=True)\n",
    "    \n",
    "  \n",
    "    # Move Adj Close to the rightmost for the ease of training\n",
    "    adj_close = df['Adj Close']\n",
    "    df.drop(labels=['Adj Close'], axis=1, inplace=True)\n",
    "    df = pd.concat([df, adj_close], axis=1)\n",
    "      \n",
    "    return df"
   ]
  },
  {
   "cell_type": "code",
<<<<<<< HEAD
   "execution_count": 5,
   "metadata": {
    "collapsed": true
   },
=======
   "execution_count": 125,
   "metadata": {},
>>>>>>> 796c8c689e39c6c097b216351b531192a054dfbd
   "outputs": [],
   "source": [
    "df_GBP=get_stock_data(\"GBP Curncy\",  ma=[50, 100, 200])"
   ]
  },
  {
   "cell_type": "markdown",
   "metadata": {},
   "source": [
    "- Visualize the data"
   ]
  },
  {
   "cell_type": "code",
<<<<<<< HEAD
   "execution_count": 6,
   "metadata": {
    "collapsed": true
   },
=======
   "execution_count": 126,
   "metadata": {},
>>>>>>> 796c8c689e39c6c097b216351b531192a054dfbd
   "outputs": [],
   "source": [
    "def plot_stock(df):\n",
    "    print(df.head())\n",
    "    plt.subplot(211)\n",
    "    plt.plot(df['Adj Close'], color='red', label='Adj Close')\n",
    "    plt.legend(loc='best')\n",
    "    plt.subplot(212)\n",
    "    plt.plot(df['Pct'], color='blue', label='Percentage change')\n",
    "    plt.legend(loc='best')\n",
    "    plt.show()"
   ]
  },
  {
   "cell_type": "code",
<<<<<<< HEAD
   "execution_count": 7,
=======
   "execution_count": 127,
>>>>>>> 796c8c689e39c6c097b216351b531192a054dfbd
   "metadata": {},
   "outputs": [
    {
     "name": "stdout",
     "output_type": "stream",
     "text": [
      "                       Open    High     Low  Volume       Pct      50ma  \\\n",
      "Date                                                                      \n",
      "2017-09-26 09:45:00  1.3442  1.3444  1.3433    4299 -0.000372  1.343802   \n",
      "2017-09-26 09:50:00  1.3437  1.3447  1.3437    4947  0.000521  1.343738   \n",
      "2017-09-26 09:55:00  1.3444  1.3446  1.3431    5552 -0.000818  1.343648   \n",
      "2017-09-26 10:00:00  1.3433  1.3438  1.3431    7210  0.000074  1.343562   \n",
      "2017-09-26 10:05:00  1.3434  1.3443  1.3432    5257  0.000447  1.343502   \n",
      "\n",
      "                        100ma     200ma  Adj Close  \n",
      "Date                                                \n",
      "2017-09-26 09:45:00  1.346129  1.346931     1.3437  \n",
      "2017-09-26 09:50:00  1.346099  1.346920     1.3444  \n",
      "2017-09-26 09:55:00  1.346056  1.346904     1.3433  \n",
      "2017-09-26 10:00:00  1.346018  1.346886     1.3434  \n",
      "2017-09-26 10:05:00  1.345986  1.346872     1.3440  \n"
     ]
    },
    {
     "data": {
<<<<<<< HEAD
      "image/png": "iVBORw0KGgoAAAANSUhEUgAAAYwAAAD8CAYAAABkbJM/AAAABHNCSVQICAgIfAhkiAAAAAlwSFlz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\nQmCC\n",
      "text/plain": [
       "<matplotlib.figure.Figure at 0x1a1ee479b0>"
=======
      "image/png": "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\n",
      "text/plain": [
       "<matplotlib.figure.Figure at 0x1a465aa1d0>"
>>>>>>> 796c8c689e39c6c097b216351b531192a054dfbd
      ]
     },
     "metadata": {},
     "output_type": "display_data"
    }
   ],
   "source": [
    "plot_stock(df_GBP)"
   ]
  },
  {
   "cell_type": "markdown",
   "metadata": {},
   "source": [
    "- Training/Test Set"
   ]
  },
  {
   "cell_type": "code",
   "execution_count": 128,
<<<<<<< HEAD
   "metadata": {
    "collapsed": true
   },
=======
   "metadata": {},
>>>>>>> 796c8c689e39c6c097b216351b531192a054dfbd
   "outputs": [],
   "source": [
    "def load_data(stock,normalize,seq_len,split,ma):\n",
    "    amount_of_features = len(stock.columns)\n",
    "    print (\"Amount of features = {}\".format(amount_of_features))\n",
    "    sequence_length = seq_len + 1 \n",
    "    result_train = []\n",
    "    result_test= []\n",
    "    row = round(split * stock.shape[0]) \n",
    "    df_train=stock[0:row].copy()\n",
    "    print (\"Amount of training data = {}\".format(df_train.shape[0]))\n",
    "    df_test=stock[row:len(stock)].copy()\n",
    "    print (\"Amount of testing data = {}\".format(df_test.shape[0]))\n",
    "\n",
    "    \n",
    "    if normalize:\n",
    "        #Training\n",
    "        min_max_scaler = preprocessing.MinMaxScaler()\n",
    "        df_train['Open'] = min_max_scaler.fit_transform(df_train.Open.values.reshape(-1,1))\n",
    "        df_train['High'] = min_max_scaler.fit_transform(df_train.High.values.reshape(-1,1))\n",
    "        df_train['Low'] = min_max_scaler.fit_transform(df_train.Low.values.reshape(-1,1))\n",
    "        df_train['Volume'] = min_max_scaler.fit_transform(df_train.Volume.values.reshape(-1,1))\n",
    "        df_train['Adj Close'] = min_max_scaler.fit_transform(df_train['Adj Close'].values.reshape(-1,1))\n",
    "        df_train['Pct'] = min_max_scaler.fit_transform(df_train['Pct'].values.reshape(-1,1))\n",
    "        if ma != []:\n",
    "            for moving in ma:\n",
    "                df_train['{}ma'.format(moving)] = min_max_scaler.fit_transform(df_train['{}ma'.format(moving)].values.reshape(-1,1))  \n",
    "        #Test\n",
    "        df_test['Open'] = min_max_scaler.fit_transform(df_test.Open.values.reshape(-1,1))\n",
    "        df_test['High'] = min_max_scaler.fit_transform(df_test.High.values.reshape(-1,1))\n",
    "        df_test['Low'] = min_max_scaler.fit_transform(df_test.Low.values.reshape(-1,1))\n",
    "        df_test['Volume'] = min_max_scaler.fit_transform(df_test.Volume.values.reshape(-1,1))\n",
    "        df_test['Adj Close'] = min_max_scaler.fit_transform(df_test['Adj Close'].values.reshape(-1,1))\n",
    "        df_test['Pct'] = min_max_scaler.fit_transform(df_test['Pct'].values.reshape(-1,1))\n",
    "        if ma != []:\n",
    "            for moving in ma:\n",
    "                df_test['{}ma'.format(moving)] = min_max_scaler.fit_transform(df_test['{}ma'.format(moving)].values.reshape(-1,1))  \n",
    "     \n",
    "    #Training\n",
    "    data_train = df_train.as_matrix()\n",
    "    for index in range(len(data_train) - sequence_length): \n",
    "        result_train.append(data_train[index: index + sequence_length]) \n",
    "    train = np.array(result_train)\n",
    "    X_train = train[:, :-1].copy() # all data until day m\n",
    "    y_train = train[:, -1][:,-1].copy() # day m + 1 adjusted close price\n",
    "\n",
    "    #Test\n",
    "    data_test = df_test.as_matrix()\n",
    "    for index in range(len(data_test) - sequence_length): \n",
    "        result_test.append(data_test[index: index + sequence_length]) \n",
    "    test = np.array(result_train)\n",
    "    X_test = test[:, :-1].copy()\n",
    "    y_test = test[:, -1][:,-1].copy()\n",
    "\n",
    "    \n",
    "    X_train = np.reshape(X_train, (X_train.shape[0], X_train.shape[1], amount_of_features))\n",
    "    X_test = np.reshape(X_test, (X_test.shape[0], X_test.shape[1], amount_of_features))\n",
    "\n",
    "    return [X_train, y_train, X_test, y_test]"
   ]
  },
  {
   "cell_type": "code",
   "execution_count": 129,
   "metadata": {},
   "outputs": [
    {
     "name": "stdout",
     "output_type": "stream",
     "text": [
      "Amount of features = 9\n",
      "Amount of training data = 13998\n",
      "Amount of testing data = 5999\n"
     ]
    },
    {
     "name": "stderr",
     "output_type": "stream",
     "text": [
      "/anaconda3/lib/python3.6/site-packages/sklearn/utils/validation.py:475: DataConversionWarning: Data with input dtype int64 was converted to float64 by MinMaxScaler.\n",
      "  warnings.warn(msg, DataConversionWarning)\n"
     ]
    }
   ],
   "source": [
    "X_train, y_train, X_test, y_test = load_data(df_GBP,True,seq_len,split=0.7,ma=[50, 100, 200])"
   ]
  },
  {
   "cell_type": "markdown",
   "metadata": {},
   "source": [
    "# 3. Model"
   ]
  },
  {
   "cell_type": "code",
   "execution_count": 130,
<<<<<<< HEAD
   "metadata": {
    "collapsed": true
   },
=======
   "metadata": {},
>>>>>>> 796c8c689e39c6c097b216351b531192a054dfbd
   "outputs": [],
   "source": [
    "def build_model(shape, neurons, dropout, decay):\n",
    "    model = Sequential()\n",
    "\n",
    "    #model.add(Dense(neurons[0],activation=\"relu\", input_shape=(shape[0], shape[1])))\n",
    "    \n",
    "    model.add(LSTM(neurons[0], input_shape=(shape[0], shape[1]), return_sequences=True))\n",
    "    model.add(Dropout(dropout))\n",
    "\n",
    "    model.add(LSTM(neurons[1], input_shape=(shape[0], shape[1]), return_sequences=False))\n",
    "    model.add(Dropout(dropout))\n",
    "\n",
    "    model.add(Dense(neurons[2],kernel_initializer=\"uniform\",activation='relu'))\n",
    "    model.add(Dense(neurons[3],kernel_initializer=\"uniform\",activation='linear'))\n",
    "    \n",
    "    adam = keras.optimizers.Adam(decay=decay)\n",
    "    model.compile(loss='mse',optimizer='adam', metrics=['accuracy'])\n",
    "    model.summary()\n",
    "    return model"
   ]
  },
  {
   "cell_type": "code",
<<<<<<< HEAD
=======
   "execution_count": null,
   "metadata": {},
   "outputs": [],
   "source": [
    "def build_model_CNN(shape, neurons, dropout, decay):\n",
    "    model = Sequential()\n",
    "    model.add(Convolution1D(input_shape = (TRAIN_SIZE, EMB_SIZE), \n",
    "                        nb_filter=64,\n",
    "                        filter_length=2,\n",
    "                        border_mode='valid',\n",
    "                        activation='relu',\n",
    "                        subsample_length=1))\n",
    "    model.add(MaxPooling1D(pool_length=2))\n",
    "\n",
    "    model.add(Convolution1D(input_shape = (TRAIN_SIZE, EMB_SIZE), \n",
    "                        nb_filter=64,\n",
    "                        filter_length=2,\n",
    "                        border_mode='valid',\n",
    "                        activation='relu',\n",
    "                        subsample_length=1))\n",
    "    model.add(MaxPooling1D(pool_length=2))\n",
    "\n",
    "    model.add(Dropout(0.25))\n",
    "    model.add(Flatten())\n",
    "\n",
    "    model.add(Dense(250))\n",
    "    model.add(Dropout(0.25))\n",
    "    model.add(Activation('relu'))\n",
    "\n",
    "    model.add(Dense(1))\n",
    "    model.add(Activation('linear'))\n",
    "    adam = keras.optimizers.Adam(decay=decay)\n",
    "    model.compile(loss='mse',optimizer='adam', metrics=['accuracy'])\n",
    "    model.summary()\n",
    "    return model"
   ]
  },
  {
   "cell_type": "code",
>>>>>>> 796c8c689e39c6c097b216351b531192a054dfbd
   "execution_count": 131,
   "metadata": {},
   "outputs": [
    {
     "name": "stdout",
     "output_type": "stream",
     "text": [
      "_________________________________________________________________\n",
      "Layer (type)                 Output Shape              Param #   \n",
      "=================================================================\n",
      "lstm_9 (LSTM)                (None, 22, 256)           272384    \n",
      "_________________________________________________________________\n",
      "dropout_9 (Dropout)          (None, 22, 256)           0         \n",
      "_________________________________________________________________\n",
      "lstm_10 (LSTM)               (None, 256)               525312    \n",
      "_________________________________________________________________\n",
      "dropout_10 (Dropout)         (None, 256)               0         \n",
      "_________________________________________________________________\n",
      "dense_10 (Dense)             (None, 32)                8224      \n",
      "_________________________________________________________________\n",
      "dense_11 (Dense)             (None, 1)                 33        \n",
      "=================================================================\n",
      "Total params: 805,953\n",
      "Trainable params: 805,953\n",
      "Non-trainable params: 0\n",
      "_________________________________________________________________\n"
     ]
    }
   ],
   "source": [
    "model = build_model(shape, neurons, dropout, decay)"
   ]
  },
  {
   "cell_type": "markdown",
   "metadata": {},
   "source": [
    "# 4. Results"
   ]
  },
  {
   "cell_type": "markdown",
   "metadata": {},
   "source": [
    "- Model Fit"
   ]
  },
  {
   "cell_type": "code",
   "execution_count": 132,
   "metadata": {},
   "outputs": [
    {
     "name": "stdout",
     "output_type": "stream",
     "text": [
      "Train on 9782 samples, validate on 4193 samples\n",
      "Epoch 1/90\n",
      "9782/9782 [==============================] - 20s 2ms/step - loss: 0.0467 - acc: 1.0223e-04 - val_loss: 0.0137 - val_acc: 2.3849e-04\n",
      "Epoch 2/90\n",
      "9782/9782 [==============================] - 17s 2ms/step - loss: 0.0042 - acc: 1.0223e-04 - val_loss: 0.0041 - val_acc: 2.3849e-04\n",
      "Epoch 3/90\n",
      "9782/9782 [==============================] - 17s 2ms/step - loss: 0.0015 - acc: 1.0223e-04 - val_loss: 9.7603e-04 - val_acc: 2.3849e-04\n",
      "Epoch 4/90\n",
      "9782/9782 [==============================] - 17s 2ms/step - loss: 0.0011 - acc: 1.0223e-04 - val_loss: 6.6650e-04 - val_acc: 2.3849e-04\n",
      "Epoch 5/90\n",
      "9782/9782 [==============================] - 18s 2ms/step - loss: 9.0834e-04 - acc: 1.0223e-04 - val_loss: 0.0012 - val_acc: 2.3849e-04\n",
      "Epoch 6/90\n",
      "9782/9782 [==============================] - 18s 2ms/step - loss: 8.4175e-04 - acc: 1.0223e-04 - val_loss: 4.5665e-04 - val_acc: 2.3849e-04\n",
      "Epoch 7/90\n",
      "9782/9782 [==============================] - 18s 2ms/step - loss: 8.0324e-04 - acc: 1.0223e-04 - val_loss: 4.4618e-04 - val_acc: 2.3849e-04\n",
      "Epoch 8/90\n",
      "9782/9782 [==============================] - 18s 2ms/step - loss: 7.5985e-04 - acc: 1.0223e-04 - val_loss: 5.0053e-04 - val_acc: 2.3849e-04\n",
      "Epoch 9/90\n",
      "9782/9782 [==============================] - 18s 2ms/step - loss: 7.1342e-04 - acc: 1.0223e-04 - val_loss: 3.9966e-04 - val_acc: 2.3849e-04\n",
      "Epoch 10/90\n",
      "9782/9782 [==============================] - 18s 2ms/step - loss: 7.3020e-04 - acc: 1.0223e-04 - val_loss: 0.0011 - val_acc: 2.3849e-04\n",
      "Epoch 11/90\n",
      "9782/9782 [==============================] - 17s 2ms/step - loss: 7.3814e-04 - acc: 1.0223e-04 - val_loss: 7.2723e-04 - val_acc: 2.3849e-04\n",
      "Epoch 12/90\n",
      "9782/9782 [==============================] - 17s 2ms/step - loss: 7.1546e-04 - acc: 1.0223e-04 - val_loss: 4.8791e-04 - val_acc: 2.3849e-04\n",
      "Epoch 13/90\n",
      "9782/9782 [==============================] - 18s 2ms/step - loss: 6.4955e-04 - acc: 1.0223e-04 - val_loss: 3.4386e-04 - val_acc: 2.3849e-04\n",
      "Epoch 14/90\n",
      "9782/9782 [==============================] - 18s 2ms/step - loss: 6.3186e-04 - acc: 1.0223e-04 - val_loss: 3.4687e-04 - val_acc: 2.3849e-04\n",
      "Epoch 15/90\n",
      "9782/9782 [==============================] - 18s 2ms/step - loss: 6.5008e-04 - acc: 1.0223e-04 - val_loss: 6.4176e-04 - val_acc: 2.3849e-04\n",
      "Epoch 16/90\n",
      "9782/9782 [==============================] - 18s 2ms/step - loss: 6.8176e-04 - acc: 1.0223e-04 - val_loss: 0.0013 - val_acc: 2.3849e-04\n",
      "Epoch 17/90\n",
      "9782/9782 [==============================] - 18s 2ms/step - loss: 6.4532e-04 - acc: 1.0223e-04 - val_loss: 3.5440e-04 - val_acc: 2.3849e-04\n",
      "Epoch 18/90\n",
      "9782/9782 [==============================] - 18s 2ms/step - loss: 6.5151e-04 - acc: 1.0223e-04 - val_loss: 2.9996e-04 - val_acc: 2.3849e-04\n",
      "Epoch 19/90\n",
      "9782/9782 [==============================] - 18s 2ms/step - loss: 5.8218e-04 - acc: 1.0223e-04 - val_loss: 2.8836e-04 - val_acc: 2.3849e-04\n",
      "Epoch 20/90\n",
      "9782/9782 [==============================] - 18s 2ms/step - loss: 5.9711e-04 - acc: 1.0223e-04 - val_loss: 2.9258e-04 - val_acc: 2.3849e-04\n",
      "Epoch 21/90\n",
      "9782/9782 [==============================] - 21s 2ms/step - loss: 5.3569e-04 - acc: 1.0223e-04 - val_loss: 3.8390e-04 - val_acc: 2.3849e-04\n",
      "Epoch 22/90\n",
      "9782/9782 [==============================] - 19s 2ms/step - loss: 6.7535e-04 - acc: 1.0223e-04 - val_loss: 3.6827e-04 - val_acc: 2.3849e-04\n",
      "Epoch 23/90\n",
      "9782/9782 [==============================] - 18s 2ms/step - loss: 5.5119e-04 - acc: 1.0223e-04 - val_loss: 2.6405e-04 - val_acc: 2.3849e-04\n",
      "Epoch 24/90\n",
      "9782/9782 [==============================] - 18s 2ms/step - loss: 5.5480e-04 - acc: 1.0223e-04 - val_loss: 2.5680e-04 - val_acc: 2.3849e-04\n",
      "Epoch 25/90\n",
      "9782/9782 [==============================] - 18s 2ms/step - loss: 5.7023e-04 - acc: 1.0223e-04 - val_loss: 4.3580e-04 - val_acc: 2.3849e-04\n",
      "Epoch 26/90\n",
      "9782/9782 [==============================] - 19s 2ms/step - loss: 5.8168e-04 - acc: 1.0223e-04 - val_loss: 4.4638e-04 - val_acc: 2.3849e-04\n",
      "Epoch 27/90\n",
      "9782/9782 [==============================] - 18s 2ms/step - loss: 5.2389e-04 - acc: 1.0223e-04 - val_loss: 2.7223e-04 - val_acc: 2.3849e-04\n",
      "Epoch 28/90\n",
      "9782/9782 [==============================] - 19s 2ms/step - loss: 5.0465e-04 - acc: 1.0223e-04 - val_loss: 2.4135e-04 - val_acc: 2.3849e-04\n",
      "Epoch 29/90\n",
      "9782/9782 [==============================] - 19s 2ms/step - loss: 5.0274e-04 - acc: 1.0223e-04 - val_loss: 8.0453e-04 - val_acc: 2.3849e-04\n",
      "Epoch 30/90\n",
      "9782/9782 [==============================] - 19s 2ms/step - loss: 5.9883e-04 - acc: 1.0223e-04 - val_loss: 4.4611e-04 - val_acc: 2.3849e-04\n",
      "Epoch 31/90\n",
      "9782/9782 [==============================] - 18s 2ms/step - loss: 6.3000e-04 - acc: 1.0223e-04 - val_loss: 2.2988e-04 - val_acc: 2.3849e-04\n",
      "Epoch 32/90\n",
      "9782/9782 [==============================] - 18s 2ms/step - loss: 5.1294e-04 - acc: 1.0223e-04 - val_loss: 2.8562e-04 - val_acc: 2.3849e-04\n",
      "Epoch 33/90\n",
      "9782/9782 [==============================] - 19s 2ms/step - loss: 4.8770e-04 - acc: 1.0223e-04 - val_loss: 2.1193e-04 - val_acc: 2.3849e-04\n",
      "Epoch 34/90\n",
      "9782/9782 [==============================] - 19s 2ms/step - loss: 5.0129e-04 - acc: 1.0223e-04 - val_loss: 2.0733e-04 - val_acc: 2.3849e-04\n",
      "Epoch 35/90\n",
      "9782/9782 [==============================] - 18s 2ms/step - loss: 4.7251e-04 - acc: 1.0223e-04 - val_loss: 2.0294e-04 - val_acc: 2.3849e-04\n",
      "Epoch 36/90\n",
      "9782/9782 [==============================] - 19s 2ms/step - loss: 4.5904e-04 - acc: 1.0223e-04 - val_loss: 2.3766e-04 - val_acc: 2.3849e-04\n",
      "Epoch 37/90\n",
      "9782/9782 [==============================] - 20s 2ms/step - loss: 5.0089e-04 - acc: 1.0223e-04 - val_loss: 2.6048e-04 - val_acc: 2.3849e-04\n",
      "Epoch 38/90\n",
      "9782/9782 [==============================] - 18s 2ms/step - loss: 4.6270e-04 - acc: 1.0223e-04 - val_loss: 2.8211e-04 - val_acc: 2.3849e-04\n",
      "Epoch 39/90\n",
      "9782/9782 [==============================] - 18s 2ms/step - loss: 4.8341e-04 - acc: 1.0223e-04 - val_loss: 2.9155e-04 - val_acc: 2.3849e-04\n",
      "Epoch 40/90\n",
      "9782/9782 [==============================] - 18s 2ms/step - loss: 4.5192e-04 - acc: 1.0223e-04 - val_loss: 4.0823e-04 - val_acc: 2.3849e-04\n",
      "Epoch 41/90\n",
      "9782/9782 [==============================] - 18s 2ms/step - loss: 5.0224e-04 - acc: 1.0223e-04 - val_loss: 3.1043e-04 - val_acc: 2.3849e-04\n",
      "Epoch 42/90\n",
      "9782/9782 [==============================] - 19s 2ms/step - loss: 4.6085e-04 - acc: 1.0223e-04 - val_loss: 2.0528e-04 - val_acc: 2.3849e-04\n",
      "Epoch 43/90\n",
      "9782/9782 [==============================] - 21s 2ms/step - loss: 4.8265e-04 - acc: 1.0223e-04 - val_loss: 3.4599e-04 - val_acc: 2.3849e-04\n",
      "Epoch 44/90\n",
      "9782/9782 [==============================] - 19s 2ms/step - loss: 4.7587e-04 - acc: 1.0223e-04 - val_loss: 2.9156e-04 - val_acc: 2.3849e-04\n",
      "Epoch 45/90\n",
      "9782/9782 [==============================] - 18s 2ms/step - loss: 4.4703e-04 - acc: 1.0223e-04 - val_loss: 2.3806e-04 - val_acc: 2.3849e-04\n",
      "Epoch 46/90\n",
      "9782/9782 [==============================] - 22s 2ms/step - loss: 4.4509e-04 - acc: 1.0223e-04 - val_loss: 2.1269e-04 - val_acc: 2.3849e-04\n",
      "Epoch 47/90\n",
      "9782/9782 [==============================] - 18s 2ms/step - loss: 4.8435e-04 - acc: 1.0223e-04 - val_loss: 3.1297e-04 - val_acc: 2.3849e-04\n",
      "Epoch 48/90\n",
      "9782/9782 [==============================] - 18s 2ms/step - loss: 4.2184e-04 - acc: 1.0223e-04 - val_loss: 1.8647e-04 - val_acc: 2.3849e-04\n",
      "Epoch 49/90\n",
      "9782/9782 [==============================] - 18s 2ms/step - loss: 4.2555e-04 - acc: 1.0223e-04 - val_loss: 1.7787e-04 - val_acc: 2.3849e-04\n",
      "Epoch 50/90\n",
      "9782/9782 [==============================] - 20s 2ms/step - loss: 4.2003e-04 - acc: 1.0223e-04 - val_loss: 4.4951e-04 - val_acc: 2.3849e-04\n",
      "Epoch 51/90\n",
      "9782/9782 [==============================] - 19s 2ms/step - loss: 4.7460e-04 - acc: 1.0223e-04 - val_loss: 1.7028e-04 - val_acc: 2.3849e-04\n",
      "Epoch 52/90\n",
      "9782/9782 [==============================] - 20s 2ms/step - loss: 4.1715e-04 - acc: 1.0223e-04 - val_loss: 2.5782e-04 - val_acc: 2.3849e-04\n",
      "Epoch 53/90\n",
      "9782/9782 [==============================] - 19s 2ms/step - loss: 4.3184e-04 - acc: 1.0223e-04 - val_loss: 1.6720e-04 - val_acc: 2.3849e-04\n",
      "Epoch 54/90\n",
      "9782/9782 [==============================] - 18s 2ms/step - loss: 4.0567e-04 - acc: 1.0223e-04 - val_loss: 1.8960e-04 - val_acc: 2.3849e-04\n"
     ]
    },
    {
     "name": "stdout",
     "output_type": "stream",
     "text": [
      "Epoch 55/90\n",
      "9782/9782 [==============================] - 20s 2ms/step - loss: 4.2815e-04 - acc: 1.0223e-04 - val_loss: 1.7329e-04 - val_acc: 2.3849e-04\n",
      "Epoch 56/90\n",
      "9782/9782 [==============================] - 20s 2ms/step - loss: 3.9608e-04 - acc: 1.0223e-04 - val_loss: 2.8745e-04 - val_acc: 2.3849e-04\n",
      "Epoch 57/90\n",
      "9782/9782 [==============================] - 18s 2ms/step - loss: 4.1307e-04 - acc: 1.0223e-04 - val_loss: 2.0540e-04 - val_acc: 2.3849e-04\n",
      "Epoch 58/90\n",
      "9782/9782 [==============================] - 18s 2ms/step - loss: 4.0490e-04 - acc: 1.0223e-04 - val_loss: 2.2547e-04 - val_acc: 2.3849e-04\n",
      "Epoch 59/90\n",
      "9782/9782 [==============================] - 18s 2ms/step - loss: 3.9859e-04 - acc: 1.0223e-04 - val_loss: 1.8769e-04 - val_acc: 2.3849e-04\n",
      "Epoch 60/90\n",
      "9782/9782 [==============================] - 19s 2ms/step - loss: 4.2383e-04 - acc: 1.0223e-04 - val_loss: 2.1238e-04 - val_acc: 2.3849e-04\n",
      "Epoch 61/90\n",
      "9782/9782 [==============================] - 20s 2ms/step - loss: 4.1927e-04 - acc: 1.0223e-04 - val_loss: 1.5881e-04 - val_acc: 2.3849e-04\n",
      "Epoch 62/90\n",
      "9782/9782 [==============================] - 20s 2ms/step - loss: 3.7165e-04 - acc: 1.0223e-04 - val_loss: 1.9464e-04 - val_acc: 2.3849e-04\n",
      "Epoch 63/90\n",
      "9782/9782 [==============================] - 18s 2ms/step - loss: 3.8138e-04 - acc: 1.0223e-04 - val_loss: 1.5193e-04 - val_acc: 2.3849e-04\n",
      "Epoch 64/90\n",
      "9782/9782 [==============================] - 18s 2ms/step - loss: 3.6666e-04 - acc: 1.0223e-04 - val_loss: 2.1466e-04 - val_acc: 2.3849e-04\n",
      "Epoch 65/90\n",
      "9782/9782 [==============================] - 18s 2ms/step - loss: 3.8719e-04 - acc: 1.0223e-04 - val_loss: 1.7116e-04 - val_acc: 2.3849e-04\n",
      "Epoch 66/90\n",
      "9782/9782 [==============================] - 18s 2ms/step - loss: 3.5825e-04 - acc: 1.0223e-04 - val_loss: 1.8791e-04 - val_acc: 2.3849e-04\n",
      "Epoch 67/90\n",
      "9782/9782 [==============================] - 18s 2ms/step - loss: 3.6138e-04 - acc: 1.0223e-04 - val_loss: 1.4995e-04 - val_acc: 2.3849e-04\n",
      "Epoch 68/90\n",
      "9782/9782 [==============================] - 18s 2ms/step - loss: 4.0871e-04 - acc: 1.0223e-04 - val_loss: 1.7976e-04 - val_acc: 2.3849e-04\n",
      "Epoch 69/90\n",
      "9782/9782 [==============================] - 18s 2ms/step - loss: 3.7141e-04 - acc: 1.0223e-04 - val_loss: 1.6048e-04 - val_acc: 2.3849e-04\n",
      "Epoch 70/90\n",
      "9782/9782 [==============================] - 18s 2ms/step - loss: 3.6049e-04 - acc: 1.0223e-04 - val_loss: 1.5185e-04 - val_acc: 2.3849e-04\n",
      "Epoch 71/90\n",
      "9782/9782 [==============================] - 18s 2ms/step - loss: 3.8180e-04 - acc: 1.0223e-04 - val_loss: 2.4495e-04 - val_acc: 2.3849e-04\n",
      "Epoch 72/90\n",
      "9782/9782 [==============================] - 18s 2ms/step - loss: 3.5713e-04 - acc: 1.0223e-04 - val_loss: 1.8049e-04 - val_acc: 2.3849e-04\n",
      "Epoch 73/90\n",
      "9782/9782 [==============================] - 18s 2ms/step - loss: 3.5450e-04 - acc: 1.0223e-04 - val_loss: 2.1912e-04 - val_acc: 2.3849e-04\n",
      "Epoch 74/90\n",
      "9782/9782 [==============================] - 19s 2ms/step - loss: 3.4218e-04 - acc: 1.0223e-04 - val_loss: 2.0270e-04 - val_acc: 2.3849e-04\n",
      "Epoch 75/90\n",
      "9782/9782 [==============================] - 18s 2ms/step - loss: 3.6792e-04 - acc: 1.0223e-04 - val_loss: 3.6859e-04 - val_acc: 2.3849e-04\n",
      "Epoch 76/90\n",
      "9782/9782 [==============================] - 18s 2ms/step - loss: 4.2592e-04 - acc: 1.0223e-04 - val_loss: 2.8090e-04 - val_acc: 2.3849e-04\n",
      "Epoch 77/90\n",
      "9782/9782 [==============================] - 18s 2ms/step - loss: 3.4127e-04 - acc: 1.0223e-04 - val_loss: 2.9526e-04 - val_acc: 2.3849e-04\n",
      "Epoch 78/90\n",
      "9782/9782 [==============================] - 19s 2ms/step - loss: 3.6373e-04 - acc: 1.0223e-04 - val_loss: 8.1853e-04 - val_acc: 2.3849e-04\n",
      "Epoch 79/90\n",
      "9782/9782 [==============================] - 18s 2ms/step - loss: 4.4990e-04 - acc: 1.0223e-04 - val_loss: 1.4532e-04 - val_acc: 2.3849e-04\n",
      "Epoch 80/90\n",
      "9782/9782 [==============================] - 18s 2ms/step - loss: 3.4543e-04 - acc: 1.0223e-04 - val_loss: 1.7485e-04 - val_acc: 2.3849e-04\n",
      "Epoch 81/90\n",
      "9782/9782 [==============================] - 18s 2ms/step - loss: 3.3434e-04 - acc: 1.0223e-04 - val_loss: 1.5069e-04 - val_acc: 2.3849e-04\n",
      "Epoch 82/90\n",
      "9782/9782 [==============================] - 18s 2ms/step - loss: 3.2420e-04 - acc: 1.0223e-04 - val_loss: 3.0510e-04 - val_acc: 2.3849e-04\n",
      "Epoch 83/90\n",
      "9782/9782 [==============================] - 18s 2ms/step - loss: 3.1356e-04 - acc: 1.0223e-04 - val_loss: 2.3809e-04 - val_acc: 2.3849e-04\n",
      "Epoch 84/90\n",
      "9782/9782 [==============================] - 19s 2ms/step - loss: 3.1487e-04 - acc: 1.0223e-04 - val_loss: 1.4750e-04 - val_acc: 2.3849e-04\n",
      "Epoch 85/90\n",
      "9782/9782 [==============================] - 18s 2ms/step - loss: 3.2615e-04 - acc: 1.0223e-04 - val_loss: 3.6167e-04 - val_acc: 2.3849e-04\n",
      "Epoch 86/90\n",
      "9782/9782 [==============================] - 20s 2ms/step - loss: 3.1398e-04 - acc: 1.0223e-04 - val_loss: 2.6656e-04 - val_acc: 2.3849e-04\n",
      "Epoch 87/90\n",
      "9782/9782 [==============================] - 20s 2ms/step - loss: 3.1678e-04 - acc: 1.0223e-04 - val_loss: 2.6759e-04 - val_acc: 2.3849e-04\n",
      "Epoch 88/90\n",
      "9782/9782 [==============================] - 17s 2ms/step - loss: 3.2689e-04 - acc: 1.0223e-04 - val_loss: 1.2354e-04 - val_acc: 2.3849e-04\n",
      "Epoch 89/90\n",
      "9782/9782 [==============================] - 17s 2ms/step - loss: 2.8889e-04 - acc: 1.0223e-04 - val_loss: 1.4134e-04 - val_acc: 2.3849e-04\n",
      "Epoch 90/90\n",
      "9782/9782 [==============================] - 17s 2ms/step - loss: 3.2508e-04 - acc: 1.0223e-04 - val_loss: 2.1234e-04 - val_acc: 2.3849e-04\n"
     ]
    },
    {
     "data": {
      "text/plain": [
       "<keras.callbacks.History at 0x1a418abb38>"
      ]
     },
     "execution_count": 132,
     "metadata": {},
     "output_type": "execute_result"
    }
   ],
   "source": [
    "model.fit(X_train,y_train,batch_size=512,epochs=epochs,validation_split=0.3,verbose=1)"
   ]
  },
  {
   "cell_type": "markdown",
   "metadata": {},
   "source": [
    "- Model Score"
   ]
  },
  {
   "cell_type": "code",
   "execution_count": 133,
<<<<<<< HEAD
   "metadata": {
    "collapsed": true
   },
=======
   "metadata": {},
>>>>>>> 796c8c689e39c6c097b216351b531192a054dfbd
   "outputs": [],
   "source": [
    "def model_score(model, X_train, y_train, X_test, y_test):\n",
    "    trainScore = model.evaluate(X_train, y_train, verbose=0)\n",
    "    print('Train Score: %.5f MSE (%.2f RMSE)' % (trainScore[0], math.sqrt(trainScore[0])))\n",
    "\n",
    "    testScore = model.evaluate(X_test, y_test, verbose=0)\n",
    "    print('Test Score: %.5f MSE (%.2f RMSE)' % (testScore[0], math.sqrt(testScore[0])))\n",
    "    return trainScore[0], testScore[0]"
   ]
  },
  {
   "cell_type": "code",
   "execution_count": 134,
   "metadata": {},
   "outputs": [
    {
     "name": "stdout",
     "output_type": "stream",
     "text": [
      "Train Score: 0.00020 MSE (0.01 RMSE)\n",
      "Test Score: 0.00020 MSE (0.01 RMSE)\n"
     ]
    },
    {
     "data": {
      "text/plain": [
       "(0.0002028048082540607, 0.0002028048082540607)"
      ]
     },
     "execution_count": 134,
     "metadata": {},
     "output_type": "execute_result"
    }
   ],
   "source": [
    "model_score(model, X_train, y_train, X_test, y_test)"
   ]
  },
  {
   "cell_type": "code",
   "execution_count": 135,
<<<<<<< HEAD
   "metadata": {
    "collapsed": true
   },
=======
   "metadata": {},
>>>>>>> 796c8c689e39c6c097b216351b531192a054dfbd
   "outputs": [],
   "source": [
    "def percentage_difference(model, X_test, y_test):\n",
    "    percentage_diff=[]\n",
    "\n",
    "    p = model.predict(X_test)\n",
    "    for u in range(len(y_test)): # for each data index in test data\n",
    "        pr = p[u][0] # pr = prediction on day u\n",
    "\n",
    "        percentage_diff.append((pr-y_test[u]/pr)*100)\n",
    "    print(mean(percentage_diff))\n",
    "    return p"
   ]
  },
  {
   "cell_type": "code",
   "execution_count": 136,
   "metadata": {},
   "outputs": [
    {
     "name": "stdout",
     "output_type": "stream",
     "text": [
      "-58.619234242534766\n"
     ]
    }
   ],
   "source": [
    "p = percentage_difference(model, X_test, y_test)"
   ]
  },
  {
   "cell_type": "code",
   "execution_count": 137,
<<<<<<< HEAD
   "metadata": {
    "collapsed": true
   },
=======
   "metadata": {},
>>>>>>> 796c8c689e39c6c097b216351b531192a054dfbd
   "outputs": [],
   "source": [
    "def plot_result_norm(stock_name, normalized_value_p, normalized_value_y_test):\n",
    "    newp=normalized_value_p\n",
    "    newy_test=normalized_value_y_test\n",
    "    plt2.plot(newp, color='red', label='Prediction')\n",
    "    plt2.plot(newy_test,color='blue', label='Actual')\n",
    "    plt2.legend(loc='best')\n",
    "    plt2.title('The test result for {}'.format(stock_name))\n",
    "    plt2.xlabel('5 Min ahead Forecast')\n",
    "    plt2.ylabel('Price')\n",
    "    plt2.show()"
   ]
  },
  {
   "cell_type": "code",
   "execution_count": 138,
   "metadata": {},
   "outputs": [
    {
     "data": {
      "image/png": "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\n",
      "text/plain": [
       "<matplotlib.figure.Figure at 0x1a49c599e8>"
      ]
     },
     "metadata": {},
     "output_type": "display_data"
    }
   ],
   "source": [
    "plot_result_norm(\"GBP Curncy\", p, y_test)"
   ]
  },
  {
   "cell_type": "code",
   "execution_count": 139,
<<<<<<< HEAD
   "metadata": {
    "collapsed": true
   },
=======
   "metadata": {},
>>>>>>> 796c8c689e39c6c097b216351b531192a054dfbd
   "outputs": [],
   "source": [
    "def denormalize(stock_name, normalized_value,split=0.7,predict=True):\n",
    "    \"\"\"\n",
    "    Return a dataframe of that stock and normalize all the values. \n",
    "    (Optional: create moving average)\n",
    "    \"\"\"\n",
    "    df = xl.parse(stock_name)\n",
    "    df.drop(['VOLUME'], 1, inplace=True)\n",
    "    df.set_index('Date', inplace=True)\n",
    "    \n",
    "    # Renaming all the columns so that we can use the old version code\n",
    "    df.rename(columns={'OPEN': 'Open', 'HIGH': 'High', 'LOW': 'Low', 'NUMBER_TICKS': 'Volume', 'LAST_PRICE': 'Adj Close'}, inplace=True)\n",
    "\n",
    "\n",
    "    df.dropna(inplace=True)\n",
    "    df = df['Adj Close'].values.reshape(-1,1)\n",
    "    normalized_value = normalized_value.reshape(-1,1)\n",
    "    \n",
    "    row = round(split * df.shape[0]) \n",
    "    if predict:\n",
    "        df_p=df[0:row].copy()\n",
    "    else:\n",
    "        df_p=df[row:len(df)].copy()\n",
    "    \n",
    "    #return df.shape, p.shape\n",
    "    min_max_scaler = preprocessing.MinMaxScaler()\n",
    "    a = min_max_scaler.fit_transform(df_p)\n",
    "    new = min_max_scaler.inverse_transform(normalized_value)\n",
    "      \n",
    "    return new"
   ]
  },
  {
   "cell_type": "code",
   "execution_count": 140,
<<<<<<< HEAD
   "metadata": {
    "collapsed": true
   },
=======
   "metadata": {},
>>>>>>> 796c8c689e39c6c097b216351b531192a054dfbd
   "outputs": [],
   "source": [
    "def plot_result(stock_name, normalized_value_p, normalized_value_y_test):\n",
    "    newp = denormalize(stock_name, normalized_value_p,predict=True)\n",
    "    newy_test = denormalize(stock_name, normalized_value_y_test,predict=False)\n",
    "    plt2.plot(newp, color='red', label='Prediction')\n",
    "    plt2.plot(newy_test,color='blue', label='Actual')\n",
    "    plt2.legend(loc='best')\n",
    "    plt2.title('The test result for {}'.format(stock_name))\n",
    "    plt2.xlabel('5 Min ahead Forecast')\n",
    "    plt2.ylabel('Price')\n",
    "    plt2.show()"
   ]
  },
  {
   "cell_type": "code",
   "execution_count": 141,
   "metadata": {},
   "outputs": [
    {
     "data": {
      "image/png": "iVBORw0KGgoAAAANSUhEUgAAAYsAAAEWCAYAAACXGLsWAAAABHNCSVQICAgIfAhkiAAAAAlwSFlzAAALEgAACxIB0t1+/AAAIABJREFUeJzsnXm8VeP+xz/fTnWaS4OUogFFJBVJXPNFZUhREUW4yRDC5fq5Ee4V6ZolNBkyUwiRXEXDLUqlgdKcSumkTqfO8Pz++K6n9axnr7X32vustffa5zzv12u/1tprfPbaez/f5/mOJISAwWAwGAzxqJDpBhgMBoMh+hhhYTAYDIaEGGFhMBgMhoQYYWEwGAyGhBhhYTAYDIaEGGFhMBgMhoQYYWFwhYgeIKLXMt2OqEJEzYhIEFHFJM7pQUTriWg3EZ0QZvsMhqAxwqKcYnVY8lVCRHuV91cGfK/xRPRwANdJuoNOF0T0NRFdl+CwkQBuFkLUEEL8ENB9zyWiGUT0JxFtJ6KFRPR3Iqpi7X+AiAqV73YZEfVUzj/D+v53W9dYQUTXxLlfLSJ6kojWWeesst7XD+LzGKKLERblFKvDqiGEqAFgHYALlW2vZ7p9QRExwXI4gKWpnEhEOS7bLgPwLoA3ABwuhKgHoDeAJgCaKoe+pXzXtwF4jYgaKvs3WftqAfg7gJeI6BiX+1UGMB1AGwDnW8d3BrAdwEkpfKYofTeGRAghzKucvwCsAXCOtu0BAG8DmAjgT3An11HZ3xjAewC2AfgVwK0e174BQCGA/QB2A/go0fngjmc+gF0AtgAYZW1fB0BY19kNoLPL/R4Ad6CvWedfBx4U3QNgFbhjextAXev4Ktax2wHsBPA/AA3dnot17des9WZWWyoCeARAMYACq13Pam3KtbYLAHsArLK2Hw3ga+u+SwFcpJwzHsALAKZa5+jfDwFYD2Bogu/2QJuVbVsBnGKtnwFgg7Z/G4BeLte6zvo+asS5nwBwhPY5HlbvBRZIvwF4Vdk21GrXZgDXKOdXBfAEgLUA8gDMsrZ9AuAW7d4/AuiR6f9TWX2ZmYUhHhcBeBNAHQBTADwLAERUAcBHABYBOBTA2QBuI6Lz9AsIIcYAeB3AY4JHtxf6OP8pAE8JIWoBaAnu3AHgL9ayjnWt2R7tvhgsMOpY974FwCUATgcLqT8APGcd2x9AbfBIvB6AQQD2+n1A1me8D8BM2Cqmm7X9+wSP3AHgeCFESyKqZD2DaQAOttr4OhG1Uk69AiyIaoI7SZVW4BnEe37bSUw3AJUB/OSyvwIR9QA/t8UulzgHwGdCiN1+7+nCIQDqgmdZNyjbaoN/CwMBPEdEB1n7RgLoAOAU67y7AZQAmACgn9L2463zPylF2wxxMMLCEI9ZQoipQohi8CjweGv7iQAaCCGGCyH2CyFWA3gJQB+f1010fiGAI4iovhBitxBiTpLtni2E+FAIUSKE2AsWAPcJITYIIfaBR9u9LDVIIVhIHCGEKBZCLBBC7EryfqlwMoAaAB61nsFXAD4G0Fc5ZrIQ4lvrcxRo50sbwW9yAxG9SUQ7iSifiK5Sjr2ciHaCZzdTAPxLCLFT2d/Y2v87gGEArhJCrHBpcz3wyL80lAAYZglQKZQLAQwXQhQKIaZa7WxlDSquBTBECLHR+n6+s77DKQCOIqIjrWtcBVa37S9l+wweGJ2hIR6/Kev5AKpYHezhsDsYSQ54dO2HROcPBDAcwHIi+hXAg0KIj5No93qX+31ARCXKtmIADcFCsCmAN4moDlgldZ8QojCJ+6VCYwDrhRBqm9aCR8cS/XOobLeWjcBqPAgh+gAAEc0CP0/J20KIfta+ZgA+JqI8IcSL1v5NQogmPtq83bpfadjmIvi2CyGKlPf5YEFaH6wmXKVfRAhRQERvAehHRA+ChWyvUrbNEAczszCkwnoAvwoh6iivmkKIrh7H66mN454vhPhZCNEXrJ4ZAeBdIqruch0v3O53gXa/KtZotVAI8aAQ4hiwqqM7gKut8/YAqKZc55Ak7pmITQCaWqNnyWEANvq85grr2EuTuakQYg2ATwFcmMx5Fl8COM/6LrzIR/xnlsxz+h1sB2rpsX8CgCvBasz8OGpJQwAYYWFIhXkA/rRcNKsSUQ4RHUtEJ3ocvwVAC7/nE1E/Impgjbrl7KMEbHgt0a7lh9EAHiGiw63rNyCii631M4noOMvbaBdYJSJH+wsB9CGiSkTUEfFHrvpnTMRccMd6t3X9M8Ad+Jt+TraezVAAw4joeiI6yLJJHAmeMblCRE3AnkypeGW9Cha87xFRa8vGUY+I/kFEcqCwEMAV1nd6PthOlBLWZxwLYBQRNbau2ZmIcq39s8Hf1RNW2wwhYoSFIWksG0Z3AO3AKpDfAbwMNlK68QqAYyx9+oc+zj8fwFIi2g02dvcRQuwVQuSDDb7fWtc62WeTnwLruKcR0Z8A5gDoZO07BGwM3wVgGYD/wu547gePav8A8CDYRTXePXoR0R9E9HSiBlm69QsBXAD+/M8DuFoIsdznZ4IQ4i0Al4MNveut67wNYAyAd5RDe8s4C7C317fW50kKy1ZwDoDlAL4AP7N5YHXRXOuwIdbn2gke9X+Y7H007gQb2/8HYAd4pqn2WxMBHAdWHxpChIQwxY8MBkN2QkRXA7hBCHFqpttS1jEzC4PBkJUQUTUAg8EzKUPIGGFhMBiyDismZxvYVhRPPWgICKOGMhgMBkNCzMzCYDAYDAkpM0F59evXF82aNct0MwwGgyGrWLBgwe9CiAaJjiszwqJZs2aYP39+ppthMBgMWQURrfVznFFDGQwGgyEhRlgYDAaDISFGWBgMBoMhIUZYGAwGgyEhRlgYDAaDISFGWBgMBoMhIUZYGAwGgyEhRlgYDAZDlvLrr8Dnn6fnXmUmKM9gMBjKC7NnA8ccA7RqBRQWAulI8WeEhcFgMGQRxcXAKacALVuyoJDbcnLin1dajBrKYDAYsggpIFatsrc1bRr+fY2wMBgMhixCCguVzZvDv68RFgaDwZBFuAmLypXDv68RFgaDwZBF6MLiRMzDvoLwLdxGWBgMBkMWsX+/830N7Ab27Qv9vkZYGAwGQxahziy6YBYm4mpg2LDQ72uEhcFgMGQRqrB4HoPRBBuBxx4L/b5GWBgMBkMWoaqhqqCAVx54IPT7GmFhMBgMWYQ6s6iCAqBWLaOGMhgMBoMTVVhUQz5QrVpa7muEhcFgMESc/Hxg+HDOCaWqoephe9raYHJDGQwGQ8S5/XZgzBjWNp11Fm/7L/4CAoBLL01LG4ywMBgMhohTVGSvf/UVLytjPzBuHNCvX1raYNRQ4PS+BQWZboXBYDC407x57LaKKAJatAAqpmfMH5qwIKKxRLSViJZ47L+YiH4kooVENJ+ITlX2FVvbFxLRlLDaKBk9GqhaFSACduwI+24Gg8GQHPffH7ttJY5Km3EbCHdmMR7A+XH2TwdwvBCiHYBrAbys7NsrhGhnvS4KsY0AgMGD7fVx48K+m8FgMJSeiihKTwZBi9CEhRDiGwCe43QhxG4hDtR3qg4gDbWeEnPnnYnTrFx4Ic9CiNLTJoPBUL655prYbT3xXtpUUECGbRZE1IOIlgP4BDy7kFSxVFNziOiSdLcrXjBkSQnw8cf2+yWuSjaDwWAoPW+8AUydyu6yLVrYxm0AyEFJ+REWQogPhBCtAVwC4CFl1+FCiI4ArgDwJBG1dDufiG6whMr8bdu2BdauRx/13vfww873xx0X2G0NBoPhAHv3AldeCXTrxutVqwIHH6wdFHYtVYVIeENZKqsWRFTfer/RWq4G8DWAEzzOGyOE6CiE6NigQYNSt2Pv3sTHfPRR7LY9e0p9a4PBYHCgemjmW4HaxxwD3Ng/H8vQmneUB2FBREcQsdafiNoDyAWwnYgOIqJca3t9AF0A/JSONlWpYq8/8oh7qcL8/NhtvXsDEyaE1y6DwVB+EAKYPNkpLD77jIUFEfD8I3+gNVbYB6eJMF1nJwGYDaAVEW0gooFENIiIBlmH9ASwhIgWAngOQG/L4H00gPlEtAjADACPCiHSIixU/u//gMaNY7f/pLTk/fd5+cknwIABwPLlwOLFaWmewWAoo4waBVxySWz/c8BLVo3Qa9gwbe0KzToihOibYP8IACNctn8HIG2WgD/+cL7v1AmYOzfxeddcA1x8sXPb0UfzsnNnNkrVqRNMGw0GQ/nh66/dt3/6qbUihcWECWUmziIrKCpiw9EHH/D7f/7TuZ8I2LULWL3aub1DB6CCx9ObPRt45ZXg22owGMo+rVolOEAKizR6QgFGWKBBA7ZDXGI56LoJ6tq1gZYtgd9+s70RZCDfm2+6X/enn9JSFtdgMJQxOnVy337HHdaKERbRoGpV730//ABs3Qr06GEH5PXu7X7s2LFOg7nBYDD4QfeuPPFE4JdfgCeesDYYYREN4gmLrl15qX9H337rfc66daVvk8FgKD/s3u18f+mlrNk4sKO4mJdGWGQWP7OBSpWc76Vh242xY0vXHoPBUL7QZxYXXgjg7beBmjVZpWFmFtEg3sxCon9H8b6zNm1K1x6DwVA2+PVXf8fdc4/zfZs2AN56y94gjRpGWGQWfWbxww9sxG7SxN6mzyz09ypbtwbXNoPBkJ188AHndlLzyqkUFnIeKD056SAZlXbKKbEnpVlYmEp5GurM4qWXgHbt+NWnj7194kTgZSWheryI+5tvZn3j+fGStRsMhjLNq6/y8sIL3YOu3TKNO46rXz/2gMLCQNrmFzOz0FBnFtddZ68//ri9rn9HuoAvKHBWOrzgguDaZzAYsg+ZcPTEE1O8gJtg+PPPlNuTCkZYAGww6tYNIELFXTtwzjl2Kg/JVVd5n65PHXNz7ZGEJM2DAIPBECEOOoiXnTuneAE1xUeGMMICAJ5+mvNzAMDq1fjiC46lUFFTsDz5pL/LjhxprweYQd1gMGQRQthlD+LZN+OyaVPstksvTblNqWCEBeDMDuiWalbj0ENjt/38c+y2oUPt9TQmhzQYDBlg1Sr3CprjxgFbtvD6rFn+rhVTLuEhq9zP2Wfb27zyDYWEERaA01CxcaPnYe+8A9SoAZx3Xuy+I47g/FF6gN4tt/BSxtEYDIayyfXX2+tEwM6dvD5woL3dT5LSkhKXeK8uXXj5wgulamNpMMICcM4Nb7yRaxi60KsX25Rq1gRPC9evd+xv3jzWw026RJs8UQZD2eayy5zvpZ3Ci2HDgIULY7frMxMAnLm0dm2r88kMRlgAsZF4jz0W//gVK1gXddhhCS8tXeI85E+ZoqSkfHxOQ/mjqAj43//iH+OlFdK9JT/+mDNTDx8OnKDVAPV0wy8u5gtVr+6rvWFghAXAX4Q670tUorVjR3tdLWflguw8fZhCsp4+fdgTzGAoS7z/PncPJ51kZ6fW6dNHCaBTGDIEOPVUfkmeesrOWg04tQ6eUd5FRSxJpLDo1SupzxAEJigP4BzlVatySP3FFzsN3m6omb66dgW++srz0B9/5OW77wLnnBNAWyPMO+/wUgiPqbTBkGX88QfQs6f9fvJk9+PUbBwqTz/NSzXt+JdfOo9RnWOaNtUu8Oyz3IjiYhYWFSpkzFvGzCwAW1jItLLyG/bDjBlxd/fvz8tDDkmxbVmAEMBdd9nvYzw5DEnzxRfAsmWZboWhbt3YbTk5wHPPJXeduXOBNWvc98XVLN1yC1dkk2qoDGKEBcDConp1+8uI9+0lKdVladUHH0yxbVnAnj3OmJL8fOf+TZuM63Cy/PWvwDHHZLoVBjdKSjiNz9tvx/7WAf6t67/3qlWBww93v54v5xephsogRlgAnClQzgV79YpvuB41KnabnoBeoVYte33x4hTbF3F0o3aDBqyGOvdcYNEi9gXQy9UavFGj/fUa8Yb0IjM3tG8PNG7s3Ne7N48r581zP1eNo5NBefn5PAhQ+4Kjj+b/TIzNQ5U4Ug2VQYyw0KlVi4tuezFzpr0+YAAv41iv1UlKvMtmM1OmuG//8ku7dvnDD3v/qQxO1OqLqu++If0cdBB7rC5YAPz3v+7HSHtETg6wdKm9vVEj7u+LioBbb+VtVavyMcceC7RubR9bUuLiTaUGZxlhEUE++ogD8/zk57j8cl5Kw4QL5cHQu2SJ977XXrPXvWoLG5zs2GGvv/ceL+fN8zaiGsKhuJjNl3l5/P6II+Iff8cd7qpDrz5+/Hh7vbDQRVio+aB27DA2i4wj4/AlUki8+qrzXyuROpcOHWwX29mz497i+ON5qXac2U5xsf1bbt/e+zg9IaPBmxkzgKuvBpo1i93XqRO7Z5qElOnDy/NJ8ve/O9+rman9oA6edu1KMLP44gszs8g4UlrLL0IWnhg61BlPIZFfYE6Oc78a068xbhwvR48Gnn/e3j56tPcEZuxYYMKEWFkWFU4+2Q58T2bAo8601q/n+EYD8MQTwFln8RhlwgTv4ypXNs4C6eKll2K3NWrErrQyOaAav6u62KZCjBZCzzRrZhYZpkYNXkrlsBot4xYhU1LCS/nFnX46L+MU21YDxG+6iX8Uy5ZxZhE3W/oXX7DsGTDAKtQeQebP5+WGDU4dezIcdphTbxt1wuqkf/4ZuPNO/8d/+GE47Sir5Ofz7zRZZIDpJ5/Y25YuBV5/3X5/11225qB79+TvoXYbB2YWJSXsm6sbOTMc8WqERW4u/5L+8x9+71aySkVG1MiZiFpd3SPAQMojFWnw0gPAV6xgt0nJnj3RTqFx1lmx2woK4k60sg4ZZFitWjg5vo46Kv5+3ZMsQdIAg0a3bi7Bbj6QaihVzXrQQbF99qRJXNTo4ouTv4eqwT4gLKZNY99cmYVUkuEppREWAPt2ynQffhPOy8ACOcQGuIccM4YVz7//fmCz24BAj+IEWOXkNtJ++21/TcoEbqnZc3OBv/2N1999l11o4yEna1Fj7FhOKX3bbfy+oMAlG2gaeOgh9p6RGGGRHF9/XbrzE6VjOvpodkBIlDjQDfW/cUBYyNGlbjTxk7I2TIQQZeLVoUMHEQgzZ8qYGn7p6Nv79nUeL19Dhhw4pKAgdvfhh9vr99wjRGGhEG3bul9qxoxgPlppKSkRoqiI193a6fXI9OMLC4VYudJ+n5+fvs/gl5KS5D5faWjRgq972WVCPPoor9er57xn7dpCdOoUXhvKMvKZFRTw9yq55hohRo9OfF662nf33daGWbPcf3hVqoR0f8wXPvpYM7PQ0WcWTz7pHMq1a+esfqT6v6kobiv6zOKoo5yhGY8+ytNYmUdKx20Wkm6Ki3nkk8jGpmVtd2XtWqfqJYrp29NZ2bBHDx69vv02e9gUFcXePy8PaNUqfW3KNvLyvP8/kipVnEboceM4EO7NN53u3337OtPXpIsDWiYvvfP27WlrixtGWOjoNovbb+dCFX/9KxsQ6tRxWp0rV3YPINB61WnTWDWzfTvXxNB/D2557SWPPJL56G/140yb5tz30kusjRs82L2KoI7ur656iEUFtYyuztatwd5r3z7nzy4nh20keiGtVPTu5YUjjmBDc6K8ZB98ELutb1/guOO4WBERCw+pZb7uuuDbqiMjww+oY/XOoUsXliTVqoXfmDgYYaHjZrP47Td2UVq82D3U0q0MniYszj2XXWXr1vUO+G7fHqhf336v5s9fv55HTlHws1e9QWbM4D9Uhw7swOEVhPjNN96jtfvuC76NYSA9loK0Gfz8s51YVEf3lFMrahps/vzTNhF++mni459+2v136mZzSMcgTdrEPIVF8+bhN8IHoQkLIhpLRFuJyDW+l4guJqIfiWghEc0nolO1/bWIaAMRPRtWG12JZ+AuKbH1MSrXXht77BtvJH3r77+3Ew8CzjCObt145PSvfyV92VKjj8YmTrTXzzjD3zVOO43TJmQLulFz0SI7A2mQaUviZcNv0gQ480z7vRodHGUPuXSSnw/ccIP9Xnc1d3MgGjLE//XTYVOW48oDY059RJiovk6aCHNmMR7A+XH2TwdwvBCiHYBrAbys7X8IwDfhNC0O8Vxn//yTBYYeSenmJ/rHHynpV375hUfrUgWh+9+X1rMjFd580317sskBf/vNffs99yR3nXSglsj8+WegbVueHQFc4Swo6tWLv//JJ+11VTUmw3vKO7VrO3+fuhB1ywqbiGfTOzw98F8/kM5F/xAPPJDO5ngSmrAQQnwDwCVfxoH9uy1LPABUB3BgDEBEHQA0BDDN7dxQiTezmDuXHaP1mYWb1XffPo7AW7cuZlefPrz0UmeccYZdy/vhh5370i0sFi+2XXf1tB7JupGqsybALhviFoeSadTBnbSxPPIIL6U2MgjkdbwEUNu2/FPSR8hz5gRz/2xHD3LWnSU+/zy567Vpw39bSSqxE8kibYAHsjXowkJNXZ1BMmqzIKIeRLQcwCfg2QWIqAKAJwAkjGklohssFdb8bUG5r8SbWQwbxkt9ZuFVfBdwdauZNIn//KqXVEEB2wL0TiE3l71lMkXbtvb6xx8798X72G4MGcJ/vu3b+XPefDNv96NSmT49WNXLZ5/FLXDoOiJVDfMy5XRpkcLitNO8j1F/ki/r8++IceihwIsvZu7+urCQAxH9uW3eHOtAANhhUy+8wMt09NN//qltiKiOMaPCQgjxgRCiNYBLwGonABgMYKoQImGAvhBijBCioxCiY4Og9Hp+gvKS6SUTzIOPPJJ107m5wBVXuB/z/vvhjiRfeYX/OPv28YxXHTWrKQxq1mQjq0xvkKywqF+fU1VI3T8RT8oSGe3/9z8uSXvOOcn/j4qKYvNPFRUBF1zAn8Vrdpefz14qanUzteMIQjOwcSMH/QH+n2WCwowZpbiYazi41aIOC1VdCLCqcORIdlAksgdfRx9tC7GePblypZ76bc0ae7Ysv490BGHKQO3p060NRlh4Y6msWhBRfQCdAdxMRGsAjARwNREFNI7zQdDCIp5PLICVK101VTF06gT06+eekbS0XHcdF5SvUoUr+qnJ0eRs4qSTeJRWo4adsiZZYeFG5cqJ/xuLFvFy5kzgkkuSu/6993JU/Nq19jY1MFb17FLJz+e4Bq/qZql4pRUVOUeRTZoA99/P635jTaR6MorEjJDTQFERR7d//z2/Hz6cve6kE4L87RBx+rc337R9T6T2uF8/Firqd92mDS/T4YH25JOcK+5A6hwjLJwQ0RFE7MBGRO0B5ALYLoS4UghxmBCiGVgVNVEIkT4TqK6GWriQYy06d7a3JVJYn3OOve4jrbDfmhc5OelJjbFnD2c/VdslvUImT7bzKwZRq6NSpcQdr2pw9OMaqSJVTdu28Qylf3+7IBPg7Uefnx+8W/t55/HshIhjO1Xc0qa40a1bsG0KEln3IZ0sWcLPzivHnkwjvnAhP/feve2/eIUK/LtwywHapQurqlJNkpkMFSpoaX7kyOH1121pFwFCy3lLRJMAnAGgPhFtADAMQCUAEEKMBtATPGsoBLAXQG/F4J051JnFjBmscxk1yqmPcYurUFGHiYmihJIgJ4dnIa5VtQJEN6p7EdbMYuFCVsnNns2PT/+/bNzIX8mjjyaeCEoDaH5+ch5EYQgL1Uaifya/bsVRLqalupmG+RvdtAl45x1OwSaFbKKErJde6r5djWvSOeSQ1NpXaqRutE+fcP/oSRKmN1RfIUQjIUQlIUQTIcQrQojRlqCAEGKEEKKNEKKdEKKzEGKWyzXGCyFuDquNrqj/RjWIQO05EgkLtfSqmpW2lMgRkJpFvTT8+GPiJLuAsxNQ9dFB/I63bYv18LrvPp6W//e/XD9A529/Y2GhG9wBDs5ShxwyBUQ8w7Bb+ur8fGdq+bCRao9ERGA45Yk6Ci9NnZ5du3gGpmcKAFj4H3ooB7JJ2xeQWFjEi8iPHNLIFiFBAUTEZpEVvPNOaucFKCwkQXmbjBnjT/d+0kn2ujoCDuq3vHw5L4cNY1k9dSq/V10YO3Sw12V9AV1mr1zJ8UsVKvD/TR29v/qq81hVCO3eHdumffsSd0DJTBq9nBcA7mR1tZQXagcZdVKtOf/DD2z/cJvhus0kO3eOHfS4CZqMsnMnaye80jeoZLginhdGWHhx5ZXO9+osI5lseiEIi6D44gvn+0QTJsD50YMc+BDFxhqoHcDs2bF1H/T7qzGQrVvH74BlgB3Arsw6foSFn/+92z1kwH+FCqyCc7u/FzVr8neQiUR3iZAl6SWpRuxLQ3nNmv6Ol4kYVdTU36pHW8YYO5ZHOVdfnfhYISJZ9cwICzeEiC2YrTrWJ1KUN2li9wDPPecdAp0kflNr+GXlSnv93HO580qUOE0d9IStP1cN0ZUqxXY+qkomLw946il/1123zhkz4RYQt3+/u4pOHdmnKixfeYXbXlzMnyvZ5+i35Eq6kcGb8rn4rYK4Ywc/AzkbkA4UU6eyV5MQLJi9qt0NHeoUFjJW4o47eJkx24PKxo28jJdCetUqfhAffeRPP5xmjLDwi6r09OMjKMO0AU5rGQDvv5/aeYWF7Fuu1GOKQbrLvvQScPDB3seFNbOQyOq2KjK24N//dm5X1UBLXDOQuZMoe2thIU8I1USOkk2bgGee4fXRo/3fUxLv2aaT9etZMxIGcoYq1YuJkOpCmfdMVpEE2GW8QgWOeXH73ipWtH+HcgAgA/Eee4xVYRmuRsrIzNReZRH377eTru3aZYRFVqMKi3ihvyGiZsX0ozKSTJjAgkaNW1Q7ikMO4RTNknXrOOPp/ffH5nNSZxY7PJO5+Kd/f+f7UaNij5E2E5nKWaJq+PzGKagqH3UWpbquypGt6qcgyc21ZzAjRvi7pzoD0j9DurnoIh68HnYY/56kK3ZREW8n4olxUIZ0PR2HG3Km9N//+r/uzTfzjEINqpT2NykccnL8q7JCR46yvKZbXbo4p7gRcpmVGGHhl9K4xoSQNTKZ7LP6YGbFCqfg2bzZKQRyczmIbfjwWC8SdWaR6kxHRdW9//GHe54o6Yimm4pefNEWEqqK6rXX7M6uSRPnOeqET72eGhgp7+eVKFENjPNjt1ATEAc1yk2lMy8pYQ2HipwlqaqtjRvdYw9SwS31uo7qaOj3cz3zDEdqq7/byZPZW0/7+XAjAAAgAElEQVRP7R4J5DTYS4eolmeOKEZYpIKbYt+tl5OJlUKocOXmUuoXNaVzsqh/zpNPTv06EplcsGbN2ESDOvr/7IcfbBmupkORo8l9+5x2Dx1VUKmxHnLW5hUtrxZH9BO70a+fve7XrhKPVG1Fbj/DadPcO+gEiQfw3/+yylIiryGD4CR+AvXUWXKFCv4KaLlx/PGc0yliHqeMTPvj5Rwjc+hEmCg+1ujyj3/w8i9/id3355+xMwj5jwsw7FrGPCQjLFTd/pFHOv+ciUpR6qi/9ccfT+5cN6SA6NLF3uZlZHf7nwnBXl3S/+CEE4ALL+T1ypVZwMjZh54qo0ULe11VEUvViZcHo9pZ+428Blht7VZUMV3IuiSqtmPqVOf3KF38E6XpPuMMHnTMns2VA6WBWc4kZCyQH/Wg7r7t5h48ZUrpBjkZR/4JvYSFV16ZCGGERTIMH87zeHWoqLJkibP3VXsVPZtdisjEZslUa1P/ZL/84sy2qdoq/KD+1oNIsla9OgtA6UkD2J094Cz+4zWD/+tf7WpjH34YO/KuXJlnHp99FnvulCm8VG0nUljE85BWE/p5eenoPPecv+PC4m9/4+VRRznVQ+psQC95m4ihQ9llVvaFUuV23nm89CMsdGdBvTrd0qX8m4hoyiR/JBIWuppbLWQSEYywSIacHA6s8dIDHHywd+8b0C9d/qaSqdbmlagwlVrSiVRFqXDSSU5DpFQjNG3q9CWI5zIqi0R5TeI6dXI3dkrtofRsBOyZVzxhoaqfPvzQ+7ijj7bvowYWZpLLLouNSwDYtT+eCmfqVP7pq7Op2bOdhmkZ4ChtM34GNdJu4kZRkV0hUPa36S5OFAjy/+/Vd6hq7KuvTq6cX5owwiJsevXiZUDO8XLUq2aGTYRXjqNU7O5udYqDRrZXzccI2Gqh+vW9DcvJZoOVGkU1BjORGgrg/7ycqVSr5h57OXu27T7qFiVeGlIxcDduzJX5KlRw/znq3ki66+u4cbxcsMD7HsuW8VIKC79eaoC7o5D6HcgZZ7zaHxlFCB5M6l4EgO0t4TWaUfPfjxkTfNsCwAiLsJFhrcn4usZBL5jkh4DCPACkp1LfmWeyp5OspCepVYtLsE6fzu6+QsRWtE028DUnh+0/r7/OAuCQQ2xbY6JAfamyGTjQOTDcsoWzw4SZTjwVYdGwYfw26YZlOSuSvPsuL+NpVGWHL3+ny5c7o+XdkLVB9JQsumbmiivYXVstyBUp1q7lKO2LLnJuVx+Y12hG9TGORGBILEZYhI20nAakhmre3F73683rlsNIvU4ypCOojIjtLLqDGREH5qmdhX5MKp4w6izlQGlLJM4vpKtypPPBIYfEpr4Ikvx893iUROhR6fGCNHVUe49qexECeO89Xj/xRHu77O8GD7ZVdhMm8D337XPWBJOzHNXNefjwWG9SovTMbFPGa/SmGrW8gkkCGkyGiREWYSP/CalUy3EhFbdJXZ0wbVrq9nZZDCZRFHS6cNO9B0Wi6oS6em/5cmd+qrBRU5DFY80azp+0c6dTWNSr5368WhxKcsEF9rpeKVj+FtT+Tnd+WL0aGDCA7SWNGvH3JmdH991nn/PKK+yEcf/9tq0ia1AfgGoQvFlJnL1pk/u5fgJSMowRFmET8MwCcHqsuAmPFSt4+/TpbHyVVcSeeYYjss89N3UTygknsL9+JJKzwT28JSgSzdx0g/nq1c5MuQA7IuzdG87AUY8wX7/efTZ01138O9i4MTZp4YFSngqqFkWmK4qH/ImrgZG6JkVmDPj6a7tfrFDBOeutVYuTLEYwh54/1JlFw4ZcdhJwRoJ6kUw2yQxhhEXYhCAs1ASAQKxxVXYib7zBI0rJzTcHk9e/bt3oBD6pwqK0KrKJE52Z6HUdug6RM32HWvcD4GudeCKPmMN4XrqttG1b22VVRS0pq3OglKcH8VxppVdS27bAI484c2/qbfMy8Kuzs6j8plJGV0NJY4w+/ZX2ifXrY6MW9R9RhMj2ryf6hCAs9JGemngNsA2zWaAGLTXq/zBVg/LMmaz2uOoqdl6TAtaPXefXX23d+uefO/cFXWlPR090KEfveketHue3TKgfm4sctBBxvKoqOPU0K4nyiEXWaJ0MXgVO9MSjskLXYYfF5uJRi8dEDCMswiYEYQE4A6nGjnX+TqWw8JPELdtRYyBfeCG1a5x6qjOq+d13/ZuYKlf2nq35LWiUKrq3mESvU6KyalXstqlTY9OiqEGSEj0R6qmnet+nalXuD6VhXFXVv/pqrPttspkEIkk8YaGOal58EfjuO15PJdgpQxhhETbyHxaQgVvy6KNOA6f6Z5S/SzUXUJTLcZYGtVZBUHULKlRI7Dar4havIkT4GWZlRLaOXopFRdZ4ULnggsSzqDlz7Gy8kssui38OYM+uVFtOv37RSdUeKG7CoqSEhUWtWrYrV4MG4eWHDxEjLMImpJkF4DRST5/OMQi7d9t/ULf0FmUNPXFdJtCNuV7ZYIJCpsPwsifEqwDsp4MH7DxSAM88OnVKTfh5hQzoaqr//Cf5a6eVGTPswkRu5OW5f4j33mNhUbOmPZ2qVs05eMySkVwS4ydDSsgePZlQVp+oagF1lKl7Oj3ySOC3jgxEbEBOJldW2AThRBAPKSS8JqtDh7Id5dhj+dnk5nLuq2Rqt19yib2uus1K/JaU1YWF6kWqInN7RZK9e+18Mvff70xeJhk40N3X+vLLga5dWVjIDIlz59rBKUD81MgRwswswiYkNRTAs1q97sCcOUCbNs5tiTxeAuPzz4Fu3dI+Ulq9mtOVR4Wwy54mCt0ZP569sFq35niwfftSyyAxZUps//f++zz48KvyO/ZY53t1UCNz5UmnochSrZrtf+5VlEjt/HW++47d9mrV4pQBo0c7g1UCzEodJmZmETYhqqEAZ1ZWgANEr73WuU2NrA2VCy/kHmzfvmBS0vqkUaPS1fcImkGDwr1+Tg7PqKSwWLaMR/oHHcQxDNJ+tXZt6YIn3QbQPXo43bH9tFVFFR633spldMP2Gks706bxlyH/eDt38h+TyN1F0QgLAwB7GKhbBwPCrUCPmm67fv34CfECRTrKFxSkVVhEiXRNqipVYmFRUOAv0vmMM0JvUkJkIkIJURYICreOvKQkflDIuecmd48scVtMSg1FRFH/aqOHnFk88URot9CNhZKtW2NTM4SKlEoh2Geizrx56XUoqFyZa4C7jf7dUA3WmUKvt54VuPljv/OOM3e+F37T45YlYUFEpxDRTwCWW++PJ6I0ZsHJYnTn9BA44YSM3dqGyM4OVw6FxYknukdPh4WMiP7yS/f9at2RvXvDqUPil759WSuTajnYjKJKWZkzv08fO0maxE0P6uaWtn8/58N/9llg2DDeJoWFW8GVCOF3ZvEfAOcB2A4AQohFAFxqixpiSIMOyMtVMmxDqyflUFhEhbfe4uXrr/OyYcPMawTfeCNxBHdkkeVO778fOP985z41m6ybsGjYkIXDSSfZ5QArVeJAmJtusmvsFhZyjV89tXnE8K2GEkLoOS7LQTKJAFCHU/GqxpSC3Fzg5Zed226+2X8K88CRFXAkP/xgBEia6NCB7SZdu/Lyt98y3aIsRxY3GTIEOPlk576mTfn/vXOn7cCi2ysqVWJXWbc8K9KF74kn+MuK+NTLr7BYT0SnABBEVImI7gSwLNFJBo2QjNxAbBGgZ57J4G/v4ovt9fXrgfbtYxNYGeKzY4d7+T0LtU/q3NleD8FDu3wjVavVq9szAZ3HHuPBUNeuwMcf+7+2DGPPyytTwmIQgJsAHApgI4B21ntDMqQprWb37mm5jY2bCxARJ0qT+gepHzEk5ocfuNhEjRqxU0aLjz9mBwYh7DRDAHDkkWlqY3lh717+LefmeueA+fe/WVg0aJCcofCqq3j5xRdlR1gIIX4XQlwphGgohDhYCNFPCLE93jlENJaIthLREo/9FxPRj0S0kIjmE9Gp1vbDieh7a/tSIgrZaz2NpElY6LWrQ8fLm0NNXpWXxxFdhsT8/LO9fu+9rodUruzMSbVsGbv3p81NuryQn89Gn0Qd+bp1yXuUqOHtZUVYENEEIqqjvD+IiMbGOwfAeADnx9k/HcDxQoh2AK4FIIdQmwF0trZ3AnAPEYWcki1kZPa2NLknpV3jEy/gUJ119OwZflvKAqpF2mee+datk3fvN/hA5nXyQ2lqZ5cVYQGgrRDiQJpEIcQfADwcNg8c8w0ATx8IIcRuIQ70JNUBCGv7fiGEtIbmJtHG6CIzy4UUxS2Rkdtp/83F+1wR/wNEEtXwkAXlNss048e7Z4h98EGeTaiUxu1sy5bI/1f8dsQViOhAqXQiqosAor+JqAcRLQfwCXh2Ibc3JaIfAawHMEII4Vq4lohusFRY87elNfosSeSII2SPoJdeCl0euRPvpllQLjJyuKW6Li72rpdgCAch+D/r9vv+5z9jc6m4FS/3y/79ZUZYPAFgNhE9REQPA/gOwGOlvbkQ4gMhRGsAlwB4SNm+XgjRFsARAPoTkWseTyHEGCFERyFExwZuRQWiQpqERYUKGYqtiCcsRoxIXzuynQ0bgFGj3L2gLrssC3JjlDH0CncABzWpkZBqAEmLFsnfo1cve70sCAshxEQAlwLYAuA3AJcKIRJUKPaPpbJqQUT1te2bACwB4DNuPqJIW8Xtt2dN7vqk8CsEW7cOtx3ZTo8enF989uzYfVHI11HecIt27dXLGb190EH2uozJSIbrr7fXs1lYEFEta1kXLCTesF6/WdtShoiOIOKnQ0TtwfaJ7UTUhIiqWtsPAnAqgBWluVfGkS53O3Y4PYTKCn51X/XrZ2WFsLSwbJldzFuNDNbJojKcWY+cKUyZEv84WeuiRo3k76EaxSMuLBLZHd4A0B3AAlgGaAuy3nvOu4hoEoAzANQnog0AhgGoBABCiNEAegK4mogKAewF0FsIIYjoaABPEJGw7jNSCLE4hc8WHVT/7H79WLepjkjc2LWLZySZztXgB11YHHEE8MsvscfNmsWfuyzOrkqLmjr2119Zp+iW8bRhQ/P80oVUByaqZiX/y/Xrxz/OjSwSFnFnFkKI7tbo/3QhRAvl1VwIEVdBJ4ToK4RoJISoJIRoIoR4RQgx2hIUEEKMEEK0EUK0E0J0FkLMsrZ/IYRoK4Q43lqmULYlYqjCYuZMYOJE/sOfcIK3Abh2bc7XMWFCetpYGnRh8fPP7C2SiPx8Z6FwA7N6dax94rDD7HWv0p6GYJHCQha19+KOO4CRI50qJb+ortHZLCwAwHJv/SQNbSm76JGfzz7LneTChcAVV8Q/d8CA0JpVKubP5zQHe/YAN9wQu9/PD79Ll9RGY2UR3TharZoz/7iaNnb58vS0qbwjq0glEhZVqrCtySvCOx6qvS/bhYXF90SUrnprZQ/dRemXX+K72X3+ebjtCYL+/YG//x14+GH3UpMylPj2271reSxcGF77guazz9xrGwRFxYrO+gfVq9sJGfPygFat7H2peN0YkkcG04aZOlwtHRhxYeFXFHYC0I+I1gDYA8tmYbm3GhLhNuK47jr3Y9eujU2FXFwcvTwOP/3ESy+D6y238Gd54AGuPTx0qPe1sqGy3gUX8PLGG4O/9pdfAitXOu08atLJefOcKVUyEkxTjknFcO2Xgw8GzjqLiylFXFj4nVmcBzZmnwXgQrDR22eNLoNrR9+ypfuxbmlDo+g2KfNceU3Ra9YEXnyRBYWObriNeqrUVavs9enTg7++nEF41WL+619ZQEhVVNSfV9T4/nuuR5EqpUnjkcz1s1lYEFEVIroNwF3gPE8bhRBr5SstLSwL6D+C+vWdBktJcTHQsWPs9oxVMYqDLJbxzDO87NGDl272Cx29s4t6Wcm1yk89jCyNsi7uccfZNU+OOMJ5zK5dnIkWiJu63ODCKaewujSqQrYsCAsAEwB0BLAYwAXgSG5DaalRw7102JIlrJ/WqV07/DYli+6tIzswP/nRs01YhB0bIj//q69y7Y9ffgGWLnUek5dnOwMMHhxue8oa8vcma1P4JV11iVeu5GWWC4tjrHTkLwLohWyPpM4kamCPl7DwSmHupZ7IJHoZvn/8g0e+f/FRbTdbhMV337EjQrwguSCQHjHymbZsyR2VmtI9L88ulmNIDvn/0XNrLVvmTAevc8IJrAIMG2n/85lhOFMkEhYH/tVCiIj+o7OECy8E7ruPdd41arjHFzzyiPu5UexMdT3u6acDv//uPQsaMcLepwuLqKoHunQBLrmES2qqBB0UJw3W+jNt3txe37nTWcDCkDz6zOKYY4CjjvI+vrAwPbMLmS464sGWiYTF8US0y3r9CaCtXCeiXeloYJni4YfZ86FqVecPl4j14no1ucesXI2qgTWTtGhh21TUCPSnnkp87t13A48/zuv79wP/93/2vigKQzcefpiXQSeElNfThYWq6tu1y8SklBa/WXvnz2fV0P796bEXSoGVzTMLIUSOEKKW9aophKiorLu4uRh84fYDvO66WKN3s2a8HDw486OOwkJ255QGWNmxzZvnv9qS/Nz79jlnUVGMt3CLdZH+9snqvhPhR1gIYaed6NAh2PuXF7p3t1U+Kps22XapoiLgxBM5riVdMwvpWh9FdbNC9hcWykbcYhO+/NIZsQs4Yw+mTQu3TYn417+c7/fvB847j/9YfpHCok8f5/axiYouZgBdgN1xh915hyUs9I5Jj8+pXZtVY1F0eMg0mzcD48bFP2bNGqBNm9jthx5qBz0+95y9PV0zC+lab4SFIQav6md79thulADQtau9HnQHlSwPPGCv79gBzJ2bfF4n+ceT2VUlUfQCuece5/spU8ITFl42C91GUacODyBCrouSlVxyCev+f/vN3/H6TH3rVs4Ifdtt9rb9+9MzszDCwuCJl9dTXh53GG++CQwf7gzmi1KE81138VLv9BPhNUrTZ1RRQC9ovWNHOMIiL4+rrgGxM4mcHGdamIMP5gGFW72L8s68ebyUatJEuKUd1/OwbdxohIWCERaZ4Pff3bfPnMkdau/esRGn+fkcye11bjrZvTu187yERRTTV6xZE/s+DGHhlldLpXFje71BA2DOnMh3KhnFbZaqD86uuYZnIjpuM7YtW4JpVzyMsDB44lauEWBBoHeocqTUqxdw6aVA377hts2NggLne2kMPPro5K7jld8q0yo2N1T/+3792LgtcwR5fX+pkEgnrnrwqGqpTDs8RAn19+mWh01PSTN+vPt1vv2Wl2omaBkwFybyf5HN3lCGkJk7N3ab3nk0auR8vzYDWVY+/ND5ftMm/gPK5Hp+8YqE9uvSmE7UtCWvWhWEpWHZLco+VRLV1T7lFBYSgwZx0GNdq0BlFGdjmaC4GPjf/+z3bs8l2Wf10kv2uh5JHwZSWHippyNCtFtXVlm+HBg40N0F8vvvne/1jJeJqnaFgT6179SJR7bJGqb1Gcqzz/IyiiMqt1lQGMIiUZK6nBw2vsr06FI9qT/L8sqddzqzBugzLiGSdwhIJMCDRgalRrzksBEWmaBVK+Dll50dklpWU6VmTc4XJHFLQBg2UkBNncrT/Pr1+U+Y7EhI/pG7duVo9kGDeCYVxaA8tzbJTsStZGyqSD21HpDphXR0iOJsLBN88YXzvVdG4yuvjD3XzQX57LOd75NxDU+ViRN5+Um0a8wZYREVpB7VTZ+qzjbeeCMdrXEiR7F16nAnOmIE/ymTnVkcfzwv+/XjaOicHBY+URYWS5bY22RHLSPrg0B2bn4Fr2yDmVkwuppIFxZyVtGunXP7U0+x16HOQw/xUgqhdKiGskSlaIRFVDjxRB559+8fu8+r9kU6KC4Gxlhl0NXkgamooTp0YBdU1UgfZWHRvLkziCsM92UjLEqHXijMS1jk5jrT0nTr5p4kUNqE5G89HUXHssRZwQiLbGDhQmDGjMzc+8477eJLVavyH+zkk1MTFoAzpxQQbWGhe9aoHbpXYGWyGGFROmRKHImXsKhc2elN1rJl7DOvU8eO5JZ2tHTMLNRA3AhjhEWm2bw5caLAGjWAM85IS3Ni0AMDpY0hVWGhkylhsXdv/CJCbsJC5csvg2lHWRMW+fnpzSKs/wZ1YaFGx0sbhT4bkciKhep10iEs3noLOPLI2NieiGGERaY55BDO5uqH665Lf14gWcoT4I5Kdu4lJcH8kTIlLJo3j19bOZGw2LgxmHYk2ylJ9UhUDdzVq6enBoREzgBkmg7ds05VQ516KscGPfigvb9iRa4XLwT/FyUyE6we1R0GlStzPMfhh4d/r1IQ599giBzVqoUz0vn8c/Z40o2AgPN+DRvanXu6ZxZ//MGCMqjPnygyN5GwuP12Zx6hVClrMwsA+Prr9N2rqIgTAQ4eDDz5pC0s8vM5Ol56sOXmcj14Peus1yyoceOssSWkCzOzyCZycsIZhZ9/PlcFKyjgOhPqn0R2qjIzbNDCwo/r7B9/sOFR5lAKEi/bQyJhERRlUVikk+Ji/l9Idenu3cDq1TzDOeUUO7FgongWQ0KMsMgmwlbZtG7NdSbU6OWnn+blNdfEtiFdMwsZBPfII8CPPyZ3/eLi2JGumttq3Tr38xIJi6ZNk2uH1zU6d+b1siAsMjES14XF4MFO70GZS80Ii1JjhEU2kS79vp5iRG+DnLqny2ah+qGfdFJy1x81CjjzTOCzz+xtmzbZ66kKCxkzkgxCOD+rWtvbrSiPG1JYqCnjo0ImbE+6sNCRte6NsCg1RlhkE2ELC5l3SrojylF8p07ONsjOO10zCzWddLKpG2S09a+/cuf873/bHQjgnWsrkbD4+OPk2gFwjYxKlYD334/d5/dZSmGRjgR3yZKJ2Y78nry+K1loLJ4zg8EXxsCdTeTk8Og0KE8kL2SHLEfPasJDdWaRLmFRmvuo6Z+vvBL45htn/e94M4ugg/BkLqyePTndiYpfFU6U6proZEJYFBTwrMFrZiFtbnrmWUPSmJlFNiFHT2En3lu+HBgyxH4v7RWyDekWFjNnOt+7laX1QgrVkhLb3VTONqpXd6qCVMIwcKup2NUa5ACXqPVDlNUpmRAW0vlBFxZHHslLGbtgStGWmtCEBRGNJaKtRLTEY//FRPQjES0kovlEdKq1vR0RzSaipdb+3mG1MeuQnVfQqii9U3z6aduwDdj5cuSx6bRZCOGsFgdwp//II/5y6shrq55kMifQYYd5q7UKC4MXFvFsQX5rg6TDQytV0lmX5KuvOEvr9u3uwkLP8WSERakJc2YxHoBHqCQAYDqA44UQ7QBcC+Bla3s+gKuFEG2s858kojoe1yhfyI4i6BrMiVQbasrmdNss3MpkjhzJqqTnn098/enT7fv88INzX26ut599GDMLmUqiNKQjV1GqPPGEvT5nTnj32bmTs8Neeinbn9yEhZrTC4j2jCxLCE1YCCG+AbAjzv7dQhxQ1FYHIKztK4UQP1vrmwBsBdDA/SrlDFm9TY1ALS2//ppYraUKk3S7zsoU0XffzV5NALBtGy/9jGSlyknWaJa0asX++B995F75LgxhoSZilDRqlFxNbfnMu3cPpk1B8t579rp0CU4FIVjweDkfyN/BjBnuwmLoUA7AUwnit1rOyajNgoh6ENFyAJ+AZxf6/pMAVAbgmjyJiG6wVFjzt8kOpCwjjbFB5SX6+mtONbJ3L+t4v/vO/Th1VKZ2oGEIi7lzbddWddTfvr0d/yF14/r9i4rYz/6XX2xHAMmvvzqPHTQI2LWL1+XsQ79WopKnybBjB/Dpp7yuqqMmT+bEjMnQoEE0k8/17BnMddau5QSWPXrE7tu/nxNrSgoLY4VF9erOui9qcSRDymRUWAghPhBCtAZwCYCH1H1E1AjAqwCuEUK4VjIXQowRQnQUQnRs0KAcTD5k57fE1QyUPOp1zj7bezSo2iZUYRG0zeK997jjlH90NdNuz56cQwew1XC6sJgzhyvKHXkk8OijwCuv2Pu++sp5rFpx0M1Txs/MIhlHg8sus9elK3DjxqkV16lQIZqpKA491Pl+woTUriMTPLoZzN1SrNSo4RTsr73GSxmT89BDsecYkiYS3lCWyqoFEdUHACKqBZ5t3CeECFH5mWXoGTVLi/oHGz3a3zlhzSxKSoBevXhbcTF7Kan3qljRbq90h9Tvr44ux471TvZ35plONU4ywmL9entdt4HEY/VqXtaqxbOku+5iN95UIAr+txAEuv3HrZCXH6SQcLOlyXroKlu2OH8L0sYmhXmU3Y2ziIwJCyI6goi/YSJqDyAXwHYiqgzgAwAThRDvZqp9keSII4K9nqpekq6ciYK9ghYWixZxp9tbc3pr2jS2Hrn0ipKdtH5/Vfj98ou3beerr7hcrcRthuQlLFJV/8iZQMWKfL/HHku9qFVUZxb797NdRs4oUjXoxxMWaolhiaxLLjPFyu9d1k4xMRaBEKbr7CQAswG0IqINRDSQiAYR0SDrkJ4AlhDRQgDPAehtGbwvB/AXAAMst9qFROSSDrUcMnJksNdTR6fHHcdL6Z/uRdDCQhox33UZF+gpMBLpnr0K3qveXG5Mmxa7LZ4aSsZESLWYH+TnDOKZRXlmUamSLfhTrRcfT1jos7GzzrK/Jymc5Axz4kTOROtV396QFGF6Q/UVQjQSQlQSQjQRQrwihBgthBht7R8hhGgjhGgnhOgshJhlbX/NOqed8loY/27lhGrVgIsuStyh+2XgQHtd9R65NsbXwCZom0U8pI+8zHir6/f1+597rvt16nh4XsvYhmHDYvfFExaDB/MynUV+VIiiObPYsoXtSbm5LEilA0GyyOBJP+oj1RYlBbEUpI0acXCp8YQKhEjYLAxJUK9eOIVvVJWU6i+/UJPTQc8sdNT7yehq2anrnbd6/3jGZjXLrIoeRa0ST1jIZ+UnKFAniGcWVTXUpEm280Ht2na24EQIwaPko3wAACAASURBVHEzy5fzezmz0F2NE3k8GqEQKkZYZBvVq8cvB+rF1q2xHYzqEaTWMq5Th72KFi2Kza6qdqBBBDrpnipuenzZKeuBV+rI3i1WQqKOcD/80F7fvt37nHjCQqqfUvFKK8tqKJXKlf07AGzfzoL7rLP4vZsaqriYa64AXNHunXeA//zHGWsjn20UBWkZwAiLbCMVYfHbbywYdINvp07AsceyPl0tKQlwHELbtrHXUjvQRLYAP6i++Rdf7G6MlIZLXVioI3t9lO/lLnnKKfZ6PNfYoiLvaGkpJNW6H+kkiJnF5s3+R/6psHEjx8z4mQVLdaLs+G+/nZdvvMECoGtX/q6kd1uTJuw5d9ttztlH//68lELFEChGWGQb1atzx5iMvlxWg5M5kSR79rC6IBlDpNrBukUkJ4t6jRNPdB95yxlQPGGhpkB57DFnZlkVdTYUz+YSb2aRSiJH+bkyPbOYOZPPb9w4Nh/VsmWcNFJWlwuCZPJFSeElCxZJZDCjxCvi/5JLWIg2b+7/ngbfGGGRbci8/MnMLqRLqfrH3bGDI5el/79fgp5ZqMLi7393P0Z2sPHUUKqwkBHSL79spwWXqMJC7XAXLYrd7jWzUJ+j3xF+kM4ApZlZqB5lmzfb1ykuZq+h8eP5+QWVrNJPHjNd+CaaGQSdG83gCyMssg2ZCiOZTl4tYi/p04eXmzcnd/8wZxaJIqb1/V4zC6n6GDgQuOkm5zmqsLjgAntdFRbyeXkJi7PPjr1XIuQ1gxAaQdosRozg5fXXO7enUtwJiM2s68cJIFlhYQzZGcEIi2xDGoBXuabLckeOwOVsZOlS2y01WYJ2nXUzkr/0kvuxfmcWegelCgIV1cCvfq5EwkI91o+aRaoBAWDq1MTHJyJIbyiZemTcOOf2VOwZTZoA52uJpv3MAlTB9+efiQWM3xK0hkAxwiLbkKOuZKJSpUpBepk8/LC97447kru/2lEGoQ5wS9anGqFV9M77ueeA11/nddnBHHooMGCA8zg3Q72OGmAnhUW8mY5MTaK7Frvx1lv2ehDG11RnFm52LtULTsXL3Tgesh42YAfCJTuzuPxy79/Vc88l3yZDYBhhkW3IzjUZA7euf1ZdEpONCg/adTaZ2YkqLGTn3q8fL2UHM3GityBVK/7pqJ9LLZjkhVQHegUCqtx4Iy+Dyn6a6sxCuhc/+aQt5GT6jG7deClnrPFckb0oKbGf2aOP8tKPsFAF32efuQuL337LTCU+wwGMsMg2ZCeZTECYrhMuTWCdeu6ppyZ3rhcjRzqLHHl1hGrnrRvXZQfjJcCEsCPBVWQHrgrURGooALj3Xu99XsgEiKUl1ZmFjDepVcsuDiQ74IICzvgrPYmSrXonBH8+Kfz1DMHx0H+f+jmjRrHKMJUgSENgGGGRbaQys1D/jDfdVLo6DXom2CAYOtSZIM5LWHgZ17dutTuYZPI1AbZ9RO2I/AiLY4+11xON8uvW5eWoUcm1zYtUZxYyEWNenv0s77+fhcj06RyMKQcPidJ6v/oqHzttGs+yGjfm7Z99xksptJMRFjk5/P2p59x7r52WXG6XKkBDWjHCItsorbB4/nn73FT80dNdA1odQaudt+rFdfbZ9mdKVjUmP8+kSfY2P8JC7awTdYgnnMB2mK5dk2ubF6nOLGSnq5970UW8lB29H66+mpd33AH87W92bIYsMpVMvXjZnuJiFtqqQ0L79rYAkwLdBN1lBCMssg0pLJLxg9drALz2Gv+Zk42xANIjLGSHf+65TjWZl31jyRK7I0l21iTtN6qrqB9hoRqG5YjdC5mNNShK6w11663O96Vp24oV7ior+TvxE8Aoj2lnJZdWvccuvdReT3X2aAgEIyyyDfknTGZmobuiFhSkHnSVDmFx5JEcHKaO9nXUGAnAfh7JdnxSfaKm7vDjDaUKsTVr4t9jy5Zgn1uqMwtZvlVviyzTKzMP6/nAVHQjc1GRU4UnjflS0Pr5nclyvm61QtQBghEWGcUIi2wjlZlFkEFM6VJD9e/PGXbdaNqU4xXU2ADZYaXSkTRs6Byp+/GGAuzZiJf7KcDp3lescK/znSqpziyaNo1N8aEi03136+b+2T/8kG1FixcDV11lb581y16X7q3JzCzkYGbuXOd2fUBghEVGMcIi20hlZjF0aPD3zxTffAP873+8PmAAGztzc1OfWchzkvWGAoDWrXkZz2ahB7sFQaozi0R1xaUgyc3lZ6B39FI4fvut92fWU7P4GdTI+ilqXZEqVeyAQYlMOnn66YmvaQgcIyyyDdkZJhNMV7t27LYWLVK7f6aFxWmnOSOvDz6YS6RKYZHKqLNSJafw9SsskvH4CZJUix8VFsb//uRvy+tzSZUQUeLPnIyBW6q/1KJeBQWxbT3vPP7c8WZHhtAwwiLbSGXk7DYLScW4Ddh/YFnfONNUrMgdkiy3merMIgxhkWysgl9SVUMVFTmfj54yRn638hjp2SRRZxp79wInnRSbqFEin50fNZRUIaq/qUTP3pB2jLDINlIZOQdZ/lP+iWX220wjhYWs4V0aYfH778CMGXYMhV9hccst/JKsXs1p0pNJyZIMQamhWrRw1jGRKiQpANRYEsAZ1Jifz5/vppvsaHDVxpTMzEIazWU8CgDMm5f4PENaMcIiG5EGVb+jSzdhIX3uk0Vey8v4nG5ycpwj+FTVUO+/DzRoYFdrk9vjocZ0qCPsbt28060HQWlmFrpqx612RYMG8a9TXMwzCxlFL5+TKlzl+po1ieM3pLBQa6WrQZqGSGCERTYiDX3xakir6MJi/frUo4kPPpiX99yT2vlBU7Gid+CeX7xGv4mEhS6YpDpF1pIOi7AM3JIXXuDlwIHO7dKldt8+FtBSWMhrql53ctuwYbFeTTp6zW0ZJGiIFEZYZCPr1vHSK5W3TmGhPWpr1oz92VN1p61fn//cvXundn7QBGFw96qlnUhY6M/wySdjj5EdX7wkhsmS6sxi/35/ajo5qn/lldjzAXauWLYsVlioMRH69xJPuKl5vXbutFWKhkhhhEU2sm0bL/12+IWF7Ir4wQdOn/hUCSLbbFCE6Z3144/JHb9zp52sT3Lkkfz8X345uHbNnMm2lWQpKIgtWOW3XXPmsIBQkcJCzubU36NbCdzHH+cYjb//3ZmyQ3o+5eSw516Q0e6GwMiwH6QhJaRx2W8WTplu4pJLwmtTpghTWCSb5TQvLza1d9Wq4bVRCH8DBiG4sy8ocKanB7juuR/cYhuk4JFtiDez2LcPuPtu4L77bLWobL9buwyRw8wsshHplZKby7W04yEEp84Iy40z0wTdEdesaa+r5VP9ULu2szZ63bqppTL3yxtv+DvulVc4keHKlbGdcqLCUEVFnD7eLS5HzizcSsbqMwv5+1PtZ3J29J//pFZsyZBWjLDIRho0AK68kj1NEnklzZnDy+3bQ29WRlCFxejRpbvW8OFONZKs9haPM86w1486yqnnv+ee2LobQbJ+vb/jVq6015NVIeblAR07stH+8MOd++Rna9yYhcnzz9v7dCGuClHJ2WennqPMkHaMsMhWpFcS4B4U9vLLnL3zvvvS16ZMoOq3ZVLAZJGd3pVXOrf7UY1MmcI1HQD+Hh57zN4XRI3yePg1cqujfL/qnttv56ValEoXfPJ9bi4H+Mlqe/o9Ae+ZbePGPAPr0sVfuwwZw9gsshU1MnbDBqBlS/v9woXA9ddzLp9UI7WzBTlzAlKP+v39d6eqpWtXTlTo53o1a9reQ7qNQ6bcDgu/7rOpCIvDDuPl4sX2Nj27brxZU24uu2dPm8ZxFl7CYts2vlfTpo7NhYWF2LBhAwpMKdXAqFKlCpo0aYJKKToQGGGRraij1m+/dQoL+QfbvDnYjLNRRP18n32WWoGhqlWdJWLfe89ZUyERUrWjdmwvvpi8zSNZ/EbmqzE1ftVQUo105532tr17ncfMmcODEi9uv51/l27C4tZbgaef5vV162Lqk2/YsAE1a9ZEs2bNQGX9N5wGhBDYvn07NmzYgOapFD2DUUNlL0OH2gIiL8+5T/65hLD9+995J31tSyfXXWevd+wYzDWrVAEaNfJ/vOyAVU+oiy8Opi3x0PX9K1YAhx7KZU5V1E7+ww9jr7NoUeysYenSxPdXI669kM9GFRaLFwN33eU8TpslFRQUoF69ekZQBAQRoV69eqWaqRlhka00aWLXSNDTKajCQq6no/PKBKpa5cILM9MGOQp/7z1eVqvmzIwbNPIz68Li2WdZUMQLavvll9htbdvGGq/dUnT07et8r+bD8kIKC9XAfcghsdHvLp5dRlAES2mfZ2jCgojGEtFWInINjyWii4noRyJaSETziehUZd9nRLSTiD52O9dgIf+IU6c6R49SRVVSwoFiVauW3UAnVa2SqaI48k8o1UL/+le49/OqaSJH5/FsGX5jR/REkULEdugytXg83GYW1aubAkZZSJgzi/EAzo+zfzqA44UQ7QBcC0ANJX0cwFWuZxls1D+cOmKUwuL771lfreuayxJt2tjrmRSI9evbMQtht+Pqq3mpz16k66ruHaeOKNXMsfHwIwjUmBQv5CxItQFVqRKtLAAe5OTkoF27djj22GNx2WWXIb8UsUpff/01unfvDgCYMmUKHn30Uc9jd+7ciecVN+RNmzahV69eKd87KEITFkKIbwB4RowJIXYLccD3rzoAoeybDuBP1xMNNuofTh1lppJkLltRBWYmhUVxsa2GCrsdMomjmtJbRQ9wU1Nr9Ovn7x5/+5u9Lmt0q1Sr5u9zyt+oWq2RKDbtSARtalWrVsXChQuxZMkSVK5cGaO1OB4hBEpS+K9ddNFFuCdOIk5dWDRu3BjvRiBfVka9oYioB4B/AzgYQLcEh7udfwOAGwDgMOnqV55QhYXaQUhdduXKyaesyGYyqeNWR85hx1fITtrLG0r/zuVxX3/t/xldfTXXQQdi61oA7G7sB/04r04y3sj5ttvsmhlB0a6de+JHD0477TT8+OOPWLNmDc477zx06tQJCxYswNSpU7FixQoMGzYM+/btQ8uWLTFu3DjUqFEDn332GW677TZUq1YNpyreduPHj8f8+fPx7LPPYsuWLRg0aBBWWy7uL7zwAp5++mmsWrUK7dq1w7nnnoubbroJ3bt3x5IlS1BQUIAbb7wR8+fPR8WKFTFq1CiceeaZGD9+PKZMmYL8/HysWrUKPXr0wGNqzE8AZNTALYT4QAjRGsAlAB5K4fwxQoiOQoiODRLl4C+LqP7zqrCQMRiy0/jnP9PXJgPw9tvhXj9RYSG9cy8s5M441drVbl5PfuM1Ond2vlcDCWVdlohTVFSETz/9FMcddxwA4Oeff8bgwYOxdOlSVK9eHQ8//DC+/PJLfP/99+jYsSNGjRqFgoICXH/99fjoo4+wYMEC/OZWNwTArbfeitNPPx2LFi3C999/jzZt2uDRRx9Fy5YtsXDhQjz++OOO45977jkQERYvXoxJkyahf//+BzycFi5ciLfeeguLFy/GW2+9hfV+I/x9Eok4CyHEN0TUgojqCyF8DlkMjlGi28xC0rp1etqTKa66Cnj11Uy3wibsmtxyZuElLHTViEwkmSpu9gW/MxT9vt9+a6/37g2MGJH4GknMAIJk7969aGcFVp522mkYOHAgNm3ahMMPPxwnn3wyAGDOnDn46aef0MWKQN+/fz86d+6M5cuXo3nz5jjSqiver18/jBkzJuYeX331FSZOnAiAbSS1a9fGH3FifGbNmoVbLC+01q1b4/DDD8dKK53L2Wefjdq1awMAjjnmGKxduxZNtWDH0pAxYUFERwBYJYQQRNQeQC6AMprAKETWrOER2nffAZdfztv0TsSPITKbmTCBkyVGhbAzqHrNLFq04Ih9XQ3llprcDx99FLz9Rc0ZFWberACQNgud6kq5XCEEzj33XEyaNMlxjNt5YZOrCPWcnBwUBZx3K0zX2UkAZgNoRUQbiGggEQ0iokHWIT0BLCGihQCeA9BbGryJaCaAdwCcbZ17XljtzHpkx/TUUzza++CD2E5E1r8oqxCFbydIBjWaPgy8hIUcRerCYs+e1OqBd+8OnKf99caMAfr0Sf5akocfttfvuottB34CACPKySefjG+//Ra/WN6Ie/bswcqVK9G6dWusWbMGq1atAoAYYSI5++yz8YJVmbC4uBh5eXmoWbMm/tRT3VucdtppeP311wEAK1euxLp169CqVaugP5YrYXpD9RVCNBJCVBJCNBFCvCKEGC2EGG3tHyGEaCOEaCeE6CyEmKWce5oQooEQoqp17udhtTPr0f3Vhw1z5o0COHW2IX0MGxbu9b2EhVQN7dvHbrQbN/J7tQRqabn+esCj4/NEdcNVO7aqVYEffvCX3TeiNGjQAOPHj0ffvn3Rtm3bAyqoKlWqYMyYMejWrRvat2+Pg9XEnwpPPfUUZsyYgeOOOw4dOnTATz/9hHr16qFLly449thjcZcW6T548GCUlJTguOOOQ+/evTF+/HjHjCJUhBBl4tWhQwdRLvnzTyHYbMivY44RYvJk57aioky3suwjn/V11wlRUhLuvUpK+F7//Kdz+5ln8vbBg3nZsaMQhYW8Pnx4uG2KR4MG3IarrvJ9yk8//RRig8ovbs8VwHzho4+NhIHbUAp0nXJRUezMItVsrIbk8VsXvTQQ8exCn1lITyNZu2T+fGDIEF7PpH1AGvxLo74yZJwIKXoNKaGrodyEhaHs4SYs5Pf+1lv2NhnclckofllQKhW7iSEyGGGR7RDZtQcAdpOUnciXXwJz52amXeWNAQM4QV66qFjRDrabNIl/B7NmeR+vCpBMEbZLsSFUjBqqLNCqFdcEALgDkSPMww4DLD9vQ8iMG5fe+6nC4ooreBmvct6zz4bfpkSYanhZjZlZlAVUVdSWLXbEtrFVlF2qVuWRut/RehSipY0aKqsxwqIsoAoLIexSqkZYlF2qVeP4CT8V/b76KrZehcGQJEZYlAW8agNUNFrGMku1apziZbuPpAdnnhl+e+KRxYOWDz/8EESE5cuXxz1u/Pjx2KRXKEwCNYV5VDHCoiyg1S8+QBb/SQ0JqFABmDLFPSMsABx/fHrbE49ff+V63VnIpEmTcOqpp3pGYEtKKyyyATP0LAvceCNw002x242wKLssWuS+ffhwtlk1b+59TLpp2tRORZICmcpQvnv3bsyaNQszZszAhRdeiAcffBAAMGLECLz22muoUKECLrjgAnTs2BHz58/HlVdeiapVq2L27Nk4+uijMX/+fNSvXx/z58/HnXfeia+//hrz5s3DkCFDUFBQgKpVq2LcuHFpS9dRWoywKAsQcaU2tXbAiBG8zVC+6NKFEyvKmutGFZkykydPxvnnn4+jjjoK9erVw4IFC7B161ZMnjwZc+fORbVq1bBjxw7UrVsXzz77LEaOHImOHTvGvWbr1q0xc+ZMVKxYEV9++SX+8Y9/4D1ZNCvimF9SWWH6dKfq4e67M9cWQ/jUq+dur9izxy67WkbIUIZyTJo0CUOsCPg+ffpg0qRJEELgmmuuQTUrIr6uV7VCD/Ly8tC/f3/8/PPPICIUehWwiiBGWJQVZP1nQ/ng1ls5YeG4cezpdNZZvP2ggzLbrjLCjh078NVXX2Hx4sUgIhQXF4OIcNlll/k6v2LFigdKrsriRABw//3348wzz8QHH3yANWvW4Iwzzgij+aFgDNxlEVnXwlB2uf9+nkUMGMDeTuecw9uV8p2G1Hn33Xdx1VVXYe3atVizZg3Wr1+P5s2bo3bt2hg3bhzy8/MBsFABEJNWvFmzZliwYAEAONRMeXl5OPTQQwGwUTybMMKiLPLMM5lugSFsiJzJAT/9lFORGwJh0qRJ6NGjh2Nbz549sXnzZlx00UXo2LEj2rVrh5EjRwIABgwYgEGDBqFdu3bYu3cvhg0bhiFDhqBjx47IURxN7r77btx777044YQTAi9OFDYk4qUIyCI6duwo5s+fn+lmZJalS4HJk4F77/Vf9tJgiCDLli3D0UcfnelmlDncnisRLRBCxLfMw9gsyhZt2vDLYDAYAsaooQwGg8GQECMsDAZDJCkrKvKoUNrnaYSFwWCIHFWqVMH27duNwAgIIQS2b9+OKlWqpHwNY7MwGAyRo0mTJtiwYQO2bduW6aaUGapUqYImTZqkfL4RFgaDIXJUqlQJzZs3z3QzDApGDWUwGAyGhBhhYTAYDIaEGGFhMBgMhoSUmQhuItoGYG0pLlEfwO8Jj4oG2dRWILvam01tBbKrvdnUVqD8tPdwIUSDRAeVGWFRWohovp+Q9yiQTW0Fsqu92dRWILvam01tBUx7dYwaymAwGAwJMcLCYDAYDAkxwsJmTKYbkATZ1FYgu9qbTW0Fsqu92dRWwLTXgbFZGAwGgyEhZmZhMBgMhoQYYWEwGAyGhJR7YUFE5xPRCiL6hYjuyVAbmhLRDCL6iYiWEtEQa3tdIvqCiH62lgdZ24mInrba/CMRtVeu1d86/mci6h9yu3OI6Aci+th635yI5lrteouIKlvbc633v1j7mynXuNfavoKIzguxrXWI6F0iWk5Ey4ioc1SfLxHdbv0OlhDRJCKqEqVnS0RjiWgrES1RtgX2LImoAxEtts55mij1so8ebX3c+h38SEQfEFEdZZ/rM/PqJ7y+lyDbq+wbSkSCiOpb79P7bIUQ5fYFIAfAKgAtAFQGsAjAMRloRyMA7a31mgBWAjgGwGMA7rG23wNghLXeFcCnAAjAyQDmWtvrAlhtLQ+y1g8Ksd13AHgDwMfW+7cB9LHWRwO40VofDGC0td4HwFvW+jHWM88F0Nz6LnJCausEANdZ65UB1Ini8wVwKIBfAVRVnumAKD1bAH8B0B7AEmVbYM8SwDzrWLLOvSDgtv4VQEVrfYTSVtdnhjj9hNf3EmR7re1NAXwODjyun4lnG0onki0vAJ0BfK68vxfAvRFo12QA5wJYAaCRta0RgBXW+osA+irHr7D29wXworLdcVzAbWwCYDqAswB8bP34flf+hAeerfUj72ytV7SOI/15q8cF3Nba4A6YtO2Re75gYbHe+qNXtJ7teVF7tgCawdkBB/IsrX3Lle2O44Joq7avB4DXrXXXZwaPfiLebz7o9gJ4F8DxANbAFhZpfbblXQ0l/5iSDda2jGGpEU4AMBdAQyHEZmvXbwAaWute7U7n53kSwN0ASqz39QDsFEIUudz7QLus/XnW8elqb3MA2wCMI1abvUxE1RHB5yuE2AhgJIB1ADaDn9UCRPfZSoJ6loda6/r2sLgWPMJGgja5bY/3mw8MIroYwEYhxCJtV1qfbXkXFpGCiGoAeA/AbUKIXeo+wUOBSPg5E1F3AFuFEAsy3RafVARP7V8QQpwAYA9YVXKAqDxfS9d/MVjANQZQHcD5GW1UkkTlWSaCiO4DUATg9Uy3xQsiqgbgHwD+mem2lHdhsRGsC5Q0sbalHSKqBBYUrwsh3rc2byGiRtb+RgC2Wtu92p2uz9MFwEVEtAbAm2BV1FMA6hCRLKil3vtAu6z9tQFsT2N7NwDYIISYa71/Fyw8ovh8zwHwqxBimxCiEMD74Ocd1WcrCepZbrTW9e2BQkQDAHQHcKUl3FJp63Z4fy9B0RI8cFhk/d+aAPieiA5Job2le7ZB6TCz8QUeca62vgxpuGqTgXYQgIkAntS2Pw6n0fAxa70bnIatedb2umDd/EHW61cAdUNu+xmwDdzvwGnsG2yt3wSnEfZta70NnAbF1fj/9s4txMoqiuO/f2ppN0EqC8zMCstMxpqsTEkRyiwfSiuoJCxQX8YuSD1M1Ej1UkHgpSx7SLSa8CHBJspbkSbkvfGS5ZRD0YtIaDeSkNXDXqf5OJ5zPifPjMdm/eCD79vf+vZee59z9tqX76zVdRvcG4Bhft7kbVtz7QvcBOwBzvbylwINtda2HL9nUbW25PhN2MlV1nUSsBe4sEiuZJtRoZ8o97lUU9+ie+107Fl0a9t2WSdyuhykNwq+I73t0HiKdBhLmra3Ajv9mExaE10H7AfWZj5wAYtc511AfSavR4E2P2Z0g+7j6TAWQ/3L2OY/orM8va9ft/n9oZnnG70e33ISb72cgJ51wFZv45X+I6rJ9gXmAfuA3cAy77xqpm2B90n7KX+TZm2PVbMtgXqv+/fAQopeTKiCrm2kNf3Cb21xXptRpp8o97lUU9+i++10GItubdtw9xEEQRDk0tP3LIIgCIITIIxFEARBkEsYiyAIgiCXMBZBEARBLmEsgiAIglzCWAQ1h6R294y5U9LWMjJN7oHzykzaE55W79cfZz2KnoQ+TZLmnmw+JfIdL/fYWyL9iNd/p6S11S77v+K6jTnVegTdT+98kSA4JUwws0M5MrtIf0R70a/vI/2hDQAzm9xFunUHG8zs7s4+JKm3dfgq6grGA78Dm7qwjKAGiZlFcDqzkuRHCUlXkJzo/WtgfIZygaQhSjEslijFiVgtqV9xZpKmeGyCHZLWShqYuT1c0ueSfpA0J/PMw5I2+wzgTUm9PP0NSVu9vHkZ+UkeS2E7cG9nKuv1WO+xC9ZJGuzp70haLOkr4GVJ53hchM1el0Ib9ZL0qlKcjFZJDZ7+nKQtnv5WIcaBpDlKMVZaJTW7k8vZwJNe33Gd0T84vQljEdQiBqyWtE3SzApyvwI/SRqBx3KoIHsVsMjMrgUOA1NLyGwEbrbkbLCZ5FW3wNUkV+Gjgecl9ZF0DfAAcKuZ1QHHgIdcvtHM6oGRwG2SRkrqCywBpgA3ABdX0HdcZhmq0dMWAEvNbCTJ+d38jPwgYIyZPUX6F/J6MxsNTABecS+7M0muJOoyeQAsNLMbzWwE0I/kMwmS245RLjvbzNpJLi1eM7M6M9tQQf/gf0YsQwW1yFgz+1nSRcAaSfvM7Isyss0kQ3EHMBGYUUbugJnt9PNtpE6zbw0yoQAAAhxJREFUmEHAB+4I70yST50CLWZ2FDgq6SDJBfdEUqe/xQfj/ehwoHe/G7repDgCw0mDswNmth9A0nJSB16KUstQt9AxG1lGCjhUYIWZHfPz20mOHgv7LH2BwSQnhYsLy1Rm9ovfnyDpaZI/qgGkpbxVJNco70paSZrFBT2YmFkENYelmA6Y2UHgQ9JovhwfAdOBH63IrXsRRzPnxyg9UFpAGmVfB8widbKVnhdppF/nxzAza5J0OTAXmOij8paivLqCPzLnAqZm9BpsZt+UeshnO68D07zeSzK63kXyPXQ9ySDG4LIHE8YiqCl8vf28wjlplHxcPOICZvYn8AzwUhWK70+Hy+ZHTkB+HTDNZ0CFONSXAeeTOu8jvu9xp8vvA4b4/gqkSGWdYRNpFgVpuavcMtCnQENm72GUp68BZhU6fUkD6DAMh5TiqUzze2cAl5rZZ6T27Q+cC/xGCv0b9DDCWAS1xkBgo6SvSd48W8zsk0oPmFmzmW2vQtlNwApJ28hslFcody/wLGl/pZXUGV9iKaLZDpJxeA/40uX/Ii07tfgG98GSGZenAZjhZU0HHi8j9wLQB2iVtMevAd4mReBr9fZ90MwOk2YTu0lGZovL9gKWS9rldZnvsquAe2KDu+cRXmeDIAiCXGJmEQRBEOQSxiIIgiDIJYxFEARBkEsYiyAIgiCXMBZBEARBLmEsgiAIglzCWARBEAS5/APkmW4+FxDkCgAAAABJRU5ErkJggg==\n",
      "text/plain": [
       "<matplotlib.figure.Figure at 0x1a49c4ea58>"
      ]
     },
     "metadata": {},
     "output_type": "display_data"
    }
   ],
   "source": [
    "plot_result(\"GBP Curncy\", p, y_test)"
   ]
  },
  {
   "cell_type": "code",
   "execution_count": 85,
<<<<<<< HEAD
   "metadata": {
    "collapsed": true
   },
=======
   "metadata": {},
>>>>>>> 796c8c689e39c6c097b216351b531192a054dfbd
   "outputs": [],
   "source": [
    "s=denormalize(\"GBP Curncy\", y_test)"
   ]
  },
  {
   "cell_type": "markdown",
   "metadata": {},
   "source": [
    "# WORKSPACE"
   ]
  },
  {
   "cell_type": "code",
   "execution_count": 96,
   "metadata": {},
   "outputs": [
    {
     "data": {
      "text/plain": [
       "[<matplotlib.lines.Line2D at 0x1a31221a20>]"
      ]
     },
     "execution_count": 96,
     "metadata": {},
     "output_type": "execute_result"
    },
    {
     "data": {
      "image/png": "iVBORw0KGgoAAAANSUhEUgAAAYQAAAD8CAYAAAB3u9PLAAAABHNCSVQICAgIfAhkiAAAAAlwSFlzAAALEgAACxIB0t1+/AAAIABJREFUeJztnXe4FdX197+LchHpcBERlGpEUUFAwdgQLIi9xK7Yo2B7o0aMxhJiQdGoEVRU1ETFXoiYWIiKxnoRpEnTH0pT4CJBCCpc9vvHnu3smTMzZ+acqWfW53nuMzN7ytlzz5z9nb322muREAIMwzAMUy/pCjAMwzDpgAWBYRiGAcCCwDAMwxiwIDAMwzAAWBAYhmEYAxYEhmEYBgALAsMwDGPAgsAwDMMAYEFgGIZhDBokXYEgVFdXi86dOyddDYZhmEwxbdq01UKItsWOy5QgdO7cGTU1NUlXg2EYJlMQ0dd+jmOTEcMwDAOABYFhGIYxYEFgGIZhALAgMAzDMAYsCAzDMAwAFgSGYRjGgAWBYRiGAcCCwDAMkz6efBIYNw7YuDHWj83UxLSS+fFH4IYbgC5dgJ13Bg44IOkaMQzDOPPpp8Dpp8v1efOAe++N7aPzIQhXXgmMHWtuC5FcXRiGYbxYv95c//bbWD86HyYjXQzC4osvACJg1qzwr80wTH4hMtfr14/1o/MhCD17hn/NZ5+1LhmGYcJAF4R68TbR+RCEo48O/5pjxsjl9OnhX5thmPzCghAxt9wS/jWVnW/y5PCvzTBMfmGTEcMwDFOALg4xwIIQBuy1xDBMWOgiEHPbkg9BaNUq2utv3hzt9RmGyQd33QXst5+5/dRTsX58PgRh222jvf7cudFen2GYfHDFFdbtTZuAhx+O7ePzIQjjx4d/zW7dzPXevcO/PsMwDABMmhTbR+VDEPbd17odhl3uyCPLvwbDMEwxYnQ9zYcg2AlDEO6+u/xrMAzD6GyzTWHZIYfE9vH5FIQtW5KuAcMwTCE77FBYNmJEbB+fH0F47jlzXReEDRuARYvirw/DMIyOEEBNTaJVyI8g7Lmnua4LwtFHAzvuGH99GIZhdJ55Juka5EgQ9CnguiBMmSKXPJeAYZgkSUHk5PwIgo7TGMKbb8ZfjzQiBHDxxcC0aUnXhGHyhZM30c03y+WPP8ZThVg+JQ000HIBOQnC0KHx1SXNrF0r80f06yen0C9fnnSNGCYfOAlC69ZyuWZNPFWI5VPSwLbbArvsItfZy8g/r72WdA0YJh80sCWwHDqUBSFSOneWywkT/B3/9tv+xxYqRWTs0RUr5b4YJs1Mny575zosCBGjktnY44U48f77wKBBwE03+bv2PfeUXq80wYLAMPHTp48MbKdTVQW0aSPXYxKEBsUPqSCCNG4rVsjlF1/4O75S5zJwaG+GSYbBg03vSO4hRIBu/unXz8x65oR6U/bbIMacyCI2WBAYJl6mTgXOPBPo0gVo0kSWbdgQy0fnq4fQqRNQWyvXp00DPvzQ/digglAp2O+3ri6ZejBMXrA7buy3n5kTQXkezZkjLRwRB7rLVw/BHgbbK1+p+sfnzYZuF4Q77kimHgyTF+6911xv1866T7VDDz4I/Pxz5FXJlyA0b27d9hKEoD2ESulJ2O9jyZJk6sEweWHjRnO9f3/rPr1HYHdLjYCigkBEE4hoJRHNdtl/NBHNJKIZRFRDRPtq++qM8hlENEkr70JEHxPRIiJ6hoiqwrmdItjt/F7dLxYEhmHioH17c92eDEdvo7xeYEPCTw/hMQBDPPZPAdBLCNEbwDkA9HxvG4UQvY2/o7Ty0QD+IoToDuB7AOcGq3YMsCAwDBMHeliKvfay7tMFIQbHlaKCIISYCsDV50kIsV6IX1qRJgA8WxQiIgCDADxvFD0O4BhftQ0b+6SzBQvMdb+C0Latv+OyQqXcB8NkBb3RHzDAui9m78VQxhCI6FgimgdgMmQvQbGVYUb6iIhUo98GwFohhGqNlwLoEEY9AjNokHX76afN9WKCUK+etOmpL7NSGtJKuQ+GyQq6CEyebN3XuHGsVQlFEIQQLwkhekC+6Y/SdnUSQvQDcCqAu4mom+MFPCCiCwxRqVm1alUY1XWnShvKKCYI228PnHpq5QlCDJ4MDMNo6K7djRolVw+E7GVkmJe6ElG1sb3MWH4F4B0AewCoBdCSiNSQeUcAyzyuOV4I0U8I0a+tMs9Ehf5lFBMEIazduUoRhJ9+SroGDJMvdEGocvCv2XXXQnfUiChbEIiouzEuACLqA6ARgFoiakVEjYzyagD7AJhrjDe8DeAE4xLDALxSbj18VtZ7f5Aegt9rZg3uITBMvOiC0LBh4f5Zs8xQOhFT1LGViCYCGAigmoiWArgBQEMAEEI8AOB4AGcS0SYAGwGcJIQQRLQzgAeJaAuk8NwmhJhrXPZqAE8T0Z8BTAfwSLi35UKxxl3/Mvz2ECptRjP3EBgmXnTnFreJsDG9eBYVBCHEKUX2j4Z0I7WXfwBgN5dzvgKwl9O+WBk82EyhCQSf+FGJgvDEE0nXgGHyhd5DiDg0RTHyNVPZrrKbNlm3ndTZq4egX7NSBMEegpdhmGhJUbywfAmCnalTrdtbb22uK3Fwy7VcqSYj+3306ZNMPRgmL+gmo4RT+eZbEBQnniiXToLgRSUKgh2VsYlhmGjQewhXXZVcPcCCIFFjB7oI6A28HnzKab/TdqWQt2ivDBM3dXXyxUsIM/9BQrAgAM6CoK+/807hOXaTUaXCgsAw0bJ5cyyB6/yQL0FwmwWovoy6OmDhQnNd4TbynweTUaXeF8Okhbo6FoRE6NjRuVx9GbffDvzqV8BHH1k9kPSxBYXdyyjLb9IbNwKvvy7XBw+27vv44/jrwzB5oq4ullwHfsiXIOiccor55q96BZ99JpeLFlknaG21VeH5leBltHkzMGYMcPbZwJAhwLx5hUmE9NC8DMOET4pMRumQpSRo3Nh8q+/RA3j3XXMfkTWEgz1Mtn5clgXh8cetXg0//uh+rwzDRAObjFJAs2bmut21ksjaQ3BqJCthYtr69dbt+vVZEBgmbthklCBdusilHmfcPmhs7yHYZzQD7l5GdXVAbW04dY2Sgw8GLr/cWrZpU6q6rwyTC1L0m8ufIHzwAfD220BNjVnWtKn1mHr1rIIwa5bztYiAvfeW69ttJ5dXXglUVwM//BBenaPgrbcKy/73P+C99wojLj76aDx1Ypg8wiajBNl2W2DgQGDaNLPMnpXIbjKyv0kDponohhvksmdPuVSN58qVoVQ3Vs4/X44j2AeSX301mfowTB5gk1EK0G3+Tl+GPS/At98Wnk9kKrsQwE03Af/9r9zef3/g/vvDq28czJvnXP7pp/HWg2HyxM8/syAkji4IygdfUa9eYV4AJ/dLfQxh5kzgxhvNfcuXA8OHh1LVxFmyJOkaMEzlsnGj81ynBGBBAArV2T6oDEj7utP5ShD+/W/nz5k0SR7z/fel15VhmMpl48ZCs3VC5FcQ1q0z13faybqPqDBG+X/+Y922exnNnu38OX/8o1w6DeIyDMOwIKQMFf5aQVQYiuKCCwrHEfwEt5s50/kz0kzLlknXgGHyw8aNztEQEoAFASh0s6xXzzk2kT6/IIsT0fyiejU6WY7VxDBp5uef3QNvxkx+BeHqq811+xhCs2ayAWzRwlqui0Clhr8eN875njimEcOEz8qVwDffpCaNZn4F4dBDzXW3HoJ9wtqzz1q33QThqKPCqWNSHH10Ydn8+fHXg2EqnXbt5PKJJ5Kth0F+BWHgQHPdLghbtsi/evWA554zy0eNMtftXkY6bqErnEJgpI0vvzS7r3pIj8cfT6Y+DMPERn4FQW/I7SYjIUxBOOEE4O67C8/3Mhn95z8yVpCdLJhdPv3UvKdttjHLndKIMgxTUeRXEHS8BAEALrvM3KeHpPAaQ7jmmsKyVavKq2eY7Lyzc3mPHmbvR+8h9OgRfZ0YhkkUFgSgMLCUbjJSdOsmlyo0hZfJCAAOPNAMfLfbbnKZptDS229vrl9yibnetavpUUQEDBoUb72S5o47TFdhhskZLAhO2HsIgEyvCQAbNpjH2MVAHf/hh3L5wQfyuOuuk9tpEgTdY+ree831c8+1it3FF8v13/0uvrolye9/D/TqlXQtmDygexa5TWyNmXREVEoa+5wCJ0Fo0kQulSAAhSajbt2ABQsKr696IGkSBDuvvirjN1VXA19/Lcsq0a2WYdKCsjY0a2ZGS06YfAvCokXSq8aOH0EoZjLSUWMUKfE1BiDr36aN6Up7+OHWfYC8t/bt468bw+SBNWvkcuzYZOuhkW+TUbduwCGHFPYQnMYQlCCoIHZOXkYLFzp/jhKENPUQhJAxnJzGCHRBUG8ut9wSX90YptJZsgTYcUe5bk/hmyD5FgQ3vHoIo0ebZX5NKmkUBMC97rogqGNSktEpUio5HAmTLk4/3Vxv1Sq5ethgQQCCjSHYz8mqIPhp/OrXN/8HeWgs83CPTDqYOtVcT5FLNwuCE34Fgch6jBtugvCXv8hrfPRRefUtFTcx69JFehVNnmzeXx6C27EgMKWybp0ck3v77eDnsskoZQQZQwCA1avlUk+h6YWbl5Fy5bz11mD1DQOvxo8IuPNOOcbAgsAwxZk1Sw4SX3tt0jUpi6KCQEQTiGglETk6yhLR0UQ0k4hmEFENEe1r29+ciJYS0X1a2TtENN84ZwYRbVN45RhRjX3v3nIpBPD558B335nH6PGO2rY1Gw8/glDMZLR8ebD6hoHTPAon1DEsCAzjjspn8OGHhb/z6dOtEQ5SnD3RTw/hMQBDPPZPAdBLCNEbwDkAHrbtHwVgasFZwGlCiN7G30qH/fHRtCmweDHw0ENyWwhg6VL554ZqUIMIgpvbaU1NoOqGhh9B4DEEhimOHt7mxhvls/TQQzKKaZ8+QOfO5n490nLKKCoIQoipANZ47F8vxC+/pCYAfvlVEVFfAO0AvFFmPaOnUyczyqc+c9eLoIKQtUFlIL89hBdeSK4eTPbQU+zOnQtMmyazLJ5xhixTwSGFkAEkASkiaZqbhJDGEIjoWCKaB2AyZC8BRFQPwJ0ArnQ57VHDXPRHopRMh1XVePdd5/16wDrdy6hYJFA/gpDEg+HXZOSUUrQS0QXhhBOSqweTbVavBt55x3nfkiXmeuPG/pxSYiSU2gghXhJC9ABwDKSJCACGA3hNCOFkdzlNCLEbgP2MvzPcrk1EFxhjEzWroo4Wam8g9QBwgPXL023wxfKh+hEENY09LoKYR9xSilYabDJiwuDHH4GrriosP/BAYM89ze2U5FHWCVWeDPNSVyKqBrA3gIuJaDGAMQDOJKLbjOOWGcsfADwFYC+Pa44XQvQTQvRr27ZtmNUtxN7oDR1q3dYFYcuWQgFxCyntRxDWrgUetg+/RIjfQWUgnz0EhgmC3jb9739A9+7W/Z07y16DPricQkEoO5YREXUH8KUQQhBRHwCNANQKIU7TjjkLQD8hxEgiagCgpRBiNRE1BHAEgLfKrUco2Bu9H36wbusNqL3xmD/fmlBGx09wOxVeu1Mn5+Q6UeBXEOrVy0djaf/+g4gmk1+WLLHmOvnVr4Ctt5ax0rxQ4fFThB+304kAPgSwk+E+ei4RXUhEFxqHHA9gNhHNADAWwEnaILMTjQC8TkQzAcwAsAzAQ2XdRVQ89ZR1227v0xuLX/0KaNnS+TpBgtsdcoj/+pUDm4wKsX8/frPEzZkD3H9/+PVhsoHdjbRHD+DJJ61lixdbt+vVA/bfP9JqlULRHoIQ4pQi+0cDGF3kmMcg3VchhNgAoK/vGsZJsUbP/rbo9+1RCcKECTLfQFoI0kOoZEH4179k0EKnLHd+2G03KbAXXRRuvZhsoHsaNm0q5zAVQ3kapYx0DXEnTbFGr1SPACUIH3xgLd9pp9KuFwbcQzA57DCZKc3eQ9D/RwceaB0oHDdO2oU3bzaPy4NZjSlE/97Xrwdee634Oc2aRVefMmBB0AkqCEF7CHaSjGHCg8qFjBtn3VY/9PXr5YDgmDHmvhEjZCKhkSPNstrayKvIpJCffgp+TosW4dcjBFgQdIq94ZU6wOgmCCrVZtB6hAUPKlt54AHncq+3uTvvNNej9oJj0snPP3vvt48fACwImcDe6DVt6n18OT0Ep4dE9Rg2bfJ33XJgk1EhenpUwAxholNXB3zzTXx1YtLP5Mly+Y9/OO/fYQdg/HhrmYqKkDJYEHTsjZ492bq9ofYrCE7hLZwmoql0lT/+6O+65eK3/t9/X2hOqRR23dVcd/IqOuoo6/ZPP8XnFsxkg5tvlss2bZz3EwHHHhtffcqABUHH3nDb3xjt7mV+B5n1SKkKpzd01Y306+5YDkFNQCmLuRIac+aY63bBF8I6kQiQkSsXLIi+Xkz2qKpy31ddHV89yoAFQWfPPYHbbjO3Bwyw7re7kzk19E4QSU8Wfdq6HtNE0by5XKoeQm1tdA0xT7oqTm1t4f/onHOSqQuTfvyagdQk1BTCgqBDBFx9tbmtDxgCMpOYjl9BAGTvQ81Unj+/0BQBmGMNGzfKZBvV1TJiYlSwIHjTtWvpk9WY/NGoEXDPPeb2nDky6qmdFE5IU7AgOLF0KfDtt3L6uY69cXDzHnKiQQPz/FdfdT5GmayWLzd93idM8P8ZQciD11AYrFhh3fYT7pzJJ1VV1syKu+wicyEolJPKLbfEW68AlB3LqCLp0MG53B6LKEgPoUED8/wrXSKCK4G57jp3l9Qw4R5CcJy8w3SWLXN/fpjKprra+0VL/f7t+dlTBPcQgmAXhKA9hGL+ympQys/U93J49lngk0+i/YxK5913ZU/vxBOBr74yy087zf0cpjJp2FBOUGzSBDjuOPfj1BiD1+BzwnAPIQh2k9GyZf7Prapyn19w8cUyMuKwYcDEiYX7t2wJN5HGSSfJ5RdfhHfNLNOqVfA8tx06yMHBww8HFi40y+0RcpnKZtMm+adeDlu3BsaOBXr2LDz2/feBV15J7RwEgHsIwbD3EF580f+5ShDWOGQj/etfgX/+0xyzsHc7hw0LVk+/fP11sOOL9XCyhpp3cuSRxY+1R6HVu/26WLMZrnL45huZ28ALpxeJ4cOBAw4oLN91V+Daa8OpW0SwIATB3kPYZx//5zZsKBtUt8krgDlgaZ8g98QT/j8nSj76KOkahMutt8rl3LnFj7WLhtss9lmzyqsTkw6EkLlJik0oU15ndg/EjMKCEAS7IFxyif9z3UxG+kxZ9aaZVg8gp7eeLPPmm3KpT05zY8QImdVOoQuCnhip0npReUVFEnjjDe/jlCA0bhxtfWKCBSEIdnNAELt+w4bOUREfe8xcd+shZJHVq4Hzzku33/6778qlnzoSuQckS2koY6YM/I4pqR5hiscFgsCCEIQHHrDa84M0dlVVzjGKdE8lJTBOqTbXr/f/WV6cemo41ynGtdcCjzxSmDkqjRxzDLD99uVd44gj5LLc6zDpwG9P78QT5TLoeFxKYUEIQseO1jd6pwFiN9xczfReg73HoU+CCqshd/JiigJl9kprb0f3sHr6ae85JXrIkXfeMaNb6qj/q1NIEiZ7rF4d7PgddoimHjHDbqelsHw58Oc/Awcd5P8ctwZHbzB1Aejb1zrt3S20bjl07Rr+NRXKvJbW8RBdEBo18p6BPHCgue42jlIsVDqTLfbdN9jxTqFoMgj3EEqhfXvpaxwEP5NR9B7CjjsCd98d7DOCMnVq8HP8mq7SLAgvv1z4fZx1lvvxQSYgMvlBdzIJErUgxbAgxIXbA6MPVOtvqVtvDVx6qRlrPWzOPtt/iIVnnjHXL7vM3zlp9ZiaOVO6EtrdSK+5Ri7vuacw1zULQr6wjw2OGlX4HAuRbE70iGBBiAu3HoKehEfvITRuLMUiqrgnQUwcukudPdibG2ntIdiTHimIZF0vvRT4+9+t+4IGtCslxy6THuypVK+/vnBsaPZs4Msv5fojj8RTrxhgQYgLN0HYaitzXW94amrkMqoGdcYM/8fq9fLrfaEEIa2DyooRIwrL9tzT2isK2kOIOhYVEy1OXn725372bHN96NBo6xMjLAhx4RQ3yB6SQu8hqMlSUQnCe+/5P1ZvEGtr/Z2T1h6CHbdgZLqQBRWEMO65ttZ/byxMfviBc0b7QZ+1365dcvUIGTaOxoVTeIRHH7Vu62/iavZrGt6w9YBtfjO4qcYsbYLQqJHVpOPW2Ov1DioIYcwZaddO/q/j/P/NnAn07y/ny6Tte4sTp2fc7hLev7+5XkHxq7iHEBdOMxm9Zj4rv+Y0/DD1QTa/sXpeeEEu01B/xebNhfZ9t/GBcnoIf/pTsOOdUI1SnLGRevVynjyZN5xMRvbfqgptMX9+9PWJERaEuPDjlqY3Tiq3cxgN6j//Cdx+e+nnl5MlLE2C8PjjhWVu96bXO+j9L10a7Hgvdt89vGu5ce21wFtvRf85WaCuDhg9urDc/hyrXvN220VfpxhhQYgLP7FO9B6C6pJedJFclpNbeehQa67ooJQjCH5NTHGgB6dThCkIakzI6Q0zzdxyC3DwwUnXIh3MmOFs8lM9xltvBQ49VApClF6ACcFjCHHhJzyuU7C8pk2l26dbYLUgODWIfijFD3/33aVNOg1jIF74MRkFvVaaRLBUfvghn0H73MYD1AvCH/4glyoKagWNHwDcQ4iP3/62+DFuDcnGjdasXKWimzIGDPB/XimCoMZA0iQI+kCgwi2Lnd5D8HsPXsEJs0bz5knXIBnsDfy228plmp7jCGFBiAs/obLVQ9e+feG+l18u/81Tb+TGjfN/XimCoBrFNP2QnOriFpRM/1/5HQdR2bUqJDZ+LtEFYdo0M3xMmp7jCGFBSBPV1dLs4DYA/NBD5V1ff6iDJPouZQxBCUKazCdOA4NO4gtY/1d+G4MLL5TLIUOC1y0p0jTonwb057V9++xMsAwJFoS48GNrbNRINqSnn+68P2gieC+CJPfRBcFP/mEgnT0Ee+PnFb7jN79xP88NFSGzbdtg9SqGirMUBSwIVnQTYoMG3jG5wnAvThlFWwUimkBEK4lotsv+o4loJhHNIKIaItrXtr85ES0lovu0sr5ENIuIFhHRvUQVNjLjhP0WS0mkUu6PVwjTnNGjh//zdEGwh+u2u+ht3izv9Z13Co9PmiB10W3ofv/vRNK92G1colSUC3IUeP1P8igWeoiKqipTELZsMVOuKnbeOb56xYSf18THAHj1gacA6CWE6A3gHAAP2/aPAmCPs3w/gPMB7Gj8ZaiPHQLjxgELFgQ/r9zByi1bpBCdfHIw7wh9DGHLFmDVKmDxYrk+cqS5r7a2cL5FmgRBNXAnnQRMn178+H79rOf5IQpBiBKve7vjjvjqkRb0765FC/N3smwZcOed1mOXLYuvXjFRVBCEEFMBuKYGE0KsF+KXp6oJgF+eMCLqC6AdgDe0svYAmgshPjLO+xuAY0qrfobQG+CzzrIGtfPLDTeUV4dNm0p76+vUyVzfskWG1VButPr8CqcB2jQKwogRQO/exY9XJqBKEoRXXrH62Xt9P88+G3190obqIdjvfehQ4PXXrWVhpbVNEaGMIRDRsUQ0D8BkyF4CiKgegDsBXGk7vAMAfSrnUqMsP5Qz0ascVNiGoBY63bz18cfWfXqPQHnZ6KRxUNnv+EkpAfrSLAjz5sn80eedZ5Y98YT78UEcDyoF9d2pbIJeL2HKJbWCCEUQhBAvCSF6QL7pjzKKhwN4TQhR1jx+IrrAGJuoWbVqVblVTQ63RDhxUqrJSeUK+PWvCye3FXNJTVMPQdXFryCWIghVVf5DhIeBEMDFFwOfflr82A0b5FIP7a2LA2DN3V0hWcACoWJHqZeGRYuSq0sChOplZJiXuhJRNYC9AVxMRIsBjAFwJhHdBmAZgI7aaR2NMrdrjhdC9BNC9GsbtvdGnOiNUBAPHx0/k9u8mDixvIFCp3orcXvYPnRkkCZBUPcepSDE3UPYsEGmc/WTA9jPfd91l7k+daocK8oT110nl0oIZs4sPKaj0XxVYB7tsgWBiLorLyEi6gOgEYBaIcRpQogdhBCdIc1GfxNCjBRCrACwjogGGOedCeCVcuuRKUp1qnrwQfd9S5YUt2mqRrvUz/cShPPPdz4njYLgV5CDCggQvyCoXp+fXok+j+Xbb52PadfOmhrS65krh9pas8eSJkYZBo5Bg+TSyRtw/nzgL3+xuiZXCH7cTicC+BDATob76LlEdCERGbNwcDyA2UQ0A8BYACdpg8xuDIf0RloE4EsA/yz5DrJC1J61XboAZ54Z7Wd4CYIbaRKEoCYjdXyQHl1YgmD/TLdrBvmsxx4z1/ff3/04/ZpRubxWVwM9e0Zz7XLYemu5VOYyJ7PZ1lsDl19eek8/xRSNSSCEOKXI/tEAHOLFWo55DNJ9VW3XANjVVw2Z4mzaJAdvX3qp+LFhm4waNPAem0jjoLJfQTjiCBm6wKvxtBOGIGzZUiikN9wgo5LaCTJeoec6WLhQ5o92Iq5YTF9/Hez4hQtletITToimPoB572psrAIbfS842mlclNND2LLF+8FU8VairovTeQ0aeCcZ37JFTlKbPVsOfiZJUJPR4MFS0OLuITg1yG55mssZwP7rX/1/fhoYMABYsyb4dxIE9d2VEr+rAsiX/GWVYg349dfHUw+nHyGRNcUmAIwfL5ctWkhBOPBA4JJLoq9fMYKajIDgDU8YguB0/muvOR8bRBB2203+FWPSJBnzPw6uuML//Jo1xnQov3m9S+E+I6CCmyC8+GJ0n50CWBDiIsoxBN0U4PTj0h/uL78EnnyytM9RjaOexWvNmsJxhPPPl2/jW22VrjGEUgaJg9KwYflup+oN/fTTzQRJbqxe7f+6330n02QWcz7o2xd46in/1y2Hu+7yHxNI5RlX+brDZsMGc7Dd6UXgtdeAY4+N5rNTAgtCXMQVrsnpx7X33nJ51FHlXVv9SPQfy9q11tnKKtyDOi6NghClXbiqKrwewl57mWHK3WJfzZ3r75oLFgArV/rP8pXUXBkv1ACvPS92WCxZ4lz+1ltyvOOww6L53BTBgpA1hAAuu8zZP7p/7tpuAAAbNUlEQVQY5SY90QVBJRkHrLkVpkyxHp+mQeVSTEZBCdNkpBrAvn3dGys/qVUnTzZdSdu08VeHUkKrRI36/kp1jBBC9o7denBuz+rgwe55MyoMFoS4CKsReuop4N57Zdc/qLdFuX7fuiDo4jJ/vlz+5jfW8vr109lDSLsgKJOREoRp0+TSbe6AwqmhrKuT3lIK9f3oZr8WLYB99pF/Cj85wL34+mvpsuq38fYzkK0a7FIFYdIkaYZzM1HlMbqrDRaErHDGGUDnzsCHH5plL7xgHT8ohv72XgpOJiPA/DHbxya++cbq+56090ocJqMwewj2gc2NG73Pu/564O9/t5b961/WbeVn//LLZtlWWwHvvy//dFRkALeGcvFi+VLiFMOqc2eZx+GAA7zrrPAzWFtuD0ENRrv1ttIagypGWBDioty30pdekj/AsWOt5U6CQCRDXAshk+q8954sX7euvDooM4KTfbl+/eKxb4o1aFGTFZORvYeg6NrV2uAPHGjd/+c/WycnCmHtHQDAOefIpd4DcPverrhCLp0afAD43e/kS4mbBxQgn73aWmtP0clkYxcjJ5QQlNrrVD0Mt/GRK404nKd4Tr2qaFgQ4qJcW7ryDFFRGBVujewzz8gff+vW5X2ujop+6fSG7ef+3BqWuMiKycjLF15v8N991/s6eqA6QDak6q1fj2SqOwLoNGsml3a3YsXy5XJp7/nZTZPPPScbYdVbdJpT4TYnQkc3GX35ZfHj3c5/9FHn/f/+t1wed1zwa1cILAhxEVbkyK++sm57vXXr5powUD+oUk0ubDLyh31Q+W9/s+73k9wHAJ5+2lx/6SWrEOo9BD2gnU4xQVCh0O0vA336WLdVfe+4A+jWTXpP2dlvPxlMT3dWsKN6BlOmAN27e4fudmKpz8DLSuhyCAtCXDRtCsyY4f3Al0Ipk3QOP7y0z1K+6coEVYyDDgK2287cTtrjKC6TUVjzEJQg2F1OV64sPsBs5xhbDipdENq1cz5HRfMs5oxgF0B7T1CZNefOLXyhURx3nBxvOP54989R358KUf3JJ971snPzzXLp5Gmlj0uk0eU2JlgQ4qRXr9JdPy+7zLlcefgE4dVXS6tDUNq2tf64khaEOExGYc5DUCYju838lluAIWVmnW3YUIaCePxxc6DZ6Ri9Pm7Ye34HHQR06GBOIFvjmnDR5P/9P7l0c3yoqyucUBdkcFk/1uklSu8F2cUzR7AgZAU3k9MZZ8RbDx0hvOMo1a9v9ehIWhDeflsuo0xgE4XJyP7GOnWqe2wjvxBJjzWvCLl+BUGFjFasXCl7HS1ayO0wXkDuucdcf/55uQwiCJ99Zt1W4wWA7LWrugJSzHIKC0JW8DsGMWqUfCPr2LH4saWiD0gqc4bTG6u9IUtaECZMkMsg4R6C8vPP8k1WxXMq9RqA2UPYbz9p7nglYNoQFY8oiGuyjnrmip3/zTfW7U8/lWaZUie3OZnDRjsEVA4iCLqbLQAccoi53rKluT51qv9rViAsCFmh2EDoU0/JH+J11wGtWlkf8rDRf+jHHis9miZNKjzObppJWhAU/ftHd22V5vX220u/hnrjVsJVrx7whz8ARx5pHtO9u1xOmOA+plNVBeyxR+mTzNQzN3iwjIPkhw8+kP+DN990Ns3tuWfxazgNOiuTkk5dXWGObzfs/4O6OikoX3xhLd9vP3/Xq1BYELJCMd/rPn2s7oN6FzhsdHEiAk480bkHYzdrpEUQokwe/+yzclmKWyQgGyn1lmp/89YbWJXi8ayzgPbtna+1eXN5YZx105rfhPIPPOC+b/p06YJaDKeJY+olRA/Z8uCDchyESM6KVtcePFiOixQbKP74Y+A//zG3gw7UVyAsCFmhmCDYA5ZFIQjq7c6v26b9h63bbePkrruAefPM7TQnPXnzTXPdaZavPaYOkbtpZtOm8ATBL/aZ0jq9ewfLQ9yqlbw/Iczn380Ues018sXklFPkc7Zxo9WjyWlge++9ralf3bytckSKfxmMhWL2UrsgRGEyuuMOufTrlmf/8V5+ebj18cPMmXLGbd++8X92KeieNPZJiIA5DqJjFwT1rJTbQ/B6CXF6HvWyZ56Ry2HDrMcEcelcu1YuP//cvHax8/W5F3pGtjFj5PKJJ6TQMI6wIGSFYmEf7D2CKHoIymTh9w3bqUFxmxXrRBixZVRinqRnSftF/986/Z/VZDEdu31cuVC+847/OSNODB3qvu+mmwrL9LDUJ54ol8r3X+H32dHNiytXmt5sQQTFKT5Sly6yt6DPj2F+gQUhK3jN8n355cIfWlgzo3WUIPidcewUoltF7izGV19JW799lm5QGjcu7/ygnHdeeefrb9lOb/f6+IeaoGXvIZTqVWSnQQNg553NbX1gWRcE1bg6eejY//9+PYP08w491JxlHMTc59QrVM/wrFkyhIWK+jpxov/rVjAsCFnB64d09NGFZbog6G6WXvmPi6HeAKNMYaiYM0cu/QxCehGFMHoRZuwopwlj+sDyrrvKpV04wpxnoTfybgPLKtSDGkjfZRdzn92UWczj6fTT5dLeO1RB+pwEfsIEGel13DjgoYdMU5PTuIHqabduLQfk1az9Aw/0rldOyGcm6SwSNOSvPiO6TRtpN/3++2CDenbCCrsRxLYthAxR8N13VrdLv8SdLL3c/A/Fvmc/b8hz5pjjN8OHl1ef6mo58/itt+T2J584e4tNm2Z6O+kDy6pHc801cllsbkKfPs4xiurVs+Zw0Dn7bOu2ENK05CQI9t7TqFHApZfygLIB9xAqFdXwqx+gerMsJ2xD0NSFPXo4lzsNjNrR69m/f+npP+2C4GUXDwNlMio1SX0YgjBkCHDuuXK9nBcAhW63798f+PWvC49ZtkzOgwGs4xzKS+iWW9yvr4fodhojAeQ8F2WC1P8HvXoVHkskr6OHo1C9LZVOVlG/vn+X2hzAgpAV7A3Fb38L3H+/e8RH9WZ21llymYSrpdugcBCTRrn5cwcMsG5H3WPYaSdpU49qprhfQVeiG0agNj/zR55/3vxeO3UKdn3lfdatm7sgOPH44zJgpBP161vrrZwK2MPIExaErGD3P3/gAeDCC4HTTnM+Xr31qB+nEoQwArvtsYe/49wakiCNvDJVlIr9fuMwIam34lIoZnIK+v2FIQh+vL3+/ncpCK1a+Z/417atjDGkPOJatiwUBKfxMfU/8uo11taaub45NaZvWBCywtVXBzv++OPlW5vKAhWmILiZguwMGuRcrurkxYIF/uvjxvvvFzZmcYQ2LkcQ7rzTe//33we7Xhj3q+dadqNDBykIfsTgoovk8qST5MuF/r+yC4I+C9seHsVPrKR//EOG3WZ8wYKQFYK+2RJJUVDnRRny2Y1x49xNVTU13ueq9I2l8uKLMi6NvYGNI41nOYJQLDZPUFNUGILgNOdAccMNcnnppf4FYaed5FI9k6r3e9ppVkE4+2zrbG174h0/MZqOOsr0xmKKwoKQJcqxS4fRQwjayDVqBOy4o/M+t0TnYXHyyXKpgs0p4sgFUY4gKBOgmzDssIP09vI7FyQMQWjQAPj97533qZ6rEP4FQbl6qtDb7dpJ75/LL7cKwn33ye+xtlaOAaiw1GPGSPdTr2dZCZUODx4XhQUhSyxZIn+Y990X/NwkeghejB0b7fXDmOVcKvXqlS4IygumSxf3Y5o399/Qh2UiGz1aBo2zo140Ro6U5iw/gtC9u/z/6LPWGzWSz6g+90L1blu3ts4/uOKK4jPPb7yxsOzJJ4vXLeewIGSN0aOBESNKPz8MYQhyDdUw2k03bpmxwuDSS6O7th+ISpuP8NNPZkMX1EQ4ZYr0urET5piJU2OvX3/y5PInLerXC9szLsqQ8BUCC0LeKEcQlMmqZ8/g58bp9vrXv8b3WU6UajLaaivTNBO0IR80yDn7WZiC0Lu3XB53nFlm/15XrizvM3QhDdsjzCmXMmOBBYHxzwEHSM+doB5PgJnQJQ+UIgj248NqDMNsVP/0J5kAR895ELbQq1AXbu7UQbAHUnTLHc38AgtC3ijXZLTPPsHeOlWmq/3397aLx4U9+mYUlCII9hSPYTXkYfYQGjSQYxzKdBRF4MBmzaQjgJP5KyjbbGPdLjWlZ45gQWCi5cILZePYvLmZHL0Uwspytm5dONfxopRB5SwIgkIFDIzKDFhdHU697QPL9kB7TAFFv1EimkBEK4lotsv+o4loJhHNIKIaItrXKO9ERJ8Z5XOI6ELtnHeIaL6xbwYRbeN0bSZEVAOVpLfR//2fv+OcPITCSr8Zx1tiKYPK9jDfYTW2UQhC48bSbFhOroU40PM333tvujPlpQQ//6HHAAzx2D8FQC8hRG8A5wB42ChfAWBvo7w/gJFEpGelOE0I0dv4K3MkiimKamTjDgetc9hhxY/56ivnCUflCsJBB8nlBReUdx0/lDMPoVzs328ULwAqh7HfECZpII4JiRVAUUEQQkwF4BBH9pf964X45elvAkAY5T8LIVTQmkZ+PouJEBU/KEk76tZbO8em0Zk1y70xLSe09AsvSNfMODJlJSkI++9v3Q6rZ5V1wjI5VjihNNJEdCwRzQMwGbKXoMq3J6KZAJYAGC2EWK6d9qhhLvojkftrDBFdYJiialbZZ50y/kmDIADW6KxOcxG8TBzlNG7Nm7vHVgqboIKgkgGFgf1z44jdpFPOHJkoYXORL0L5LwkhXhJC9ABwDIBRWvkSIcTuALoDGEZEKgvFaUKI3QDsZ/yd4XHt8UKIfkKIfm3btg2juvlEhSZO+k2paVMZ5RKQZhwhZJiBefNkWVSCECdBBSHKWDtxmwiTngNiRwXSY0HwRaj/JcO81JWIqm3lywHMhmz8IYRYZix/APAUgL3CrAfjgDK3xJ1BzAm9p7dihfRv33lnmQDFq9HPiiCUE7qiXOy+9nEIwgknmOtpC5Fy7bVy7Eql5mQ8KVsQiKi7MvkQUR/I8YJaIupIRI2N8lYA9gUwn4gaKMEgooYAjoAUCyYO0iAIKv49YAYsA2T2K680mX4DuiVNqaErwuCRR2R+YUUcs3NV3oE00qED8NprHLbCJ0VbByKaCGAggGoiWgrgBgANAUAI8QCA4wGcSUSbAGwEcJIQQhDRzgDuJCIBgACMEULMIqImAF43xKA+gLcAPBT+rTGOpEEQSn2LLFUQ/OZvCItyB5XLecveZhsZrvpPf5LbBx9c+rX8krQZkgmNoq2DEOKUIvtHAxjtUP4mgIKs2EKIDQD6BqgjEyZpEIRS355LjWDqlAM4SkoVhN13l2azMM1NcZhw/OQlYDIBj7TkjTQIQqmzhUsVhLjt+UEFQeX5VbmFswb3ECoGFoS8kQZBKJXbbw92vJ9UnVEQZFBZCJlHoHt34Jhjoq1XVLAHT8XA32TeyPKPN2hioKTEL8igssqRvGgRm16YxMlw68BklqijnqoonCp9Z5pNRt99Z66zIDAJw4LAxM/HHwO77OK877bb5P6FC0u/fqtWwLnnmgOqaRYE/f+gJuX5ifmURnbbLekaMGWSYYMyUxL6HICkaNtWZt+aO1dun3028Oijcr2U5Dt2Nm+W5qKkJkn5FQTdrPTYY3K5dGk2M3utWCFzGTCZhnsIeSMtWaMuu8xcv+SScK65Zg0wfDiwYUOyg+fz5gFvvFFcFC680Fxv3VouO3RIPt5UKWy7LecbqAC4h8Akw157+Ter7LUX8MknxY8bORJ4yJjjqMdEittk9N//yqWXt9HXX5t1BcIPMTFmDM/OZQLDgsCkg0mT3P3Zb7wRGDrU+/y1a4FXXjG3dZNRUnGFvLjqKut22D2aK64I93pMLmCTUV5IuwfLkUcChx7qvK9pU3N9+vTC/e+9JweSV2p5lurXT1+gNZ1p08z1Bx8EBg5MrCoMo2BByAtLlwKLFyddi9LQzT99+hTmD3j//cJz0j4BT43lnHWWzOKW9voyuYAFIS9UVwOdOiVdi9Kwm3y+/da6/eOPhefoDWzSJqMffgDOPBMYNcqsy2wjwO8f/pBcvRjGBr+WMOnHng/X3sB/8EHhOfXrSzPUrrvKmPhJ0ratmbHu1FOBbt3MfWk35TG5ggWBST89e1q37YLg5O7YoIEcV5g1K7p6udG0KbB+vbmtxAAoDNDHgeGYFMEmIyb9eA0Or1oF9OtXWJ5kzKbf/tZcnzTJus+e9Y3TwjIpggWBST91dVY/fb1R3WYb4I9/LDwnyXEDfcKZmoGtOOQQ4H//M7e9ckgzTMywIDDpp64OmDjR3PaTFyGpFJYA0L69uV5ba923fDlwimfOKYZJDBYEJv20a2ftIaxbB7z7LjC6IFEfMGSIXCYpCE2ayFAOgLMHlDIjjRoVX50Yxgc8qMykn0aNpCgoVqwATj+98Ljhw2VguH/9K1lB0Pn006RrwDC+4R4Ckw30eQUzZhTub9MGGDvWtMknLQj2MYyTTio85uef46kLw/iEBYHJBrogPPmk+3HKu8juzZM0w4cXlunzERgmBbAgMNmgQwfv/SrRzIsvyqXduydu/MyV4ElpTMpgQWCyQXU1MGKE+36VnGWffeSyY8fo6+SFfe6EU3hrjl/EpAwWBCY7eGV7U4IwYIBcqnzKSWFv7OvVA44/3lq2enV89WEYH7AgMNnhggsKy1SmMRW4r3lzuUx6BrB9wlnPnsDzz1vLuIfApAx+IpnsYE//uWmTfPN+6CFg2DBZduSRwPjxzm6pSeIUfoMFgUkZ/EQy6WX5cjMdJWCNTzRkiNmg6rGDiIDzz4+nfl74CZ3Rq1f09WCYALAgMOmlfXtrGAjdDPPrX8dfnzBYu1bex7p1wHbbJV0bhrHAgsBkB72HkLZ5BnbceghqYFxPC8owKYEHlZnsoAvCW28lVw8/tGmTdA0YJjAsCEx20E1GK1YkVw8/TJ4sQ2kwTIZgQWCyg95DOOGE5Orhhw4dnMNVMEyKYUFgsoPyKho6FLj55mTrwjAVSFFBIKIJRLSSiGa77D+aiGYS0QwiqiGifY3yTkT0mVE+h4gu1M7pS0SziGgREd1L5JUjkWEM6teX+Yn/8Q/24WeYCPDTQ3gMwBCP/VMA9BJC9AZwDoCHjfIVAPY2yvsDGElEys/ufgDnA9jR+PO6PsOYVFUlmy+ZYSqYoq9ZQoipRNTZY/96bbMJAGGU68HeG8EQHyJqD6C5EOIjY/tvAI4B8M+AdWeY9DN5MrBxY9K1YBhfhNLvJqJjAdwKYBsAh2vl2wOYDKA7gKuEEMuJqB+ApdrpSwEUiW3MMBll6NCka8Awvgml7y2EeEkI0QPyTX+UVr5ECLE7pCAMI6J2btdwg4guMMYmalatWhVGdRmGYRgHQjXGCiGmAuhKRNW28uUAZgPYD8AyAHqw+o5Gmds1xwsh+gkh+rVNOoIlwzBMBVO2IBBRd+UlRER9IMcLaomoIxE1NspbAdgXwHwhxAoA64hogHHemQBeKbceDMMwTHkUHUMgookABgKoJqKlAG4A0BAAhBAPADgewJlEtAnARgAnCSEEEe0M4E4iEgAIwBghxCzjssMhvZcaQw4m84AywzBMwpDwE6Y3JfTr10/U1NQkXQ2GYZhMQUTThBD9ih3HDt0MwzAMABYEhmEYxoAFgWEYhgGQsTEEIloF4OsST68GsDrE6iQJ30v6qJT7APhe0ko599JJCFHUbz9TglAORFTjZ1AlC/C9pI9KuQ+A7yWtxHEvbDJiGIZhALAgMAzDMAZ5EoTxSVcgRPhe0kel3AfA95JWIr+X3IwhMAzDMN7kqYfAMAzDeFDxgkBEQ4hovpGuc2TS9XHCKU0pEbUmojeJaKGxbGWUk5F2dJGRurSPds4w4/iFRDQsoXvZnojeJqK5RurUy7J6P0S0FRF9QkSfG/dyk1HehYg+Nur8DBFVGeWNjO1Fxv7O2rWuMcrnE9Ghcd+LUYf6RDSdiF7N+H0sNlLwziCiGqMsc8+XUYeWRPQ8Ec0joi+IaO9E70UIUbF/AOoD+BJAVwBVAD4HsEvS9XKo5/4A+gCYrZXdDmCksT4SwGhjfShkMEACMADAx0Z5awBfGctWxnqrBO6lPYA+xnozAAsA7JLF+zHq1NRYbwjgY6OOzwI42Sh/AMBFxvpwAA8Y6ycDeMZY38V49hoB6GI8k/UT+G5+B+ApAK8a21m9j8UAqm1lmXu+jHo8DuA8Y70KQMsk7yXWm0/gn703gNe17WsAXJN0vVzq2hlWQZgPoL2x3h4ydDgAPAjgFPtxAE4B8KBWbjkuwft6BcDBWb8fAFsD+AwyP/hqAA3szxiA1yHziAMykvBq48dree7042Ksf0fI/OeDALxq1Ctz92F87mIUCkLmni8ALQD8H4yx3DTcS6WbjDoAWKJtZyldZzshc0cAwLcAVLY5t3tK3b0apoY9IN+sM3k/hpllBoCVAN6EfCteK4TY7FCvX+ps7P8vgDZIx73cDeD3ALYY222QzfsAZN72N4hoGhFdYJRl8fnqAmAVgEcNU97DRNQECd5LpQtCRSCk7GfKHYyImgJ4AcDlQoh1+r4s3Y8Qok4I0RvyDXsvAD0SrlJgiOgIACuFENOSrktI7CuE6APgMAAjiGh/fWeGnq8GkKbi+4UQewDYAGki+oW476XSBWEZgO21bc90nSnjOyJqDwDGcqVR7nZPqblXImoIKQZPCiFeNIozez8AIIRYC+BtSNNKSyJSyaX0ev1SZ2N/CwC1SP5e9gFwFBEtBvA0pNnoHmTvPgAAQohlxnIlgJcghTqLz9dSAEuFEB8b289DCkRi91LpgvApgB0Nb4oqyAGySQnXyS+TAChvgWEw04xOgsxQR0Q0AMB/je7l6wAOIaJWhlfCIUZZrBARAXgEwBdCiLu0XZm7HyJqS0QtjfXGkGMhX0AKwwnGYfZ7Ufd4AoB/G294kwCcbHjvdAGwI4BP4rkLQAhxjRCioxCiM+Rv4N9CiNOQsfsAACJqQkTN1DrkczEbGXy+hBDfAlhCRDsZRYMBzEWS9xL3gFDcf5Aj8wsgbb/XJl0flzpOBLACwCbIt4ZzIW22UwAsBPAWgNbGsQRgrHE/swD0065zDoBFxt/ZCd3LvpBd3JkAZhh/Q7N4PwB2BzDduJfZAK43yrtCNoSLADwHoJFRvpWxvcjY31W71rXGPc4HcFiCz9pAmF5GmbsPo86fG39z1G86i8+XUYfeAGqMZ+xlSC+hxO6FZyozDMMwACrfZMQwDMP4hAWBYRiGAcCCwDAMwxiwIDAMwzAAWBAYhmEYAxYEhmEYBgALAsMwDGPAgsAwDMMAAP4/SmNpsYFOE+sAAAAASUVORK5CYII=\n",
      "text/plain": [
       "<matplotlib.figure.Figure at 0x1a35962ac8>"
      ]
     },
     "metadata": {},
     "output_type": "display_data"
    }
   ],
   "source": [
    "plt2.plot(s, color='red', label='Prediction')"
   ]
  },
  {
   "cell_type": "code",
   "execution_count": null,
<<<<<<< HEAD
   "metadata": {
    "collapsed": true
   },
=======
   "metadata": {},
>>>>>>> 796c8c689e39c6c097b216351b531192a054dfbd
   "outputs": [],
   "source": [
    "    stock=df_GBP\n",
    "    split=0.7\n",
    "    amount_of_features = len(stock.columns)\n",
    "    print (\"Amount of features = {}\".format(amount_of_features))\n",
    "    data = stock.as_matrix()\n",
    "    sequence_length = seq_len + 1 \n",
    "    result = []\n",
    "\n",
    "    for index in range(len(data) - sequence_length): \n",
    "        result.append(data[index: index + sequence_length]) \n",
    "\n",
    "    result = np.array(result)\n",
    "    row = round(split * result.shape[0]) \n",
    "    print (\"Amount of training data = {}\".format(split * result.shape[0]))\n",
    "    print (\"Amount of testing data = {}\".format((1-split) * result.shape[0]))\n",
    "\n",
    "    train = result[:int(row), :] \n",
    "    X_train = train[:, :-1] # all data until day m\n",
    "    y_train = train[:, -1][:,-1] # day m + 1 adjusted close price\n",
    "\n",
    "    X_test = result[int(row):, :-1]\n",
    "    y_test = result[int(row):, -1][:,-1]\n",
    "\n",
    "    X_train = np.reshape(X_train, (X_train.shape[0], X_train.shape[1], amount_of_features))\n",
    "    X_test = np.reshape(X_test, (X_test.shape[0], X_test.shape[1], amount_of_features))"
   ]
  },
  {
   "cell_type": "code",
   "execution_count": 99,
   "metadata": {},
   "outputs": [
    {
     "name": "stdout",
     "output_type": "stream",
     "text": [
      "Amount of features = 9\n"
     ]
    }
   ],
   "source": [
    "    stock=df_GBP\n",
    "    split=0.7\n",
    "    amount_of_features = len(stock.columns)\n",
    "    print (\"Amount of features = {}\".format(amount_of_features))\n",
    "    data = stock.as_matrix()\n",
    "    sequence_length = seq_len + 1 \n",
    "    result = []"
   ]
  },
  {
   "cell_type": "code",
   "execution_count": 100,
   "metadata": {},
   "outputs": [
    {
     "name": "stdout",
     "output_type": "stream",
     "text": [
      "Amount of training data = 13981.8\n",
      "Amount of testing data = 5992.200000000001\n"
     ]
    }
   ],
   "source": [
    "    for index in range(len(data) - sequence_length): \n",
    "        result.append(data[index: index + sequence_length]) \n",
    "\n",
    "    result = np.array(result)\n",
    "    row = round(split * result.shape[0]) \n",
    "    print (\"Amount of training data = {}\".format(split * result.shape[0]))\n",
    "    print (\"Amount of testing data = {}\".format((1-split) * result.shape[0]))\n",
    "\n"
   ]
  },
  {
   "cell_type": "code",
   "execution_count": 101,
<<<<<<< HEAD
   "metadata": {
    "collapsed": true
   },
=======
   "metadata": {},
>>>>>>> 796c8c689e39c6c097b216351b531192a054dfbd
   "outputs": [],
   "source": [
    "    train = result[:int(row), :] \n",
    "    X_train = train[:, :-1] # all data until day m\n",
    "    y_train = train[:, -1][:,-1] # day m + 1 adjusted close price\n",
    "\n"
   ]
  },
  {
   "cell_type": "code",
   "execution_count": 106,
   "metadata": {},
   "outputs": [
    {
     "data": {
      "text/plain": [
       "array([[0.78544061, 0.79961089, 0.78998073, 0.18487646, 0.73263144,\n",
       "        0.80178064, 0.85258554, 0.87962225, 0.79885057],\n",
       "       [0.79885057, 0.79766537, 0.77842004, 0.20749075, 0.6302588 ,\n",
       "        0.79992581, 0.85168128, 0.8792669 , 0.77777778],\n",
       "       [0.77777778, 0.78210117, 0.77842004, 0.26946511, 0.69849806,\n",
       "        0.79815341, 0.85088217, 0.87889001, 0.77969349],\n",
       "       [0.77969349, 0.79182879, 0.78034682, 0.19646395, 0.72694989,\n",
       "        0.79691686, 0.85020924, 0.87857774, 0.79118774],\n",
       "       [0.79118774, 0.78793774, 0.79190751, 0.14544163, 0.68143137,\n",
       "        0.79568031, 0.84941013, 0.87825469, 0.78735632],\n",
       "       [0.78735632, 0.79182879, 0.76300578, 0.23328225, 0.61885336,\n",
       "        0.79419645, 0.84833764, 0.87782396, 0.76245211],\n",
       "       [0.76245211, 0.75680934, 0.74566474, 0.26950249, 0.63586454,\n",
       "        0.79250649, 0.84694972, 0.87728555, 0.74329502],\n",
       "       [0.74329502, 0.75291829, 0.74759152, 0.17295257, 0.73269675,\n",
       "        0.7911875 , 0.84564591, 0.87682252, 0.75670498],\n",
       "       [0.75670498, 0.76070039, 0.75529865, 0.16708407, 0.71558934,\n",
       "        0.79036313, 0.84440519, 0.87640256, 0.76436782],\n",
       "       [0.76436782, 0.76070039, 0.75722543, 0.17867155, 0.69280719,\n",
       "        0.78945633, 0.84314344, 0.87591799, 0.76436782],\n",
       "       [0.76436782, 0.76653696, 0.76685934, 0.15766456, 0.69850103,\n",
       "        0.78879683, 0.84194478, 0.8755088 , 0.76628352],\n",
       "       [0.76628352, 0.76264591, 0.75722543, 0.15680484, 0.68142036,\n",
       "        0.78817856, 0.84074611, 0.87504576, 0.76245211],\n",
       "       [0.76245211, 0.75875486, 0.75337187, 0.23126378, 0.67003013,\n",
       "        0.78723053, 0.83940025, 0.87450735, 0.75478927],\n",
       "       [0.75478927, 0.75291829, 0.74373796, 0.23421672, 0.67002334,\n",
       "        0.78628251, 0.83788615, 0.8739151 , 0.74712644],\n",
       "       [0.74712644, 0.75486381, 0.74759152, 0.20154749, 0.73269081,\n",
       "        0.78582911, 0.83639308, 0.87338746, 0.7605364 ],\n",
       "       [0.7605364 , 0.76070039, 0.76493256, 0.15355287, 0.69280719,\n",
       "        0.78541692, 0.83496309, 0.87284905, 0.7605364 ],\n",
       "       [0.7605364 , 0.76264591, 0.761079  , 0.16263597, 0.70419657,\n",
       "        0.78566423, 0.83355414, 0.87233218, 0.76436782],\n",
       "       [0.76436782, 0.76264591, 0.76685934, 0.16446754, 0.70419487,\n",
       "        0.78578789, 0.83214519, 0.8718153 , 0.76819923],\n",
       "       [0.76819923, 0.76848249, 0.77071291, 0.18999738, 0.70419317,\n",
       "        0.78582911, 0.83050491, 0.87129843, 0.77203065],\n",
       "       [0.77203065, 0.77042802, 0.76493256, 0.16297238, 0.66434647,\n",
       "        0.78566423, 0.82875949, 0.87073848, 0.76245211],\n",
       "       [0.76245211, 0.75875486, 0.73795761, 0.23802938, 0.61308749,\n",
       "        0.78467499, 0.8266776 , 0.87004932, 0.73563218],\n",
       "       [0.73563218, 0.73929961, 0.73795761, 0.18760513, 0.71560802,\n",
       "        0.78397428, 0.82499527, 0.86933862, 0.74329502]])"
      ]
     },
     "execution_count": 106,
     "metadata": {},
     "output_type": "execute_result"
    }
   ],
   "source": [
    "X_train[1]"
   ]
  },
  {
   "cell_type": "code",
   "execution_count": 107,
   "metadata": {},
   "outputs": [
    {
     "data": {
      "text/plain": [
       "array([0.74329502, 0.74329502, 0.74329502, ..., 0.96934866, 0.96743295,\n",
       "       0.95785441])"
      ]
     },
     "execution_count": 107,
     "metadata": {},
     "output_type": "execute_result"
    }
   ],
   "source": [
    "y_train"
   ]
  },
  {
   "cell_type": "code",
   "execution_count": 109,
<<<<<<< HEAD
   "metadata": {
    "collapsed": true
   },
=======
   "metadata": {},
>>>>>>> 796c8c689e39c6c097b216351b531192a054dfbd
   "outputs": [],
   "source": [
    " X_train = np.reshape(X_train, (X_train.shape[0], X_train.shape[1], amount_of_features))"
   ]
  },
  {
   "cell_type": "code",
   "execution_count": 111,
   "metadata": {},
   "outputs": [
    {
     "data": {
      "text/plain": [
       "array([[0.79501916, 0.79377432, 0.7822736 , 0.16065488, 0.66437187,\n",
       "        0.80309962, 0.85321641, 0.87984838, 0.78544061],\n",
       "       [0.78544061, 0.79961089, 0.78998073, 0.18487646, 0.73263144,\n",
       "        0.80178064, 0.85258554, 0.87962225, 0.79885057],\n",
       "       [0.79885057, 0.79766537, 0.77842004, 0.20749075, 0.6302588 ,\n",
       "        0.79992581, 0.85168128, 0.8792669 , 0.77777778],\n",
       "       [0.77777778, 0.78210117, 0.77842004, 0.26946511, 0.69849806,\n",
       "        0.79815341, 0.85088217, 0.87889001, 0.77969349],\n",
       "       [0.77969349, 0.79182879, 0.78034682, 0.19646395, 0.72694989,\n",
       "        0.79691686, 0.85020924, 0.87857774, 0.79118774],\n",
       "       [0.79118774, 0.78793774, 0.79190751, 0.14544163, 0.68143137,\n",
       "        0.79568031, 0.84941013, 0.87825469, 0.78735632],\n",
       "       [0.78735632, 0.79182879, 0.76300578, 0.23328225, 0.61885336,\n",
       "        0.79419645, 0.84833764, 0.87782396, 0.76245211],\n",
       "       [0.76245211, 0.75680934, 0.74566474, 0.26950249, 0.63586454,\n",
       "        0.79250649, 0.84694972, 0.87728555, 0.74329502],\n",
       "       [0.74329502, 0.75291829, 0.74759152, 0.17295257, 0.73269675,\n",
       "        0.7911875 , 0.84564591, 0.87682252, 0.75670498],\n",
       "       [0.75670498, 0.76070039, 0.75529865, 0.16708407, 0.71558934,\n",
       "        0.79036313, 0.84440519, 0.87640256, 0.76436782],\n",
       "       [0.76436782, 0.76070039, 0.75722543, 0.17867155, 0.69280719,\n",
       "        0.78945633, 0.84314344, 0.87591799, 0.76436782],\n",
       "       [0.76436782, 0.76653696, 0.76685934, 0.15766456, 0.69850103,\n",
       "        0.78879683, 0.84194478, 0.8755088 , 0.76628352],\n",
       "       [0.76628352, 0.76264591, 0.75722543, 0.15680484, 0.68142036,\n",
       "        0.78817856, 0.84074611, 0.87504576, 0.76245211],\n",
       "       [0.76245211, 0.75875486, 0.75337187, 0.23126378, 0.67003013,\n",
       "        0.78723053, 0.83940025, 0.87450735, 0.75478927],\n",
       "       [0.75478927, 0.75291829, 0.74373796, 0.23421672, 0.67002334,\n",
       "        0.78628251, 0.83788615, 0.8739151 , 0.74712644],\n",
       "       [0.74712644, 0.75486381, 0.74759152, 0.20154749, 0.73269081,\n",
       "        0.78582911, 0.83639308, 0.87338746, 0.7605364 ],\n",
       "       [0.7605364 , 0.76070039, 0.76493256, 0.15355287, 0.69280719,\n",
       "        0.78541692, 0.83496309, 0.87284905, 0.7605364 ],\n",
       "       [0.7605364 , 0.76264591, 0.761079  , 0.16263597, 0.70419657,\n",
       "        0.78566423, 0.83355414, 0.87233218, 0.76436782],\n",
       "       [0.76436782, 0.76264591, 0.76685934, 0.16446754, 0.70419487,\n",
       "        0.78578789, 0.83214519, 0.8718153 , 0.76819923],\n",
       "       [0.76819923, 0.76848249, 0.77071291, 0.18999738, 0.70419317,\n",
       "        0.78582911, 0.83050491, 0.87129843, 0.77203065],\n",
       "       [0.77203065, 0.77042802, 0.76493256, 0.16297238, 0.66434647,\n",
       "        0.78566423, 0.82875949, 0.87073848, 0.76245211],\n",
       "       [0.76245211, 0.75875486, 0.73795761, 0.23802938, 0.61308749,\n",
       "        0.78467499, 0.8266776 , 0.87004932, 0.73563218]])"
      ]
     },
     "execution_count": 111,
     "metadata": {},
     "output_type": "execute_result"
    }
   ],
   "source": [
    "X_train[0]"
   ]
  },
  {
   "cell_type": "code",
   "execution_count": 112,
   "metadata": {},
   "outputs": [
    {
     "data": {
      "text/plain": [
       "array([0.95402299, 0.95785441, 0.95785441, ..., 0.91187739, 0.90996169,\n",
       "       0.91762452])"
      ]
     },
     "execution_count": 112,
     "metadata": {},
     "output_type": "execute_result"
    }
   ],
   "source": [
    "y_test"
   ]
  },
  {
   "cell_type": "code",
   "execution_count": 113,
   "metadata": {},
   "outputs": [
    {
     "data": {
      "text/plain": [
       "5992"
      ]
     },
     "execution_count": 113,
     "metadata": {},
     "output_type": "execute_result"
    }
   ],
   "source": [
    "len(y_test)"
   ]
  },
  {
   "cell_type": "code",
   "execution_count": 114,
<<<<<<< HEAD
   "metadata": {
    "collapsed": true
   },
=======
   "metadata": {},
>>>>>>> 796c8c689e39c6c097b216351b531192a054dfbd
   "outputs": [],
   "source": [
    "p = model.predict(X_test)"
   ]
  },
  {
   "cell_type": "code",
   "execution_count": 115,
   "metadata": {},
   "outputs": [
    {
     "data": {
      "text/plain": [
       "array([[0.95628846],\n",
       "       [0.9523339 ],\n",
       "       [0.94992006],\n",
       "       ...,\n",
       "       [0.9034717 ],\n",
       "       [0.904866  ],\n",
       "       [0.90557444]], dtype=float32)"
      ]
     },
     "execution_count": 115,
     "metadata": {},
     "output_type": "execute_result"
    }
   ],
   "source": [
    "p"
   ]
  },
  {
   "cell_type": "code",
   "execution_count": 116,
   "metadata": {},
   "outputs": [
    {
     "data": {
      "text/plain": [
       "5992"
      ]
     },
     "execution_count": 116,
     "metadata": {},
     "output_type": "execute_result"
    }
   ],
   "source": [
    "len(p)"
   ]
  },
  {
   "cell_type": "code",
   "execution_count": 117,
   "metadata": {},
   "outputs": [
    {
     "ename": "NotFittedError",
     "evalue": "This MinMaxScaler instance is not fitted yet. Call 'fit' with appropriate arguments before using this method.",
     "output_type": "error",
     "traceback": [
      "\u001b[0;31m---------------------------------------------------------------------------\u001b[0m",
      "\u001b[0;31mNotFittedError\u001b[0m                            Traceback (most recent call last)",
      "\u001b[0;32m<ipython-input-117-6dd00522ee6e>\u001b[0m in \u001b[0;36m<module>\u001b[0;34m()\u001b[0m\n\u001b[1;32m      1\u001b[0m \u001b[0mmin_max_scaler\u001b[0m \u001b[0;34m=\u001b[0m \u001b[0mpreprocessing\u001b[0m\u001b[0;34m.\u001b[0m\u001b[0mMinMaxScaler\u001b[0m\u001b[0;34m(\u001b[0m\u001b[0;34m)\u001b[0m\u001b[0;34m\u001b[0m\u001b[0m\n\u001b[1;32m      2\u001b[0m \u001b[0;34m\u001b[0m\u001b[0m\n\u001b[0;32m----> 3\u001b[0;31m \u001b[0mnew\u001b[0m \u001b[0;34m=\u001b[0m \u001b[0mmin_max_scaler\u001b[0m\u001b[0;34m.\u001b[0m\u001b[0minverse_transform\u001b[0m\u001b[0;34m(\u001b[0m\u001b[0mp\u001b[0m\u001b[0;34m)\u001b[0m\u001b[0;34m\u001b[0m\u001b[0m\n\u001b[0m\u001b[1;32m      4\u001b[0m \u001b[0;34m\u001b[0m\u001b[0m\n",
      "\u001b[0;32m/anaconda3/lib/python3.6/site-packages/sklearn/preprocessing/data.py\u001b[0m in \u001b[0;36minverse_transform\u001b[0;34m(self, X)\u001b[0m\n\u001b[1;32m    379\u001b[0m             \u001b[0mInput\u001b[0m \u001b[0mdata\u001b[0m \u001b[0mthat\u001b[0m \u001b[0mwill\u001b[0m \u001b[0mbe\u001b[0m \u001b[0mtransformed\u001b[0m\u001b[0;34m.\u001b[0m \u001b[0mIt\u001b[0m \u001b[0mcannot\u001b[0m \u001b[0mbe\u001b[0m \u001b[0msparse\u001b[0m\u001b[0;34m.\u001b[0m\u001b[0;34m\u001b[0m\u001b[0m\n\u001b[1;32m    380\u001b[0m         \"\"\"\n\u001b[0;32m--> 381\u001b[0;31m         \u001b[0mcheck_is_fitted\u001b[0m\u001b[0;34m(\u001b[0m\u001b[0mself\u001b[0m\u001b[0;34m,\u001b[0m \u001b[0;34m'scale_'\u001b[0m\u001b[0;34m)\u001b[0m\u001b[0;34m\u001b[0m\u001b[0m\n\u001b[0m\u001b[1;32m    382\u001b[0m \u001b[0;34m\u001b[0m\u001b[0m\n\u001b[1;32m    383\u001b[0m         \u001b[0mX\u001b[0m \u001b[0;34m=\u001b[0m \u001b[0mcheck_array\u001b[0m\u001b[0;34m(\u001b[0m\u001b[0mX\u001b[0m\u001b[0;34m,\u001b[0m \u001b[0mcopy\u001b[0m\u001b[0;34m=\u001b[0m\u001b[0mself\u001b[0m\u001b[0;34m.\u001b[0m\u001b[0mcopy\u001b[0m\u001b[0;34m,\u001b[0m \u001b[0mdtype\u001b[0m\u001b[0;34m=\u001b[0m\u001b[0mFLOAT_DTYPES\u001b[0m\u001b[0;34m)\u001b[0m\u001b[0;34m\u001b[0m\u001b[0m\n",
      "\u001b[0;32m/anaconda3/lib/python3.6/site-packages/sklearn/utils/validation.py\u001b[0m in \u001b[0;36mcheck_is_fitted\u001b[0;34m(estimator, attributes, msg, all_or_any)\u001b[0m\n\u001b[1;32m    766\u001b[0m \u001b[0;34m\u001b[0m\u001b[0m\n\u001b[1;32m    767\u001b[0m     \u001b[0;32mif\u001b[0m \u001b[0;32mnot\u001b[0m \u001b[0mall_or_any\u001b[0m\u001b[0;34m(\u001b[0m\u001b[0;34m[\u001b[0m\u001b[0mhasattr\u001b[0m\u001b[0;34m(\u001b[0m\u001b[0mestimator\u001b[0m\u001b[0;34m,\u001b[0m \u001b[0mattr\u001b[0m\u001b[0;34m)\u001b[0m \u001b[0;32mfor\u001b[0m \u001b[0mattr\u001b[0m \u001b[0;32min\u001b[0m \u001b[0mattributes\u001b[0m\u001b[0;34m]\u001b[0m\u001b[0;34m)\u001b[0m\u001b[0;34m:\u001b[0m\u001b[0;34m\u001b[0m\u001b[0m\n\u001b[0;32m--> 768\u001b[0;31m         \u001b[0;32mraise\u001b[0m \u001b[0mNotFittedError\u001b[0m\u001b[0;34m(\u001b[0m\u001b[0mmsg\u001b[0m \u001b[0;34m%\u001b[0m \u001b[0;34m{\u001b[0m\u001b[0;34m'name'\u001b[0m\u001b[0;34m:\u001b[0m \u001b[0mtype\u001b[0m\u001b[0;34m(\u001b[0m\u001b[0mestimator\u001b[0m\u001b[0;34m)\u001b[0m\u001b[0;34m.\u001b[0m\u001b[0m__name__\u001b[0m\u001b[0;34m}\u001b[0m\u001b[0;34m)\u001b[0m\u001b[0;34m\u001b[0m\u001b[0m\n\u001b[0m\u001b[1;32m    769\u001b[0m \u001b[0;34m\u001b[0m\u001b[0m\n\u001b[1;32m    770\u001b[0m \u001b[0;34m\u001b[0m\u001b[0m\n",
      "\u001b[0;31mNotFittedError\u001b[0m: This MinMaxScaler instance is not fitted yet. Call 'fit' with appropriate arguments before using this method."
     ]
    }
   ],
   "source": [
    "min_max_scaler = preprocessing.MinMaxScaler()\n",
    "\n",
    "new = min_max_scaler.inverse_transform(p)\n",
    "      "
   ]
  },
  {
   "cell_type": "code",
   "execution_count": 125,
   "metadata": {},
   "outputs": [
    {
     "data": {
      "text/plain": [
       "9987"
      ]
     },
     "execution_count": 125,
     "metadata": {},
     "output_type": "execute_result"
    }
   ],
   "source": [
    "len(X_train)"
   ]
  },
  {
   "cell_type": "code",
   "execution_count": 126,
   "metadata": {},
   "outputs": [
    {
     "data": {
      "text/plain": [
       "20197"
      ]
     },
     "execution_count": 126,
     "metadata": {},
     "output_type": "execute_result"
    }
   ],
   "source": [
    "len(df)"
   ]
  },
  {
   "cell_type": "code",
   "execution_count": null,
<<<<<<< HEAD
   "metadata": {
    "collapsed": true
   },
=======
   "metadata": {},
>>>>>>> 796c8c689e39c6c097b216351b531192a054dfbd
   "outputs": [],
   "source": []
  }
 ],
 "metadata": {
  "kernelspec": {
   "display_name": "Python 3",
   "language": "python",
   "name": "python3"
  },
  "language_info": {
   "codemirror_mode": {
    "name": "ipython",
    "version": 3
   },
   "file_extension": ".py",
   "mimetype": "text/x-python",
   "name": "python",
   "nbconvert_exporter": "python",
   "pygments_lexer": "ipython3",
<<<<<<< HEAD
   "version": "3.6.3"
=======
   "version": "3.6.4"
>>>>>>> 796c8c689e39c6c097b216351b531192a054dfbd
  }
 },
 "nbformat": 4,
 "nbformat_minor": 2
}
