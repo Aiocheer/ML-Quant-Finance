{
 "cells": [
  {
   "cell_type": "markdown",
   "metadata": {},
   "source": [
    "# Part I: Set Up"
   ]
  },
  {
   "cell_type": "markdown",
   "metadata": {},
   "source": [
    "- Import Packages"
   ]
  },
  {
   "cell_type": "code",
   "execution_count": 53,
   "metadata": {
    "collapsed": true
   },
   "outputs": [],
   "source": [
    "import seaborn as sns\n",
    "import numpy as np\n",
    "import matplotlib.pyplot as plt\n",
    "import matplotlib.pyplot as plt2\n",
    "import pandas as pd\n",
    "from pandas import datetime\n",
    "import math, time\n",
    "import itertools\n",
    "from sklearn import preprocessing\n",
    "import datetime\n",
    "from sklearn.metrics import mean_squared_error\n",
    "from math import sqrt\n",
    "from keras.models import Sequential\n",
    "from keras.layers.core import Dense, Dropout, Activation\n",
    "from keras.layers.recurrent import LSTM\n",
    "from keras.models import load_model\n",
    "import keras\n",
    "import h5py\n",
    "import os\n",
    "from statistics import mean\n",
    "from keras import backend as K\n",
    "from keras.layers.convolutional import Convolution1D, MaxPooling1D\n",
    "from keras.layers.core import Flatten"
   ]
  },
  {
   "cell_type": "markdown",
   "metadata": {},
   "source": [
    "- Initialize Variables"
   ]
  },
  {
   "cell_type": "code",
   "execution_count": 48,
   "metadata": {
    "collapsed": true
   },
   "outputs": [],
   "source": [
    "seq_len = 22\n",
    "shape = [seq_len, 9, 1]\n",
    "neurons = [256, 256, 32, 1]\n",
    "dropout = 0.3\n",
    "decay = 0.5\n",
    "epochs = 90\n",
    "#os.chdir(\"/Users/youssefberrada/Dropbox (MIT)/15.961 Independant Study/Data\")\n",
    "os.chdir(\"/Users/michelcassard/Dropbox (MIT)/15.960 Independant Study/Data\")\n",
    "file = 'FX-5.xlsx'\n",
    "# Load spreadsheet\n",
    "xl = pd.ExcelFile(file)"
   ]
  },
  {
   "cell_type": "markdown",
   "metadata": {},
   "source": [
    "# Part 2: Data"
   ]
  },
  {
   "cell_type": "markdown",
   "metadata": {},
   "source": [
    "- Load Data"
   ]
  },
  {
   "cell_type": "code",
   "execution_count": 29,
   "metadata": {
    "collapsed": true
   },
   "outputs": [],
   "source": [
    "def get_stock_data(stock_name, ma=[]):\n",
    "    \"\"\"\n",
    "    Return a dataframe of that stock and normalize all the values. \n",
    "    (Optional: create moving average)\n",
    "    \n",
    "    \"\"\"\n",
    "    df = xl.parse(stock_name)\n",
    "    df.drop(['VOLUME'], 1, inplace=True)\n",
    "    df.set_index('Date', inplace=True)\n",
    "    \n",
    "    # Renaming all the columns so that we can use the old version code\n",
    "    df.rename(columns={'OPEN': 'Open', 'HIGH': 'High', 'LOW': 'Low', 'NUMBER_TICKS': 'Volume', 'LAST_PRICE': 'Adj Close'}, inplace=True)\n",
    "     # Percentage change\n",
    "    df['Pct'] = df['Adj Close'].pct_change()\n",
    "    df.dropna(inplace=True)\n",
    "    \n",
    "    # Moving Average    \n",
    "    if ma != []:\n",
    "        for moving in ma:\n",
    "            df['{}ma'.format(moving)] = df['Adj Close'].rolling(window=moving).mean()\n",
    "    df.dropna(inplace=True)\n",
    "    \n",
    "  \n",
    "    # Move Adj Close to the rightmost for the ease of training\n",
    "    adj_close = df['Adj Close']\n",
    "    df.drop(labels=['Adj Close'], axis=1, inplace=True)\n",
    "    df = pd.concat([df, adj_close], axis=1)\n",
    "      \n",
    "    return df"
   ]
  },
  {
   "cell_type": "code",
   "execution_count": 30,
   "metadata": {
    "collapsed": true
   },
   "outputs": [],
   "source": [
    "df_GBP=get_stock_data(\"GBP Curncy\",  ma=[50, 100, 200])"
   ]
  },
  {
   "cell_type": "markdown",
   "metadata": {},
   "source": [
    "- Visualize the data"
   ]
  },
  {
   "cell_type": "code",
   "execution_count": 31,
   "metadata": {
    "collapsed": true
   },
   "outputs": [],
   "source": [
    "def plot_stock(df):\n",
    "    print(df.head())\n",
    "    plt.subplot(211)\n",
    "    plt.plot(df['Adj Close'], color='red', label='Adj Close')\n",
    "    plt.legend(loc='best')\n",
    "    plt.subplot(212)\n",
    "    plt.plot(df['Pct'], color='blue', label='Percentage change')\n",
    "    plt.legend(loc='best')\n",
    "    plt.show()"
   ]
  },
  {
   "cell_type": "code",
   "execution_count": 32,
   "metadata": {},
   "outputs": [
    {
     "name": "stdout",
     "output_type": "stream",
     "text": [
      "                       Open    High     Low  Volume       Pct      50ma  \\\n",
      "Date                                                                      \n",
      "2017-09-26 09:45:00  1.3442  1.3444  1.3433    4299 -0.000372  1.343802   \n",
      "2017-09-26 09:50:00  1.3437  1.3447  1.3437    4947  0.000521  1.343738   \n",
      "2017-09-26 09:55:00  1.3444  1.3446  1.3431    5552 -0.000818  1.343648   \n",
      "2017-09-26 10:00:00  1.3433  1.3438  1.3431    7210  0.000074  1.343562   \n",
      "2017-09-26 10:05:00  1.3434  1.3443  1.3432    5257  0.000447  1.343502   \n",
      "\n",
      "                        100ma     200ma  Adj Close  \n",
      "Date                                                \n",
      "2017-09-26 09:45:00  1.346129  1.346931     1.3437  \n",
      "2017-09-26 09:50:00  1.346099  1.346920     1.3444  \n",
      "2017-09-26 09:55:00  1.346056  1.346904     1.3433  \n",
      "2017-09-26 10:00:00  1.346018  1.346886     1.3434  \n",
      "2017-09-26 10:05:00  1.345986  1.346872     1.3440  \n"
     ]
    },
    {
     "data": {
      "image/png": "[encoded data removed]",
      "text/plain": [
       "<matplotlib.figure.Figure at 0x1a2b3aab70>"
      ]
     },
     "metadata": {},
     "output_type": "display_data"
    }
   ],
   "source": [
    "plot_stock(df_GBP)"
   ]
  },
  {
   "cell_type": "markdown",
   "metadata": {},
   "source": [
    "- Training/Test Set"
   ]
  },
  {
   "cell_type": "code",
   "execution_count": 33,
   "metadata": {
    "collapsed": true
   },
   "outputs": [],
   "source": [
    "def load_data(stock,normalize,seq_len,split,ma):\n",
    "    amount_of_features = len(stock.columns)\n",
    "    print (\"Amount of features = {}\".format(amount_of_features))\n",
    "    sequence_length = seq_len + 1 \n",
    "    result_train = []\n",
    "    result_test= []\n",
    "    row = round(split * stock.shape[0]) \n",
    "    df_train=stock[0:row].copy()\n",
    "    print (\"Amount of training data = {}\".format(df_train.shape[0]))\n",
    "    df_test=stock[row:len(stock)].copy()\n",
    "    print (\"Amount of testing data = {}\".format(df_test.shape[0]))\n",
    "\n",
    "    \n",
    "    if normalize:\n",
    "        #Training\n",
    "        min_max_scaler = preprocessing.MinMaxScaler()\n",
    "        df_train['Open'] = min_max_scaler.fit_transform(df_train.Open.values.reshape(-1,1))\n",
    "        df_train['High'] = min_max_scaler.fit_transform(df_train.High.values.reshape(-1,1))\n",
    "        df_train['Low'] = min_max_scaler.fit_transform(df_train.Low.values.reshape(-1,1))\n",
    "        df_train['Volume'] = min_max_scaler.fit_transform(df_train.Volume.values.reshape(-1,1))\n",
    "        df_train['Adj Close'] = min_max_scaler.fit_transform(df_train['Adj Close'].values.reshape(-1,1))\n",
    "        df_train['Pct'] = min_max_scaler.fit_transform(df_train['Pct'].values.reshape(-1,1))\n",
    "        if ma != []:\n",
    "            for moving in ma:\n",
    "                df_train['{}ma'.format(moving)] = min_max_scaler.fit_transform(df_train['{}ma'.format(moving)].values.reshape(-1,1))  \n",
    "        #Test\n",
    "        df_test['Open'] = min_max_scaler.fit_transform(df_test.Open.values.reshape(-1,1))\n",
    "        df_test['High'] = min_max_scaler.fit_transform(df_test.High.values.reshape(-1,1))\n",
    "        df_test['Low'] = min_max_scaler.fit_transform(df_test.Low.values.reshape(-1,1))\n",
    "        df_test['Volume'] = min_max_scaler.fit_transform(df_test.Volume.values.reshape(-1,1))\n",
    "        df_test['Adj Close'] = min_max_scaler.fit_transform(df_test['Adj Close'].values.reshape(-1,1))\n",
    "        df_test['Pct'] = min_max_scaler.fit_transform(df_test['Pct'].values.reshape(-1,1))\n",
    "        if ma != []:\n",
    "            for moving in ma:\n",
    "                df_test['{}ma'.format(moving)] = min_max_scaler.fit_transform(df_test['{}ma'.format(moving)].values.reshape(-1,1))  \n",
    "     \n",
    "    #Training\n",
    "    data_train = df_train.as_matrix()\n",
    "    for index in range(len(data_train) - sequence_length): \n",
    "        result_train.append(data_train[index: index + sequence_length]) \n",
    "    train = np.array(result_train)\n",
    "    X_train = train[:, :-1].copy() # all data until day m\n",
    "    y_train = train[:, -1][:,-1].copy() # day m + 1 adjusted close price\n",
    "\n",
    "    #Test\n",
    "    data_test = df_test.as_matrix()\n",
    "    for index in range(len(data_test) - sequence_length): \n",
    "        result_test.append(data_test[index: index + sequence_length]) \n",
    "    test = np.array(result_train)\n",
    "    X_test = test[:, :-1].copy()\n",
    "    y_test = test[:, -1][:,-1].copy()\n",
    "\n",
    "    \n",
    "    X_train = np.reshape(X_train, (X_train.shape[0], X_train.shape[1], amount_of_features))\n",
    "    X_test = np.reshape(X_test, (X_test.shape[0], X_test.shape[1], amount_of_features))\n",
    "\n",
    "    return [X_train, y_train, X_test, y_test]"
   ]
  },
  {
   "cell_type": "code",
   "execution_count": 34,
   "metadata": {},
   "outputs": [
    {
     "name": "stdout",
     "output_type": "stream",
     "text": [
      "Amount of features = 9\n",
      "Amount of training data = 13998\n",
      "Amount of testing data = 5999\n"
     ]
    },
    {
     "name": "stderr",
     "output_type": "stream",
     "text": [
      "/Users/michelcassard/anaconda3/lib/python3.6/site-packages/sklearn/utils/validation.py:475: DataConversionWarning: Data with input dtype int64 was converted to float64 by MinMaxScaler.\n",
      "  warnings.warn(msg, DataConversionWarning)\n"
     ]
    }
   ],
   "source": [
    "X_train, y_train, X_test, y_test = load_data(df_GBP,True,seq_len,split=0.7,ma=[50, 100, 200])"
   ]
  },
  {
   "cell_type": "markdown",
   "metadata": {},
   "source": [
    "# 3. Model"
   ]
  },
  {
   "cell_type": "code",
   "execution_count": 35,
   "metadata": {
    "collapsed": true
   },
   "outputs": [],
   "source": [
    "def build_model(shape, neurons, dropout, decay):\n",
    "    model = Sequential()\n",
    "\n",
    "    #model.add(Dense(neurons[0],activation=\"relu\", input_shape=(shape[0], shape[1])))\n",
    "    \n",
    "    model.add(LSTM(neurons[0], input_shape=(shape[0], shape[1]), return_sequences=True))\n",
    "    model.add(Dropout(dropout))\n",
    "\n",
    "    model.add(LSTM(neurons[1], input_shape=(shape[0], shape[1]), return_sequences=False))\n",
    "    model.add(Dropout(dropout))\n",
    "\n",
    "    model.add(Dense(neurons[2],kernel_initializer=\"uniform\",activation='relu'))\n",
    "    model.add(Dense(neurons[3],kernel_initializer=\"uniform\",activation='linear'))\n",
    "    \n",
    "    adam = keras.optimizers.Adam(decay=decay)\n",
    "    model.compile(loss='mse',optimizer='adam', metrics=['accuracy'])\n",
    "    model.summary()\n",
    "    return model"
   ]
  },
  {
   "cell_type": "code",
   "execution_count": 54,
   "metadata": {
    "collapsed": true
   },
   "outputs": [],
   "source": [
    "def build_model_CNN(shape, neurons, dropout, decay):\n",
    "    model = Sequential()\n",
    "    model.add(Convolution1D(input_shape = (shape[0], shape[1]), \n",
    "                        nb_filter=64,\n",
    "                        filter_length=2,\n",
    "                        border_mode='valid',\n",
    "                        activation='relu',\n",
    "                        subsample_length=1))\n",
    "    model.add(MaxPooling1D(pool_length=2))\n",
    "\n",
    "    model.add(Convolution1D(input_shape = (shape[0], shape[1]), \n",
    "                        nb_filter=64,\n",
    "                        filter_length=2,\n",
    "                        border_mode='valid',\n",
    "                        activation='relu',\n",
    "                        subsample_length=1))\n",
    "    model.add(MaxPooling1D(pool_length=2))\n",
    "\n",
    "    model.add(Dropout(0.25))\n",
    "    model.add(Flatten())\n",
    "\n",
    "    model.add(Dense(250))\n",
    "    model.add(Dropout(0.25))\n",
    "    model.add(Activation('relu'))\n",
    "\n",
    "    model.add(Dense(1))\n",
    "    model.add(Activation('linear'))\n",
    "    adam = keras.optimizers.Adam(decay=decay)\n",
    "    model.compile(loss='mse',optimizer='adam', metrics=['accuracy'])\n",
    "    model.summary()\n",
    "    return model"
   ]
  },
  {
   "cell_type": "code",
   "execution_count": 55,
   "metadata": {},
   "outputs": [
    {
     "name": "stderr",
     "output_type": "stream",
     "text": [
      "/Users/michelcassard/anaconda3/lib/python3.6/site-packages/ipykernel_launcher.py:8: UserWarning: Update your `Conv1D` call to the Keras 2 API: `Conv1D(input_shape=(22, 9), activation=\"relu\", filters=64, kernel_size=2, strides=1, padding=\"valid\")`\n",
      "  \n",
      "/Users/michelcassard/anaconda3/lib/python3.6/site-packages/ipykernel_launcher.py:9: UserWarning: Update your `MaxPooling1D` call to the Keras 2 API: `MaxPooling1D(pool_size=2)`\n",
      "  if __name__ == '__main__':\n",
      "/Users/michelcassard/anaconda3/lib/python3.6/site-packages/ipykernel_launcher.py:16: UserWarning: Update your `Conv1D` call to the Keras 2 API: `Conv1D(input_shape=(22, 9), activation=\"relu\", filters=64, kernel_size=2, strides=1, padding=\"valid\")`\n",
      "  app.launch_new_instance()\n",
      "/Users/michelcassard/anaconda3/lib/python3.6/site-packages/ipykernel_launcher.py:17: UserWarning: Update your `MaxPooling1D` call to the Keras 2 API: `MaxPooling1D(pool_size=2)`\n"
     ]
    },
    {
     "name": "stdout",
     "output_type": "stream",
     "text": [
      "_________________________________________________________________\n",
      "Layer (type)                 Output Shape              Param #   \n",
      "=================================================================\n",
      "conv1d_3 (Conv1D)            (None, 21, 64)            1216      \n",
      "_________________________________________________________________\n",
      "max_pooling1d_3 (MaxPooling1 (None, 10, 64)            0         \n",
      "_________________________________________________________________\n",
      "conv1d_4 (Conv1D)            (None, 9, 64)             8256      \n",
      "_________________________________________________________________\n",
      "max_pooling1d_4 (MaxPooling1 (None, 4, 64)             0         \n",
      "_________________________________________________________________\n",
      "dropout_6 (Dropout)          (None, 4, 64)             0         \n",
      "_________________________________________________________________\n",
      "flatten_1 (Flatten)          (None, 256)               0         \n",
      "_________________________________________________________________\n",
      "dense_5 (Dense)              (None, 250)               64250     \n",
      "_________________________________________________________________\n",
      "dropout_7 (Dropout)          (None, 250)               0         \n",
      "_________________________________________________________________\n",
      "activation_1 (Activation)    (None, 250)               0         \n",
      "_________________________________________________________________\n",
      "dense_6 (Dense)              (None, 1)                 251       \n",
      "_________________________________________________________________\n",
      "activation_2 (Activation)    (None, 1)                 0         \n",
      "=================================================================\n",
      "Total params: 73,973\n",
      "Trainable params: 73,973\n",
      "Non-trainable params: 0\n",
      "_________________________________________________________________\n"
     ]
    }
   ],
   "source": [
    "model = build_model_CNN(shape, neurons, dropout, decay)"
   ]
  },
  {
   "cell_type": "markdown",
   "metadata": {},
   "source": [
    "# 4. Results"
   ]
  },
  {
   "cell_type": "markdown",
   "metadata": {},
   "source": [
    "- Model Fit"
   ]
  },
  {
   "cell_type": "code",
   "execution_count": 56,
   "metadata": {},
   "outputs": [
    {
     "name": "stdout",
     "output_type": "stream",
     "text": [
      "Train on 9782 samples, validate on 4193 samples\n",
      "Epoch 1/90\n",
      "9782/9782 [==============================] - 2s 157us/step - loss: 0.0300 - acc: 1.0223e-04 - val_loss: 0.0027 - val_acc: 2.3849e-04\n",
      "Epoch 2/90\n",
      "9782/9782 [==============================] - 0s 45us/step - loss: 0.0062 - acc: 1.0223e-04 - val_loss: 8.3929e-04 - val_acc: 2.3849e-04\n",
      "Epoch 3/90\n",
      "9782/9782 [==============================] - 0s 46us/step - loss: 0.0040 - acc: 1.0223e-04 - val_loss: 0.0019 - val_acc: 2.3849e-04\n",
      "Epoch 4/90\n",
      "9782/9782 [==============================] - 1s 53us/step - loss: 0.0031 - acc: 1.0223e-04 - val_loss: 0.0017 - val_acc: 2.3849e-04\n",
      "Epoch 5/90\n",
      "9782/9782 [==============================] - 0s 44us/step - loss: 0.0025 - acc: 1.0223e-04 - val_loss: 0.0021 - val_acc: 2.3849e-04\n",
      "Epoch 6/90\n",
      "9782/9782 [==============================] - 1s 53us/step - loss: 0.0023 - acc: 1.0223e-04 - val_loss: 0.0019 - val_acc: 2.3849e-04\n",
      "Epoch 7/90\n",
      "9782/9782 [==============================] - 1s 57us/step - loss: 0.0019 - acc: 1.0223e-04 - val_loss: 0.0018 - val_acc: 2.3849e-04\n",
      "Epoch 8/90\n",
      "9782/9782 [==============================] - 1s 53us/step - loss: 0.0018 - acc: 1.0223e-04 - val_loss: 0.0011 - val_acc: 2.3849e-04\n",
      "Epoch 9/90\n",
      "9782/9782 [==============================] - 1s 62us/step - loss: 0.0017 - acc: 1.0223e-04 - val_loss: 6.8893e-04 - val_acc: 2.3849e-04\n",
      "Epoch 10/90\n",
      "9782/9782 [==============================] - 0s 48us/step - loss: 0.0016 - acc: 1.0223e-04 - val_loss: 0.0015 - val_acc: 2.3849e-04\n",
      "Epoch 11/90\n",
      "9782/9782 [==============================] - 1s 52us/step - loss: 0.0015 - acc: 1.0223e-04 - val_loss: 0.0015 - val_acc: 2.3849e-04\n",
      "Epoch 12/90\n",
      "9782/9782 [==============================] - 0s 47us/step - loss: 0.0014 - acc: 1.0223e-04 - val_loss: 9.8716e-04 - val_acc: 2.3849e-04\n",
      "Epoch 13/90\n",
      "9782/9782 [==============================] - 0s 48us/step - loss: 0.0014 - acc: 1.0223e-04 - val_loss: 0.0020 - val_acc: 2.3849e-04\n",
      "Epoch 14/90\n",
      "9782/9782 [==============================] - 0s 46us/step - loss: 0.0013 - acc: 1.0223e-04 - val_loss: 0.0014 - val_acc: 2.3849e-04\n",
      "Epoch 15/90\n",
      "9782/9782 [==============================] - 0s 46us/step - loss: 0.0013 - acc: 1.0223e-04 - val_loss: 0.0011 - val_acc: 2.3849e-04\n",
      "Epoch 16/90\n",
      "9782/9782 [==============================] - 0s 49us/step - loss: 0.0013 - acc: 1.0223e-04 - val_loss: 0.0020 - val_acc: 2.3849e-04\n",
      "Epoch 17/90\n",
      "9782/9782 [==============================] - 0s 49us/step - loss: 0.0012 - acc: 1.0223e-04 - val_loss: 9.2508e-04 - val_acc: 2.3849e-04\n",
      "Epoch 18/90\n",
      "9782/9782 [==============================] - 0s 51us/step - loss: 0.0012 - acc: 1.0223e-04 - val_loss: 0.0014 - val_acc: 2.3849e-04\n",
      "Epoch 19/90\n",
      "9782/9782 [==============================] - 1s 53us/step - loss: 0.0012 - acc: 1.0223e-04 - val_loss: 0.0019 - val_acc: 2.3849e-04\n",
      "Epoch 20/90\n",
      "9782/9782 [==============================] - 1s 51us/step - loss: 0.0012 - acc: 1.0223e-04 - val_loss: 0.0015 - val_acc: 2.3849e-04\n",
      "Epoch 21/90\n",
      "9782/9782 [==============================] - 1s 51us/step - loss: 0.0011 - acc: 1.0223e-04 - val_loss: 0.0015 - val_acc: 2.3849e-04\n",
      "Epoch 22/90\n",
      "9782/9782 [==============================] - 1s 53us/step - loss: 0.0011 - acc: 1.0223e-04 - val_loss: 0.0014 - val_acc: 2.3849e-04\n",
      "Epoch 23/90\n",
      "9782/9782 [==============================] - 1s 53us/step - loss: 0.0011 - acc: 1.0223e-04 - val_loss: 0.0014 - val_acc: 2.3849e-04\n",
      "Epoch 24/90\n",
      "9782/9782 [==============================] - 0s 50us/step - loss: 0.0010 - acc: 1.0223e-04 - val_loss: 0.0013 - val_acc: 2.3849e-04\n",
      "Epoch 25/90\n",
      "9782/9782 [==============================] - 1s 53us/step - loss: 0.0010 - acc: 1.0223e-04 - val_loss: 6.0320e-04 - val_acc: 2.3849e-04\n",
      "Epoch 26/90\n",
      "9782/9782 [==============================] - 1s 54us/step - loss: 0.0010 - acc: 1.0223e-04 - val_loss: 0.0018 - val_acc: 2.3849e-04\n",
      "Epoch 27/90\n",
      "9782/9782 [==============================] - 1s 52us/step - loss: 0.0010 - acc: 1.0223e-04 - val_loss: 7.0059e-04 - val_acc: 2.3849e-04\n",
      "Epoch 28/90\n",
      "9782/9782 [==============================] - 0s 46us/step - loss: 0.0011 - acc: 1.0223e-04 - val_loss: 0.0011 - val_acc: 2.3849e-04\n",
      "Epoch 29/90\n",
      "9782/9782 [==============================] - 0s 47us/step - loss: 0.0010 - acc: 1.0223e-04 - val_loss: 6.3347e-04 - val_acc: 2.3849e-04\n",
      "Epoch 30/90\n",
      "9782/9782 [==============================] - 0s 47us/step - loss: 9.6083e-04 - acc: 1.0223e-04 - val_loss: 8.8266e-04 - val_acc: 2.3849e-04\n",
      "Epoch 31/90\n",
      "9782/9782 [==============================] - 0s 50us/step - loss: 9.6896e-04 - acc: 1.0223e-04 - val_loss: 8.0560e-04 - val_acc: 2.3849e-04\n",
      "Epoch 32/90\n",
      "9782/9782 [==============================] - 1s 54us/step - loss: 9.8041e-04 - acc: 1.0223e-04 - val_loss: 7.3745e-04 - val_acc: 2.3849e-04\n",
      "Epoch 33/90\n",
      "9782/9782 [==============================] - 0s 47us/step - loss: 9.4081e-04 - acc: 1.0223e-04 - val_loss: 4.8212e-04 - val_acc: 2.3849e-04\n",
      "Epoch 34/90\n",
      "9782/9782 [==============================] - 0s 48us/step - loss: 9.8479e-04 - acc: 1.0223e-04 - val_loss: 0.0012 - val_acc: 2.3849e-04\n",
      "Epoch 35/90\n",
      "9782/9782 [==============================] - 0s 49us/step - loss: 9.5071e-04 - acc: 1.0223e-04 - val_loss: 6.9842e-04 - val_acc: 2.3849e-04\n",
      "Epoch 36/90\n",
      "9782/9782 [==============================] - 1s 52us/step - loss: 9.1280e-04 - acc: 1.0223e-04 - val_loss: 6.7218e-04 - val_acc: 2.3849e-04\n",
      "Epoch 37/90\n",
      "9782/9782 [==============================] - 0s 45us/step - loss: 9.3024e-04 - acc: 1.0223e-04 - val_loss: 0.0011 - val_acc: 2.3849e-04\n",
      "Epoch 38/90\n",
      "9782/9782 [==============================] - 0s 50us/step - loss: 9.2309e-04 - acc: 1.0223e-04 - val_loss: 8.3252e-04 - val_acc: 2.3849e-04\n",
      "Epoch 39/90\n",
      "9782/9782 [==============================] - 0s 48us/step - loss: 9.2595e-04 - acc: 1.0223e-04 - val_loss: 5.4402e-04 - val_acc: 2.3849e-04\n",
      "Epoch 40/90\n",
      "9782/9782 [==============================] - 1s 55us/step - loss: 8.9355e-04 - acc: 1.0223e-04 - val_loss: 5.4410e-04 - val_acc: 2.3849e-04\n",
      "Epoch 41/90\n",
      "9782/9782 [==============================] - 1s 55us/step - loss: 9.0858e-04 - acc: 1.0223e-04 - val_loss: 0.0011 - val_acc: 2.3849e-04\n",
      "Epoch 42/90\n",
      "9782/9782 [==============================] - 1s 61us/step - loss: 9.5210e-04 - acc: 1.0223e-04 - val_loss: 9.5326e-04 - val_acc: 2.3849e-04\n",
      "Epoch 43/90\n",
      "9782/9782 [==============================] - 1s 68us/step - loss: 8.8722e-04 - acc: 1.0223e-04 - val_loss: 5.1590e-04 - val_acc: 2.3849e-04\n",
      "Epoch 44/90\n",
      "9782/9782 [==============================] - 1s 58us/step - loss: 8.5629e-04 - acc: 1.0223e-04 - val_loss: 0.0013 - val_acc: 2.3849e-04\n",
      "Epoch 45/90\n",
      "9782/9782 [==============================] - 1s 71us/step - loss: 8.7284e-04 - acc: 1.0223e-04 - val_loss: 5.8075e-04 - val_acc: 2.3849e-04\n",
      "Epoch 46/90\n",
      "9782/9782 [==============================] - 1s 80us/step - loss: 8.3667e-04 - acc: 1.0223e-04 - val_loss: 6.8614e-04 - val_acc: 2.3849e-04\n",
      "Epoch 47/90\n",
      "9782/9782 [==============================] - 1s 59us/step - loss: 8.4454e-04 - acc: 1.0223e-04 - val_loss: 8.0890e-04 - val_acc: 2.3849e-04\n",
      "Epoch 48/90\n",
      "9782/9782 [==============================] - 0s 50us/step - loss: 8.3100e-04 - acc: 1.0223e-04 - val_loss: 8.6068e-04 - val_acc: 2.3849e-04\n",
      "Epoch 49/90\n",
      "9782/9782 [==============================] - 0s 47us/step - loss: 8.3631e-04 - acc: 1.0223e-04 - val_loss: 4.6337e-04 - val_acc: 2.3849e-04\n",
      "Epoch 50/90\n",
      "9782/9782 [==============================] - 0s 51us/step - loss: 8.6489e-04 - acc: 1.0223e-04 - val_loss: 5.4392e-04 - val_acc: 2.3849e-04\n",
      "Epoch 51/90\n",
      "9782/9782 [==============================] - 1s 58us/step - loss: 8.2384e-04 - acc: 1.0223e-04 - val_loss: 5.1553e-04 - val_acc: 2.3849e-04\n",
      "Epoch 52/90\n",
      "9782/9782 [==============================] - 1s 66us/step - loss: 8.1945e-04 - acc: 1.0223e-04 - val_loss: 4.5196e-04 - val_acc: 2.3849e-04\n",
      "Epoch 53/90\n",
      "9782/9782 [==============================] - 1s 61us/step - loss: 8.3795e-04 - acc: 1.0223e-04 - val_loss: 5.3157e-04 - val_acc: 2.3849e-04\n",
      "Epoch 54/90\n",
      "9782/9782 [==============================] - 1s 56us/step - loss: 7.8482e-04 - acc: 1.0223e-04 - val_loss: 6.6991e-04 - val_acc: 2.3849e-04\n",
      "Epoch 55/90\n",
      "9782/9782 [==============================] - 0s 49us/step - loss: 8.0100e-04 - acc: 1.0223e-04 - val_loss: 5.0156e-04 - val_acc: 2.3849e-04\n",
      "Epoch 56/90\n",
      "9782/9782 [==============================] - 0s 50us/step - loss: 7.9817e-04 - acc: 1.0223e-04 - val_loss: 4.1211e-04 - val_acc: 2.3849e-04\n",
      "Epoch 57/90\n",
      "9782/9782 [==============================] - 0s 46us/step - loss: 8.6557e-04 - acc: 1.0223e-04 - val_loss: 4.0639e-04 - val_acc: 2.3849e-04\n",
      "Epoch 58/90\n",
      "9782/9782 [==============================] - 0s 45us/step - loss: 8.4588e-04 - acc: 1.0223e-04 - val_loss: 8.6013e-04 - val_acc: 2.3849e-04\n",
      "Epoch 59/90\n",
      "9782/9782 [==============================] - 0s 45us/step - loss: 8.4204e-04 - acc: 1.0223e-04 - val_loss: 7.0024e-04 - val_acc: 2.3849e-04\n",
      "Epoch 60/90\n",
      "9782/9782 [==============================] - 1s 57us/step - loss: 7.9460e-04 - acc: 1.0223e-04 - val_loss: 0.0012 - val_acc: 2.3849e-04\n",
      "Epoch 61/90\n",
      "9782/9782 [==============================] - 1s 54us/step - loss: 8.2483e-04 - acc: 1.0223e-04 - val_loss: 7.1989e-04 - val_acc: 2.3849e-04\n",
      "Epoch 62/90\n",
      "9782/9782 [==============================] - 1s 52us/step - loss: 9.9973e-04 - acc: 1.0223e-04 - val_loss: 7.3191e-04 - val_acc: 2.3849e-04\n",
      "Epoch 63/90\n",
      "9782/9782 [==============================] - 0s 48us/step - loss: 8.6027e-04 - acc: 1.0223e-04 - val_loss: 5.9269e-04 - val_acc: 2.3849e-04\n",
      "Epoch 64/90\n",
      "9782/9782 [==============================] - 0s 49us/step - loss: 7.6959e-04 - acc: 1.0223e-04 - val_loss: 7.2461e-04 - val_acc: 2.3849e-04\n",
      "Epoch 65/90\n",
      "9782/9782 [==============================] - 0s 46us/step - loss: 7.8893e-04 - acc: 1.0223e-04 - val_loss: 7.7115e-04 - val_acc: 2.3849e-04\n",
      "Epoch 66/90\n",
      "9782/9782 [==============================] - 0s 44us/step - loss: 7.8180e-04 - acc: 1.0223e-04 - val_loss: 0.0011 - val_acc: 2.3849e-04\n",
      "Epoch 67/90\n",
      "9782/9782 [==============================] - 0s 43us/step - loss: 7.9688e-04 - acc: 1.0223e-04 - val_loss: 7.5313e-04 - val_acc: 2.3849e-04\n",
      "Epoch 68/90\n",
      "9782/9782 [==============================] - 0s 46us/step - loss: 7.4693e-04 - acc: 1.0223e-04 - val_loss: 8.0424e-04 - val_acc: 2.3849e-04\n",
      "Epoch 69/90\n",
      "9782/9782 [==============================] - 0s 43us/step - loss: 7.4213e-04 - acc: 1.0223e-04 - val_loss: 7.6073e-04 - val_acc: 2.3849e-04\n",
      "Epoch 70/90\n",
      "9782/9782 [==============================] - 0s 45us/step - loss: 7.4883e-04 - acc: 1.0223e-04 - val_loss: 8.7098e-04 - val_acc: 2.3849e-04\n",
      "Epoch 71/90\n",
      "9782/9782 [==============================] - 0s 45us/step - loss: 7.5040e-04 - acc: 1.0223e-04 - val_loss: 4.4049e-04 - val_acc: 2.3849e-04\n",
      "Epoch 72/90\n",
      "9782/9782 [==============================] - 0s 48us/step - loss: 7.6684e-04 - acc: 1.0223e-04 - val_loss: 7.5038e-04 - val_acc: 2.3849e-04\n",
      "Epoch 73/90\n",
      "9782/9782 [==============================] - 0s 48us/step - loss: 7.5701e-04 - acc: 1.0223e-04 - val_loss: 8.0990e-04 - val_acc: 2.3849e-04\n",
      "Epoch 74/90\n",
      "9782/9782 [==============================] - 0s 48us/step - loss: 7.6470e-04 - acc: 1.0223e-04 - val_loss: 0.0013 - val_acc: 2.3849e-04\n",
      "Epoch 75/90\n",
      "9782/9782 [==============================] - 0s 48us/step - loss: 8.0393e-04 - acc: 1.0223e-04 - val_loss: 5.5986e-04 - val_acc: 2.3849e-04\n",
      "Epoch 76/90\n",
      "9782/9782 [==============================] - 0s 46us/step - loss: 7.6198e-04 - acc: 1.0223e-04 - val_loss: 5.0854e-04 - val_acc: 2.3849e-04\n",
      "Epoch 77/90\n",
      "9782/9782 [==============================] - 0s 45us/step - loss: 7.7522e-04 - acc: 1.0223e-04 - val_loss: 0.0020 - val_acc: 2.3849e-04\n",
      "Epoch 78/90\n",
      "9782/9782 [==============================] - 0s 46us/step - loss: 7.9246e-04 - acc: 1.0223e-04 - val_loss: 5.7807e-04 - val_acc: 2.3849e-04\n",
      "Epoch 79/90\n",
      "9782/9782 [==============================] - 0s 45us/step - loss: 7.0724e-04 - acc: 1.0223e-04 - val_loss: 4.9251e-04 - val_acc: 2.3849e-04\n",
      "Epoch 80/90\n",
      "9782/9782 [==============================] - 0s 50us/step - loss: 7.0103e-04 - acc: 1.0223e-04 - val_loss: 5.0446e-04 - val_acc: 2.3849e-04\n",
      "Epoch 81/90\n",
      "9782/9782 [==============================] - 0s 49us/step - loss: 7.1523e-04 - acc: 1.0223e-04 - val_loss: 3.9632e-04 - val_acc: 2.3849e-04\n",
      "Epoch 82/90\n",
      "9782/9782 [==============================] - 1s 54us/step - loss: 6.8915e-04 - acc: 1.0223e-04 - val_loss: 6.0674e-04 - val_acc: 2.3849e-04\n",
      "Epoch 83/90\n",
      "9782/9782 [==============================] - 1s 58us/step - loss: 6.9093e-04 - acc: 1.0223e-04 - val_loss: 7.3123e-04 - val_acc: 2.3849e-04\n",
      "Epoch 84/90\n",
      "9782/9782 [==============================] - 1s 64us/step - loss: 6.9002e-04 - acc: 1.0223e-04 - val_loss: 7.3097e-04 - val_acc: 2.3849e-04\n",
      "Epoch 85/90\n",
      "9782/9782 [==============================] - 1s 61us/step - loss: 6.9586e-04 - acc: 1.0223e-04 - val_loss: 4.0390e-04 - val_acc: 2.3849e-04\n",
      "Epoch 86/90\n",
      "9782/9782 [==============================] - 1s 59us/step - loss: 7.0406e-04 - acc: 1.0223e-04 - val_loss: 0.0011 - val_acc: 2.3849e-04\n",
      "Epoch 87/90\n",
      "9782/9782 [==============================] - 1s 63us/step - loss: 7.0171e-04 - acc: 1.0223e-04 - val_loss: 0.0010 - val_acc: 2.3849e-04\n",
      "Epoch 88/90\n",
      "9782/9782 [==============================] - 1s 55us/step - loss: 6.9965e-04 - acc: 1.0223e-04 - val_loss: 4.2269e-04 - val_acc: 2.3849e-04\n",
      "Epoch 89/90\n",
      "9782/9782 [==============================] - 1s 62us/step - loss: 7.1589e-04 - acc: 1.0223e-04 - val_loss: 5.9269e-04 - val_acc: 2.3849e-04\n",
      "Epoch 90/90\n",
      "9782/9782 [==============================] - 1s 54us/step - loss: 6.8733e-04 - acc: 1.0223e-04 - val_loss: 4.2963e-04 - val_acc: 2.3849e-04\n"
     ]
    },
    {
     "data": {
      "text/plain": [
       "<keras.callbacks.History at 0x1a1ec1fcc0>"
      ]
     },
     "execution_count": 56,
     "metadata": {},
     "output_type": "execute_result"
    }
   ],
   "source": [
    "model.fit(X_train,y_train,batch_size=512,epochs=epochs,validation_split=0.3,verbose=1)"
   ]
  },
  {
   "cell_type": "markdown",
   "metadata": {},
   "source": [
    "- Model Score"
   ]
  },
  {
   "cell_type": "code",
   "execution_count": 57,
   "metadata": {
    "collapsed": true
   },
   "outputs": [],
   "source": [
    "def model_score(model, X_train, y_train, X_test, y_test):\n",
    "    trainScore = model.evaluate(X_train, y_train, verbose=0)\n",
    "    print('Train Score: %.5f MSE (%.2f RMSE)' % (trainScore[0], math.sqrt(trainScore[0])))\n",
    "\n",
    "    testScore = model.evaluate(X_test, y_test, verbose=0)\n",
    "    print('Test Score: %.5f MSE (%.2f RMSE)' % (testScore[0], math.sqrt(testScore[0])))\n",
    "    return trainScore[0], testScore[0]"
   ]
  },
  {
   "cell_type": "code",
   "execution_count": 58,
   "metadata": {},
   "outputs": [
    {
     "name": "stdout",
     "output_type": "stream",
     "text": [
      "Train Score: 0.00037 MSE (0.02 RMSE)\n",
      "Test Score: 0.00037 MSE (0.02 RMSE)\n"
     ]
    },
    {
     "data": {
      "text/plain": [
       "(0.0003710565636182714, 0.0003710565636182714)"
      ]
     },
     "execution_count": 58,
     "metadata": {},
     "output_type": "execute_result"
    }
   ],
   "source": [
    "model_score(model, X_train, y_train, X_test, y_test)"
   ]
  },
  {
   "cell_type": "code",
   "execution_count": 59,
   "metadata": {
    "collapsed": true
   },
   "outputs": [],
   "source": [
    "def percentage_difference(model, X_test, y_test):\n",
    "    percentage_diff=[]\n",
    "\n",
    "    p = model.predict(X_test)\n",
    "    for u in range(len(y_test)): # for each data index in test data\n",
    "        pr = p[u][0] # pr = prediction on day u\n",
    "\n",
    "        percentage_diff.append((pr-y_test[u]/pr)*100)\n",
    "    print(mean(percentage_diff))\n",
    "    return p"
   ]
  },
  {
   "cell_type": "code",
   "execution_count": 60,
   "metadata": {},
   "outputs": [
    {
     "name": "stdout",
     "output_type": "stream",
     "text": [
      "-57.38379361472257\n"
     ]
    }
   ],
   "source": [
    "p = percentage_difference(model, X_test, y_test)"
   ]
  },
  {
   "cell_type": "code",
   "execution_count": 61,
   "metadata": {
    "collapsed": true
   },
   "outputs": [],
   "source": [
    "def plot_result_norm(stock_name, normalized_value_p, normalized_value_y_test):\n",
    "    newp=normalized_value_p\n",
    "    newy_test=normalized_value_y_test\n",
    "    plt2.plot(newp, color='red', label='Prediction')\n",
    "    plt2.plot(newy_test,color='blue', label='Actual')\n",
    "    plt2.legend(loc='best')\n",
    "    plt2.title('The test result for {}'.format(stock_name))\n",
    "    plt2.xlabel('5 Min ahead Forecast')\n",
    "    plt2.ylabel('Price')\n",
    "    plt2.show()"
   ]
  },
  {
   "cell_type": "code",
   "execution_count": 62,
   "metadata": {},
   "outputs": [
    {
     "data": {
      "image/png": "[encoded data removed]",
      "text/plain": [
       "<matplotlib.figure.Figure at 0x1a194aabe0>"
      ]
     },
     "metadata": {},
     "output_type": "display_data"
    }
   ],
   "source": [
    "plot_result_norm(\"GBP Curncy\", p, y_test)"
   ]
  },
  {
   "cell_type": "code",
   "execution_count": 69,
   "metadata": {
    "collapsed": true
   },
   "outputs": [],
   "source": [
    "def denormalize(stock_name, normalized_value,split=0.7,predict=True):\n",
    "    \"\"\"\n",
    "    Return a dataframe of that stock and normalize all the values. \n",
    "    (Optional: create moving average)\n",
    "    \"\"\"\n",
    "    df = xl.parse(stock_name)\n",
    "    df.drop(['VOLUME'], 1, inplace=True)\n",
    "    df.set_index('Date', inplace=True)\n",
    "    \n",
    "    # Renaming all the columns so that we can use the old version code\n",
    "    df.rename(columns={'OPEN': 'Open', 'HIGH': 'High', 'LOW': 'Low', 'NUMBER_TICKS': 'Volume', 'LAST_PRICE': 'Adj Close'}, inplace=True)\n",
    "\n",
    "\n",
    "    df.dropna(inplace=True)\n",
    "    df = df['Adj Close'].values.reshape(-1,1)\n",
    "    normalized_value = normalized_value.reshape(-1,1)\n",
    "    \n",
    "    row = round(split * df.shape[0]) \n",
    "    if predict:\n",
    "        df_p=df[0:row].copy()\n",
    "    else:\n",
    "        df_p=df[row:len(df)].copy()\n",
    "    \n",
    "    #return df.shape, p.shape\n",
    "    mean_df=np.mean(df_p)\n",
    "    std_df=np.std(df_p)\n",
    "    new=normalized_value*mean_df+std_df\n",
    "      \n",
    "    return new"
   ]
  },
  {
   "cell_type": "code",
   "execution_count": null,
   "metadata": {},
   "outputs": [],
   "source": [
    "def portfolio(currency_list,file = 'FX-5.xlsx',seq_len = 22,shape = [seq_len, 9, 1],neurons = [256, 256, 32, 1],dropout = 0.3,decay = 0.5,\n",
    "              epochs = 90,ma=[50, 100, 200],split=0.7):\n",
    "    i=0\n",
    "    mini=99999999\n",
    "    for currency in currency_list:\n",
    "        df=get_stock_data(currency,  ma)\n",
    "        X_train, y_train, X_test, y_test = load_data(df,True,seq_len,split,ma)\n",
    "        model = build_model_CNN(shape, neurons, dropout, decay)\n",
    "        model.fit(X_train,y_train,batch_size=512,epochs=epochs,validation_split=0.3,verbose=1)\n",
    "        p = percentage_difference(model, X_test, y_test)\n",
    "        newp = denormalize(currency, p,predict=True)\n",
    "        if mini>p.size:\n",
    "            mini=p.size\n",
    "        if i==0:\n",
    "            predict=p.copy()\n",
    "        else:\n",
    "            predict=np.hstack((predict[0:mini],p[0:mini]))\n",
    "        i+=1\n",
    "    return predict\n",
    "\n"
   ]
  },
  {
   "cell_type": "code",
   "execution_count": null,
   "metadata": {},
   "outputs": [],
   "source": [
    "currency_list=[ 'GBP Curncy',\n",
    " 'JPY Curncy',\n",
    " 'EUR Curncy',\n",
    " 'CAD Curncy',\n",
    " 'NZD Curncy',\n",
    " 'SEK Curncy',\n",
    " 'AUD Curncy',\n",
    " 'CHF Curncy',\n",
    " 'NOK Curncy',\n",
    " 'ZAR Curncy']\n",
    "#currency_list=['JPY Curncy']\n",
    "predictcur=portfolio(currency_list,file = 'FX-5.xlsx',seq_len = 22,shape = [seq_len, 9, 1],neurons = [256, 256, 32, 1],dropout = 0.3,decay = 0.5,\n",
    "              epochs = 1,ma=[50, 100, 200],split=0.7)"
   ]
  },
  {
   "cell_type": "code",
   "execution_count": 168,
   "metadata": {
    "collapsed": true
   },
   "outputs": [],
   "source": [
    "# takes current_weights (n,1), previous_prices(n,t), next_price_pred(n,1) outputs updated_weighted (n,1)\n",
    "def rebalance(current_weights, previous_prices, next_price_prediction, transaction_cost=0.0005):\n",
    "    expected_return = np.log(next_price_prediction/previous_prices[:,-1])\n",
    "    sharpe = expected_return/previous_prices.std(axis=1)\n",
    "    w = sharpe/np.sum(sharpe)\n",
    "    delta_w = (w - current_weights)/current_weights\n",
    "    change = np.repeat(0,11)\n",
    "    for i in range(len(current_weights)):\n",
    "        if (delta_w[0,i-1]*(expected_return[0,i-1] - transaction_cost) > 0 ) :\n",
    "            change[i-1] = w[0,i-1]\n",
    "    total_change = (1 - np.sum(current_weights[change == 0]))\n",
    "    upd_weights = change * total_change/np.sum(change[change!=0])\n",
    "    upd_weights[upd_weights==0] = current_weights[upd_weights==0]\n",
    "    return upd_weights\n",
    "\n",
    "            \n",
    "            \n",
    "    \n",
    "    \n",
    "    "
   ]
  },
  {
   "cell_type": "code",
   "execution_count": 110,
   "metadata": {
    "collapsed": true
   },
   "outputs": [],
   "source": [
    "import pylab\n",
    "\n",
    "import random\n",
    "\n",
    "random.seed()\n",
    "previous_prices = np.array([random.gauss(100, 1) for _ in range(11*100)])\n",
    "previous_prices = np.reshape(past,(11,100))\n",
    "#np.shape(previous_prices)\n",
    "#np.shape(previous_prices[:,-1])\n",
    "#len(current_weights)\n",
    "current_weights = np.repeat(1/11,11)\n",
    "#previous_prices = np.repeat(100,11)\n",
    "next_price_prediction = np.array([[95,96,97,98,99,100,101,102,103,104,105]])\n"
   ]
  },
  {
   "cell_type": "code",
   "execution_count": 170,
   "metadata": {},
   "outputs": [
    {
     "data": {
      "text/plain": [
       "array([-0.54545455, -0.27272727, -0.27272727,  0.09090909,  0.09090909,\n",
       "        0.09090909,  0.09090909,  0.09090909,  0.27272727,  0.54545455,\n",
       "        0.81818182])"
      ]
     },
     "execution_count": 170,
     "metadata": {},
     "output_type": "execute_result"
    }
   ],
   "source": [
    "rebalance(current_weights, previous_prices, next_price_prediction, transaction_cost=0.0005)"
   ]
  },
  {
   "cell_type": "code",
   "execution_count": 171,
   "metadata": {},
   "outputs": [
    {
     "ename": "SyntaxError",
     "evalue": "unexpected EOF while parsing (<ipython-input-171-89c94c355f26>, line 2)",
     "output_type": "error",
     "traceback": [
      "\u001b[0;36m  File \u001b[0;32m\"<ipython-input-171-89c94c355f26>\"\u001b[0;36m, line \u001b[0;32m2\u001b[0m\n\u001b[0;31m    \u001b[0m\n\u001b[0m    ^\u001b[0m\n\u001b[0;31mSyntaxError\u001b[0m\u001b[0;31m:\u001b[0m unexpected EOF while parsing\n"
     ]
    }
   ],
   "source": [
    "def backtest(prices, predictions, initial_weights, length_past):\n",
    "    \n"
   ]
  },
  {
   "cell_type": "code",
   "execution_count": null,
   "metadata": {
    "collapsed": true
   },
   "outputs": [],
   "source": []
  },
  {
   "cell_type": "code",
   "execution_count": 67,
   "metadata": {
    "collapsed": true
   },
   "outputs": [],
   "source": [
    "def plot_result(stock_name, normalized_value_p, normalized_value_y_test):\n",
    "    newp = denormalize(stock_name, normalized_value_p,predict=True)\n",
    "    newy_test = denormalize(stock_name, normalized_value_y_test,predict=False)\n",
    "    plt2.plot(newp, color='red', label='Prediction')\n",
    "    plt2.plot(newy_test,color='blue', label='Actual')\n",
    "    plt2.legend(loc='best')\n",
    "    plt2.title('The test result for {}'.format(stock_name))\n",
    "    plt2.xlabel('5 Min ahead Forecast')\n",
    "    plt2.ylabel('Price')\n",
    "    plt2.show()"
   ]
  },
  {
   "cell_type": "code",
   "execution_count": 68,
   "metadata": {},
   "outputs": [
    {
     "data": {
      "image/png": "[encoded data removed]",
      "text/plain": [
       "<matplotlib.figure.Figure at 0x1a2b2f8438>"
      ]
     },
     "metadata": {},
     "output_type": "display_data"
    }
   ],
   "source": [
    "plot_result(\"GBP Curncy\", p, y_test)"
   ]
  },
  {
   "cell_type": "code",
   "execution_count": 85,
   "metadata": {
    "collapsed": true
   },
   "outputs": [],
   "source": [
    "s=denormalize(\"GBP Curncy\", y_test)"
   ]
  },
  {
   "cell_type": "markdown",
   "metadata": {},
   "source": [
    "# WORKSPACE"
   ]
  },
  {
   "cell_type": "code",
   "execution_count": 96,
   "metadata": {},
   "outputs": [
    {
     "data": {
      "text/plain": [
       "[<matplotlib.lines.Line2D at 0x1a31221a20>]"
      ]
     },
     "execution_count": 96,
     "metadata": {},
     "output_type": "execute_result"
    },
    {
     "data": {
      "image/png": "[encoded data removed]",
      "text/plain": [
       "<matplotlib.figure.Figure at 0x1a35962ac8>"
      ]
     },
     "metadata": {},
     "output_type": "display_data"
    }
   ],
   "source": [
    "plt2.plot(s, color='red', label='Prediction')"
   ]
  },
  {
   "cell_type": "code",
   "execution_count": null,
   "metadata": {
    "collapsed": true
   },
   "outputs": [],
   "source": [
    "    stock=df_GBP\n",
    "    split=0.7\n",
    "    amount_of_features = len(stock.columns)\n",
    "    print (\"Amount of features = {}\".format(amount_of_features))\n",
    "    data = stock.as_matrix()\n",
    "    sequence_length = seq_len + 1 \n",
    "    result = []\n",
    "\n",
    "    for index in range(len(data) - sequence_length): \n",
    "        result.append(data[index: index + sequence_length]) \n",
    "\n",
    "    result = np.array(result)\n",
    "    row = round(split * result.shape[0]) \n",
    "    print (\"Amount of training data = {}\".format(split * result.shape[0]))\n",
    "    print (\"Amount of testing data = {}\".format((1-split) * result.shape[0]))\n",
    "\n",
    "    train = result[:int(row), :] \n",
    "    X_train = train[:, :-1] # all data until day m\n",
    "    y_train = train[:, -1][:,-1] # day m + 1 adjusted close price\n",
    "\n",
    "    X_test = result[int(row):, :-1]\n",
    "    y_test = result[int(row):, -1][:,-1]\n",
    "\n",
    "    X_train = np.reshape(X_train, (X_train.shape[0], X_train.shape[1], amount_of_features))\n",
    "    X_test = np.reshape(X_test, (X_test.shape[0], X_test.shape[1], amount_of_features))"
   ]
  },
  {
   "cell_type": "code",
   "execution_count": 99,
   "metadata": {},
   "outputs": [
    {
     "name": "stdout",
     "output_type": "stream",
     "text": [
      "Amount of features = 9\n"
     ]
    }
   ],
   "source": [
    "    stock=df_GBP\n",
    "    split=0.7\n",
    "    amount_of_features = len(stock.columns)\n",
    "    print (\"Amount of features = {}\".format(amount_of_features))\n",
    "    data = stock.as_matrix()\n",
    "    sequence_length = seq_len + 1 \n",
    "    result = []"
   ]
  },
  {
   "cell_type": "code",
   "execution_count": 100,
   "metadata": {},
   "outputs": [
    {
     "name": "stdout",
     "output_type": "stream",
     "text": [
      "Amount of training data = 13981.8\n",
      "Amount of testing data = 5992.200000000001\n"
     ]
    }
   ],
   "source": [
    "    for index in range(len(data) - sequence_length): \n",
    "        result.append(data[index: index + sequence_length]) \n",
    "\n",
    "    result = np.array(result)\n",
    "    row = round(split * result.shape[0]) \n",
    "    print (\"Amount of training data = {}\".format(split * result.shape[0]))\n",
    "    print (\"Amount of testing data = {}\".format((1-split) * result.shape[0]))\n",
    "\n"
   ]
  },
  {
   "cell_type": "code",
   "execution_count": 101,
   "metadata": {
    "collapsed": true
   },
   "outputs": [],
   "source": [
    "    train = result[:int(row), :] \n",
    "    X_train = train[:, :-1] # all data until day m\n",
    "    y_train = train[:, -1][:,-1] # day m + 1 adjusted close price\n",
    "\n"
   ]
  },
  {
   "cell_type": "code",
   "execution_count": 106,
   "metadata": {},
   "outputs": [
    {
     "data": {
      "text/plain": [
       "array([[0.78544061, 0.79961089, 0.78998073, 0.18487646, 0.73263144,\n",
       "        0.80178064, 0.85258554, 0.87962225, 0.79885057],\n",
       "       [0.79885057, 0.79766537, 0.77842004, 0.20749075, 0.6302588 ,\n",
       "        0.79992581, 0.85168128, 0.8792669 , 0.77777778],\n",
       "       [0.77777778, 0.78210117, 0.77842004, 0.26946511, 0.69849806,\n",
       "        0.79815341, 0.85088217, 0.87889001, 0.77969349],\n",
       "       [0.77969349, 0.79182879, 0.78034682, 0.19646395, 0.72694989,\n",
       "        0.79691686, 0.85020924, 0.87857774, 0.79118774],\n",
       "       [0.79118774, 0.78793774, 0.79190751, 0.14544163, 0.68143137,\n",
       "        0.79568031, 0.84941013, 0.87825469, 0.78735632],\n",
       "       [0.78735632, 0.79182879, 0.76300578, 0.23328225, 0.61885336,\n",
       "        0.79419645, 0.84833764, 0.87782396, 0.76245211],\n",
       "       [0.76245211, 0.75680934, 0.74566474, 0.26950249, 0.63586454,\n",
       "        0.79250649, 0.84694972, 0.87728555, 0.74329502],\n",
       "       [0.74329502, 0.75291829, 0.74759152, 0.17295257, 0.73269675,\n",
       "        0.7911875 , 0.84564591, 0.87682252, 0.75670498],\n",
       "       [0.75670498, 0.76070039, 0.75529865, 0.16708407, 0.71558934,\n",
       "        0.79036313, 0.84440519, 0.87640256, 0.76436782],\n",
       "       [0.76436782, 0.76070039, 0.75722543, 0.17867155, 0.69280719,\n",
       "        0.78945633, 0.84314344, 0.87591799, 0.76436782],\n",
       "       [0.76436782, 0.76653696, 0.76685934, 0.15766456, 0.69850103,\n",
       "        0.78879683, 0.84194478, 0.8755088 , 0.76628352],\n",
       "       [0.76628352, 0.76264591, 0.75722543, 0.15680484, 0.68142036,\n",
       "        0.78817856, 0.84074611, 0.87504576, 0.76245211],\n",
       "       [0.76245211, 0.75875486, 0.75337187, 0.23126378, 0.67003013,\n",
       "        0.78723053, 0.83940025, 0.87450735, 0.75478927],\n",
       "       [0.75478927, 0.75291829, 0.74373796, 0.23421672, 0.67002334,\n",
       "        0.78628251, 0.83788615, 0.8739151 , 0.74712644],\n",
       "       [0.74712644, 0.75486381, 0.74759152, 0.20154749, 0.73269081,\n",
       "        0.78582911, 0.83639308, 0.87338746, 0.7605364 ],\n",
       "       [0.7605364 , 0.76070039, 0.76493256, 0.15355287, 0.69280719,\n",
       "        0.78541692, 0.83496309, 0.87284905, 0.7605364 ],\n",
       "       [0.7605364 , 0.76264591, 0.761079  , 0.16263597, 0.70419657,\n",
       "        0.78566423, 0.83355414, 0.87233218, 0.76436782],\n",
       "       [0.76436782, 0.76264591, 0.76685934, 0.16446754, 0.70419487,\n",
       "        0.78578789, 0.83214519, 0.8718153 , 0.76819923],\n",
       "       [0.76819923, 0.76848249, 0.77071291, 0.18999738, 0.70419317,\n",
       "        0.78582911, 0.83050491, 0.87129843, 0.77203065],\n",
       "       [0.77203065, 0.77042802, 0.76493256, 0.16297238, 0.66434647,\n",
       "        0.78566423, 0.82875949, 0.87073848, 0.76245211],\n",
       "       [0.76245211, 0.75875486, 0.73795761, 0.23802938, 0.61308749,\n",
       "        0.78467499, 0.8266776 , 0.87004932, 0.73563218],\n",
       "       [0.73563218, 0.73929961, 0.73795761, 0.18760513, 0.71560802,\n",
       "        0.78397428, 0.82499527, 0.86933862, 0.74329502]])"
      ]
     },
     "execution_count": 106,
     "metadata": {},
     "output_type": "execute_result"
    }
   ],
   "source": [
    "X_train[1]"
   ]
  },
  {
   "cell_type": "code",
   "execution_count": 107,
   "metadata": {},
   "outputs": [
    {
     "data": {
      "text/plain": [
       "array([0.74329502, 0.74329502, 0.74329502, ..., 0.96934866, 0.96743295,\n",
       "       0.95785441])"
      ]
     },
     "execution_count": 107,
     "metadata": {},
     "output_type": "execute_result"
    }
   ],
   "source": [
    "y_train"
   ]
  },
  {
   "cell_type": "code",
   "execution_count": 109,
   "metadata": {
    "collapsed": true
   },
   "outputs": [],
   "source": [
    " X_train = np.reshape(X_train, (X_train.shape[0], X_train.shape[1], amount_of_features))"
   ]
  },
  {
   "cell_type": "code",
   "execution_count": 111,
   "metadata": {},
   "outputs": [
    {
     "data": {
      "text/plain": [
       "array([[0.79501916, 0.79377432, 0.7822736 , 0.16065488, 0.66437187,\n",
       "        0.80309962, 0.85321641, 0.87984838, 0.78544061],\n",
       "       [0.78544061, 0.79961089, 0.78998073, 0.18487646, 0.73263144,\n",
       "        0.80178064, 0.85258554, 0.87962225, 0.79885057],\n",
       "       [0.79885057, 0.79766537, 0.77842004, 0.20749075, 0.6302588 ,\n",
       "        0.79992581, 0.85168128, 0.8792669 , 0.77777778],\n",
       "       [0.77777778, 0.78210117, 0.77842004, 0.26946511, 0.69849806,\n",
       "        0.79815341, 0.85088217, 0.87889001, 0.77969349],\n",
       "       [0.77969349, 0.79182879, 0.78034682, 0.19646395, 0.72694989,\n",
       "        0.79691686, 0.85020924, 0.87857774, 0.79118774],\n",
       "       [0.79118774, 0.78793774, 0.79190751, 0.14544163, 0.68143137,\n",
       "        0.79568031, 0.84941013, 0.87825469, 0.78735632],\n",
       "       [0.78735632, 0.79182879, 0.76300578, 0.23328225, 0.61885336,\n",
       "        0.79419645, 0.84833764, 0.87782396, 0.76245211],\n",
       "       [0.76245211, 0.75680934, 0.74566474, 0.26950249, 0.63586454,\n",
       "        0.79250649, 0.84694972, 0.87728555, 0.74329502],\n",
       "       [0.74329502, 0.75291829, 0.74759152, 0.17295257, 0.73269675,\n",
       "        0.7911875 , 0.84564591, 0.87682252, 0.75670498],\n",
       "       [0.75670498, 0.76070039, 0.75529865, 0.16708407, 0.71558934,\n",
       "        0.79036313, 0.84440519, 0.87640256, 0.76436782],\n",
       "       [0.76436782, 0.76070039, 0.75722543, 0.17867155, 0.69280719,\n",
       "        0.78945633, 0.84314344, 0.87591799, 0.76436782],\n",
       "       [0.76436782, 0.76653696, 0.76685934, 0.15766456, 0.69850103,\n",
       "        0.78879683, 0.84194478, 0.8755088 , 0.76628352],\n",
       "       [0.76628352, 0.76264591, 0.75722543, 0.15680484, 0.68142036,\n",
       "        0.78817856, 0.84074611, 0.87504576, 0.76245211],\n",
       "       [0.76245211, 0.75875486, 0.75337187, 0.23126378, 0.67003013,\n",
       "        0.78723053, 0.83940025, 0.87450735, 0.75478927],\n",
       "       [0.75478927, 0.75291829, 0.74373796, 0.23421672, 0.67002334,\n",
       "        0.78628251, 0.83788615, 0.8739151 , 0.74712644],\n",
       "       [0.74712644, 0.75486381, 0.74759152, 0.20154749, 0.73269081,\n",
       "        0.78582911, 0.83639308, 0.87338746, 0.7605364 ],\n",
       "       [0.7605364 , 0.76070039, 0.76493256, 0.15355287, 0.69280719,\n",
       "        0.78541692, 0.83496309, 0.87284905, 0.7605364 ],\n",
       "       [0.7605364 , 0.76264591, 0.761079  , 0.16263597, 0.70419657,\n",
       "        0.78566423, 0.83355414, 0.87233218, 0.76436782],\n",
       "       [0.76436782, 0.76264591, 0.76685934, 0.16446754, 0.70419487,\n",
       "        0.78578789, 0.83214519, 0.8718153 , 0.76819923],\n",
       "       [0.76819923, 0.76848249, 0.77071291, 0.18999738, 0.70419317,\n",
       "        0.78582911, 0.83050491, 0.87129843, 0.77203065],\n",
       "       [0.77203065, 0.77042802, 0.76493256, 0.16297238, 0.66434647,\n",
       "        0.78566423, 0.82875949, 0.87073848, 0.76245211],\n",
       "       [0.76245211, 0.75875486, 0.73795761, 0.23802938, 0.61308749,\n",
       "        0.78467499, 0.8266776 , 0.87004932, 0.73563218]])"
      ]
     },
     "execution_count": 111,
     "metadata": {},
     "output_type": "execute_result"
    }
   ],
   "source": [
    "X_train[0]"
   ]
  },
  {
   "cell_type": "code",
   "execution_count": 112,
   "metadata": {},
   "outputs": [
    {
     "data": {
      "text/plain": [
       "array([0.95402299, 0.95785441, 0.95785441, ..., 0.91187739, 0.90996169,\n",
       "       0.91762452])"
      ]
     },
     "execution_count": 112,
     "metadata": {},
     "output_type": "execute_result"
    }
   ],
   "source": [
    "y_test"
   ]
  },
  {
   "cell_type": "code",
   "execution_count": 113,
   "metadata": {},
   "outputs": [
    {
     "data": {
      "text/plain": [
       "5992"
      ]
     },
     "execution_count": 113,
     "metadata": {},
     "output_type": "execute_result"
    }
   ],
   "source": [
    "len(y_test)"
   ]
  },
  {
   "cell_type": "code",
   "execution_count": 114,
   "metadata": {
    "collapsed": true
   },
   "outputs": [],
   "source": [
    "p = model.predict(X_test)"
   ]
  },
  {
   "cell_type": "code",
   "execution_count": 115,
   "metadata": {},
   "outputs": [
    {
     "data": {
      "text/plain": [
       "array([[0.95628846],\n",
       "       [0.9523339 ],\n",
       "       [0.94992006],\n",
       "       ...,\n",
       "       [0.9034717 ],\n",
       "       [0.904866  ],\n",
       "       [0.90557444]], dtype=float32)"
      ]
     },
     "execution_count": 115,
     "metadata": {},
     "output_type": "execute_result"
    }
   ],
   "source": [
    "p"
   ]
  },
  {
   "cell_type": "code",
   "execution_count": 116,
   "metadata": {},
   "outputs": [
    {
     "data": {
      "text/plain": [
       "5992"
      ]
     },
     "execution_count": 116,
     "metadata": {},
     "output_type": "execute_result"
    }
   ],
   "source": [
    "len(p)"
   ]
  },
  {
   "cell_type": "code",
   "execution_count": 117,
   "metadata": {},
   "outputs": [
    {
     "ename": "NotFittedError",
     "evalue": "This MinMaxScaler instance is not fitted yet. Call 'fit' with appropriate arguments before using this method.",
     "output_type": "error",
     "traceback": [
      "\u001b[0;31m---------------------------------------------------------------------------\u001b[0m",
      "\u001b[0;31mNotFittedError\u001b[0m                            Traceback (most recent call last)",
      "\u001b[0;32m<ipython-input-117-6dd00522ee6e>\u001b[0m in \u001b[0;36m<module>\u001b[0;34m()\u001b[0m\n\u001b[1;32m      1\u001b[0m \u001b[0mmin_max_scaler\u001b[0m \u001b[0;34m=\u001b[0m \u001b[0mpreprocessing\u001b[0m\u001b[0;34m.\u001b[0m\u001b[0mMinMaxScaler\u001b[0m\u001b[0;34m(\u001b[0m\u001b[0;34m)\u001b[0m\u001b[0;34m\u001b[0m\u001b[0m\n\u001b[1;32m      2\u001b[0m \u001b[0;34m\u001b[0m\u001b[0m\n\u001b[0;32m----> 3\u001b[0;31m \u001b[0mnew\u001b[0m \u001b[0;34m=\u001b[0m \u001b[0mmin_max_scaler\u001b[0m\u001b[0;34m.\u001b[0m\u001b[0minverse_transform\u001b[0m\u001b[0;34m(\u001b[0m\u001b[0mp\u001b[0m\u001b[0;34m)\u001b[0m\u001b[0;34m\u001b[0m\u001b[0m\n\u001b[0m\u001b[1;32m      4\u001b[0m \u001b[0;34m\u001b[0m\u001b[0m\n",
      "\u001b[0;32m/anaconda3/lib/python3.6/site-packages/sklearn/preprocessing/data.py\u001b[0m in \u001b[0;36minverse_transform\u001b[0;34m(self, X)\u001b[0m\n\u001b[1;32m    379\u001b[0m             \u001b[0mInput\u001b[0m \u001b[0mdata\u001b[0m \u001b[0mthat\u001b[0m \u001b[0mwill\u001b[0m \u001b[0mbe\u001b[0m \u001b[0mtransformed\u001b[0m\u001b[0;34m.\u001b[0m \u001b[0mIt\u001b[0m \u001b[0mcannot\u001b[0m \u001b[0mbe\u001b[0m \u001b[0msparse\u001b[0m\u001b[0;34m.\u001b[0m\u001b[0;34m\u001b[0m\u001b[0m\n\u001b[1;32m    380\u001b[0m         \"\"\"\n\u001b[0;32m--> 381\u001b[0;31m         \u001b[0mcheck_is_fitted\u001b[0m\u001b[0;34m(\u001b[0m\u001b[0mself\u001b[0m\u001b[0;34m,\u001b[0m \u001b[0;34m'scale_'\u001b[0m\u001b[0;34m)\u001b[0m\u001b[0;34m\u001b[0m\u001b[0m\n\u001b[0m\u001b[1;32m    382\u001b[0m \u001b[0;34m\u001b[0m\u001b[0m\n\u001b[1;32m    383\u001b[0m         \u001b[0mX\u001b[0m \u001b[0;34m=\u001b[0m \u001b[0mcheck_array\u001b[0m\u001b[0;34m(\u001b[0m\u001b[0mX\u001b[0m\u001b[0;34m,\u001b[0m \u001b[0mcopy\u001b[0m\u001b[0;34m=\u001b[0m\u001b[0mself\u001b[0m\u001b[0;34m.\u001b[0m\u001b[0mcopy\u001b[0m\u001b[0;34m,\u001b[0m \u001b[0mdtype\u001b[0m\u001b[0;34m=\u001b[0m\u001b[0mFLOAT_DTYPES\u001b[0m\u001b[0;34m)\u001b[0m\u001b[0;34m\u001b[0m\u001b[0m\n",
      "\u001b[0;32m/anaconda3/lib/python3.6/site-packages/sklearn/utils/validation.py\u001b[0m in \u001b[0;36mcheck_is_fitted\u001b[0;34m(estimator, attributes, msg, all_or_any)\u001b[0m\n\u001b[1;32m    766\u001b[0m \u001b[0;34m\u001b[0m\u001b[0m\n\u001b[1;32m    767\u001b[0m     \u001b[0;32mif\u001b[0m \u001b[0;32mnot\u001b[0m \u001b[0mall_or_any\u001b[0m\u001b[0;34m(\u001b[0m\u001b[0;34m[\u001b[0m\u001b[0mhasattr\u001b[0m\u001b[0;34m(\u001b[0m\u001b[0mestimator\u001b[0m\u001b[0;34m,\u001b[0m \u001b[0mattr\u001b[0m\u001b[0;34m)\u001b[0m \u001b[0;32mfor\u001b[0m \u001b[0mattr\u001b[0m \u001b[0;32min\u001b[0m \u001b[0mattributes\u001b[0m\u001b[0;34m]\u001b[0m\u001b[0;34m)\u001b[0m\u001b[0;34m:\u001b[0m\u001b[0;34m\u001b[0m\u001b[0m\n\u001b[0;32m--> 768\u001b[0;31m         \u001b[0;32mraise\u001b[0m \u001b[0mNotFittedError\u001b[0m\u001b[0;34m(\u001b[0m\u001b[0mmsg\u001b[0m \u001b[0;34m%\u001b[0m \u001b[0;34m{\u001b[0m\u001b[0;34m'name'\u001b[0m\u001b[0;34m:\u001b[0m \u001b[0mtype\u001b[0m\u001b[0;34m(\u001b[0m\u001b[0mestimator\u001b[0m\u001b[0;34m)\u001b[0m\u001b[0;34m.\u001b[0m\u001b[0m__name__\u001b[0m\u001b[0;34m}\u001b[0m\u001b[0;34m)\u001b[0m\u001b[0;34m\u001b[0m\u001b[0m\n\u001b[0m\u001b[1;32m    769\u001b[0m \u001b[0;34m\u001b[0m\u001b[0m\n\u001b[1;32m    770\u001b[0m \u001b[0;34m\u001b[0m\u001b[0m\n",
      "\u001b[0;31mNotFittedError\u001b[0m: This MinMaxScaler instance is not fitted yet. Call 'fit' with appropriate arguments before using this method."
     ]
    }
   ],
   "source": [
    "min_max_scaler = preprocessing.MinMaxScaler()\n",
    "\n",
    "new = min_max_scaler.inverse_transform(p)\n",
    "      "
   ]
  },
  {
   "cell_type": "code",
   "execution_count": 125,
   "metadata": {},
   "outputs": [
    {
     "data": {
      "text/plain": [
       "9987"
      ]
     },
     "execution_count": 125,
     "metadata": {},
     "output_type": "execute_result"
    }
   ],
   "source": [
    "len(X_train)"
   ]
  },
  {
   "cell_type": "code",
   "execution_count": 126,
   "metadata": {},
   "outputs": [
    {
     "data": {
      "text/plain": [
       "20197"
      ]
     },
     "execution_count": 126,
     "metadata": {},
     "output_type": "execute_result"
    }
   ],
   "source": [
    "len(df)"
   ]
  },
  {
   "cell_type": "code",
   "execution_count": null,
   "metadata": {
    "collapsed": true
   },
   "outputs": [],
   "source": []
  }
 ],
 "metadata": {
  "kernelspec": {
   "display_name": "Python 3",
   "language": "python",
   "name": "python3"
  },
  "language_info": {
   "codemirror_mode": {
    "name": "ipython",
    "version": 3
   },
   "file_extension": ".py",
   "mimetype": "text/x-python",
   "name": "python",
   "nbconvert_exporter": "python",
   "pygments_lexer": "ipython3",
   "version": "3.6.4"
  }
 },
 "nbformat": 4,
 "nbformat_minor": 2
}
